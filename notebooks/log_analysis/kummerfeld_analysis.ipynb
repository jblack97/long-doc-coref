{
 "cells": [
  {
   "cell_type": "code",
   "execution_count": 36,
   "metadata": {},
   "outputs": [],
   "source": [
    "from os import path\n",
    "import os\n",
    "import glob\n",
    "import json\n",
    "\n",
    "import logging\n",
    "from string import Template\n",
    "logging.basicConfig(format='%(asctime)s - %(message)s', level=logging.INFO)"
   ]
  },
  {
   "cell_type": "code",
   "execution_count": 37,
   "metadata": {},
   "outputs": [],
   "source": [
    "ontonotes_log_dir=\"/home/shtoshni/Research/litbank_coref/models/ontonotes_preds\"\n",
    "ontonotes_files = glob.glob(path.join(ontonotes_log_dir, \"*.conll\"))\n",
    "\n",
    "gold_data_dir=\"/scratch/Research/mandar_coref/coref/data/conll-2012/v4/data/development/data/english/annotations\"\n",
    "error_analysis_dir = \"/home/shtoshni/Research/litbank_coref/error_analysis/berkeley-coreference-analyser/logs\"\n",
    "script = \"/home/shtoshni/Research/litbank_coref/error_analysis/berkeley-coreference-analyser/classify_coreference_errors.py\"\n",
    "# print(ontonotes_files)"
   ]
  },
  {
   "cell_type": "code",
   "execution_count": 38,
   "metadata": {},
   "outputs": [],
   "source": [
    "model_name = None\n",
    "command = Template(f'python2.7 {script} {error_analysis_dir}/$model {gold_data_dir} {ontonotes_log_dir}/$model')"
   ]
  },
  {
   "cell_type": "code",
   "execution_count": 43,
   "metadata": {},
   "outputs": [],
   "source": [
    "for model_name in ['unbounded_20', 'unbounded_20_no_ignore', 'learned_5', 'learned_10', 'learned_20',\n",
    "                  'lru_5', 'lru_10', 'lru_20']:\n",
    "            \n",
    "    model_command = command.substitute(model=model_name) + '_dev.conll'\n",
    "#     model_command = command.format(model_name, model_name)\n",
    "#     print(model_command)\n",
    "    os.popen(model_command)"
   ]
  },
  {
   "cell_type": "code",
   "execution_count": 40,
   "metadata": {},
   "outputs": [],
   "source": [
    "summary_files = glob.glob(path.join(error_analysis_dir, \"*.summary\"))\n",
    "# print(summary_files)"
   ]
  },
  {
   "cell_type": "code",
   "execution_count": 45,
   "metadata": {},
   "outputs": [
    {
     "name": "stdout",
     "output_type": "stream",
     "text": [
      "unbounded_20 & 243& 853& 496& 515& 904& 545& 603\n",
      "unbounded_20_no_ignore & 242& 754& 466& 504& 816& 527& 583\n",
      "learned_5 & 215& 706& 381& 340& 972& 844& 1116\n",
      "learned_10 & 223& 757& 425& 340& 868& 655& 894\n",
      "learned_20 & 232& 752& 396& 402& 859& 613& 799\n",
      "lru_5 & 208& 672& 369& 365& 1146& 923& 1359\n",
      "lru_10 & 226& 722& 393& 403& 986& 696& 931\n",
      "lru_20 & 226& 713& 420& 380& 833& 559& 853\n"
     ]
    }
   ],
   "source": [
    "for model_name in ['unbounded_20', 'unbounded_20_no_ignore', 'learned_5', 'learned_10', 'learned_20',\n",
    "                  'lru_5', 'lru_10', 'lru_20']:\n",
    "    summary_file = f\"/home/shtoshni/Research/litbank_coref/error_analysis/berkeley-coreference-analyser/logs/{model_name}.summary\"\n",
    "    with open(summary_file) as f:\n",
    "        seen_errors = False\n",
    "        latex_str = f'{model_name} '\n",
    "        for line in f.readlines():\n",
    "            line = line.strip()\n",
    "            if line == 'Errors:':\n",
    "                seen_errors = True\n",
    "                continue\n",
    "                \n",
    "            if seen_errors:\n",
    "                if line != '':\n",
    "#                     print(line)\n",
    "                    error_count, error_type = line.split(\"   \")\n",
    "                    latex_str += f'& {error_count}'\n",
    "                    \n",
    "        print(latex_str)\n",
    "    "
   ]
  }
 ],
 "metadata": {
  "kernelspec": {
   "display_name": "Python [conda env:coref] *",
   "language": "python",
   "name": "conda-env-coref-py"
  },
  "language_info": {
   "codemirror_mode": {
    "name": "ipython",
    "version": 3
   },
   "file_extension": ".py",
   "mimetype": "text/x-python",
   "name": "python",
   "nbconvert_exporter": "python",
   "pygments_lexer": "ipython3",
   "version": "3.6.10"
  }
 },
 "nbformat": 4,
 "nbformat_minor": 4
}
