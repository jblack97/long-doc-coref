{
 "cells": [
  {
   "cell_type": "code",
   "execution_count": 1,
   "metadata": {},
   "outputs": [],
   "source": [
    "import os\n",
    "from os import path\n",
    "import numpy as np\n",
    "import json\n",
    "\n",
    "from metrics import CorefEvaluator\n",
    "from scipy.stats import spearmanr"
   ]
  },
  {
   "cell_type": "code",
   "execution_count": 2,
   "metadata": {},
   "outputs": [],
   "source": [
    "log_dir = \"/home/shtoshni/Research/litbank_coref/models/litbank_preds\"\n",
    "\n",
    "models = [\"unbounded\", \"learned\", \"lru\"]\n",
    "num_cells = [\"5\", \"10\", \"20\"]\n"
   ]
  },
  {
   "cell_type": "code",
   "execution_count": 3,
   "metadata": {},
   "outputs": [],
   "source": [
    "def load_jsonl(file_path):\n",
    "    data = []\n",
    "    with open(file_path, 'r') as f:\n",
    "        for line in f.readlines():\n",
    "            data.append(json.loads(line.strip()))\n",
    "    \n",
    "    return data"
   ]
  },
  {
   "cell_type": "code",
   "execution_count": 4,
   "metadata": {},
   "outputs": [],
   "source": [
    "# Load logs here\n",
    "model_to_logs = {}\n",
    "for model in models:\n",
    "    if model == 'unbounded':\n",
    "        model_file = path.join(log_dir, f\"{model}_20_dev.jsonl\")  # 20 is just the default num_cells\n",
    "        model_to_logs['unbounded'] = load_jsonl(model_file)\n",
    "                \n",
    "    else:\n",
    "        for num_cell in num_cells:\n",
    "            model_file = path.join(log_dir, f\"{model}_{num_cell}_dev.jsonl\")\n",
    "            model_to_logs[f\"{model}_{num_cell}\"] = load_jsonl(model_file)\n",
    "        "
   ]
  },
  {
   "cell_type": "code",
   "execution_count": 5,
   "metadata": {},
   "outputs": [
    {
     "name": "stdout",
     "output_type": "stream",
     "text": [
      "unbounded Counter({'i': 43444, 'c': 19947, 'o': 8079})\n",
      "learned_5 Counter({'i': 44326, 'c': 18844, 'o': 7853, 'n': 447})\n",
      "learned_10 Counter({'i': 44189, 'c': 19919, 'o': 7362})\n",
      "learned_20 Counter({'i': 43868, 'c': 19985, 'o': 7617})\n",
      "lru_5 Counter({'i': 43852, 'c': 17382, 'n': 7000, 'o': 3236})\n",
      "lru_10 Counter({'i': 44019, 'c': 19065, 'o': 6964, 'n': 1422})\n",
      "lru_20 Counter({'i': 43425, 'c': 19899, 'o': 8105, 'n': 41})\n"
     ]
    }
   ],
   "source": [
    "from collections import Counter\n",
    "\n",
    "for model, log_data in model_to_logs.items():\n",
    "    action_counter = Counter()\n",
    "    for example in log_data:\n",
    "        _, pred_actions = zip(*example[\"pred_actions\"])\n",
    "        for action in pred_actions:\n",
    "            action_counter[action] += 1\n",
    "            \n",
    "    \n",
    "    print(model, action_counter)\n",
    "        "
   ]
  },
  {
   "cell_type": "markdown",
   "metadata": {},
   "source": [
    "### Mention Ignored - Learned vs LRU"
   ]
  },
  {
   "cell_type": "code",
   "execution_count": 6,
   "metadata": {},
   "outputs": [
    {
     "name": "stdout",
     "output_type": "stream",
     "text": [
      "unbounded, avg: 0.0\n",
      "learned_5, avg: 4.5\n",
      "learned_10, avg: 0.0\n",
      "learned_20, avg: 0.0\n",
      "lru_5, avg: 70.0\n",
      "lru_10, avg: 14.2\n",
      "lru_20, avg: 0.4\n"
     ]
    }
   ],
   "source": [
    "for model, logs in model_to_logs.items():\n",
    "    mem_usage = []\n",
    "    for log in logs:\n",
    "        over_action = sum([1  for action in log[\"pred_actions\"] if action[1]=='n' ])\n",
    "    \n",
    "        if 'unbounded' not in model:\n",
    "            num_cells = int(model.split('_')[-1])\n",
    "#             over_action = min(over_action, num_cells)\n",
    "\n",
    "        mem_usage.append(over_action) \n",
    "    \n",
    "    \n",
    "    print ('{}, avg: {:.1f}'.format(model, np.mean(mem_usage)))"
   ]
  },
  {
   "cell_type": "markdown",
   "metadata": {},
   "source": [
    "### Number of Entities in Memory "
   ]
  },
  {
   "cell_type": "code",
   "execution_count": 7,
   "metadata": {},
   "outputs": [
    {
     "name": "stdout",
     "output_type": "stream",
     "text": [
      "unbounded, max: 160, avg: 80.8\n",
      "learned_5, max: 5, avg: 5.0\n",
      "learned_10, max: 10, avg: 10.0\n",
      "learned_20, max: 20, avg: 20.0\n",
      "lru_5, max: 5, avg: 5.0\n",
      "lru_10, max: 10, avg: 10.0\n",
      "lru_20, max: 20, avg: 20.0\n"
     ]
    }
   ],
   "source": [
    "for model, logs in model_to_logs.items():\n",
    "    mem_usage = []\n",
    "    for log in logs:\n",
    "        over_action = sum([1  for action in log[\"pred_actions\"] if action[1]=='o' ])\n",
    "    \n",
    "        if 'unbounded' not in model:\n",
    "            num_cells = int(model.split('_')[-1])\n",
    "            over_action = min(over_action, num_cells)\n",
    "\n",
    "        mem_usage.append(over_action) \n",
    "        \n",
    "    print ('{}, max: {}, avg: {:.1f}'.format(model, max(mem_usage), np.mean(mem_usage)))\n",
    "    \n"
   ]
  },
  {
   "cell_type": "markdown",
   "metadata": {},
   "source": [
    "## Spearman Correlations"
   ]
  },
  {
   "cell_type": "code",
   "execution_count": 8,
   "metadata": {},
   "outputs": [],
   "source": [
    "def mention_to_cluster(clusters, threshold=1):\n",
    "    clusters = [tuple(tuple(mention) for mention in cluster)\n",
    "                for cluster in clusters if len(cluster) >= threshold]\n",
    "    mention_to_cluster = {}\n",
    "    for cluster in clusters:\n",
    "        for mention in cluster:\n",
    "            mention_to_cluster[mention] = cluster\n",
    "    return clusters, mention_to_cluster\n",
    "\n",
    "model_perf_per_example = {}\n",
    "for model in model_to_logs:\n",
    "    log_data = model_to_logs[model]\n",
    "    perf_list = []\n",
    "    for example in log_data:\n",
    "        evaluator = CorefEvaluator()\n",
    "                \n",
    "        predicted_clusters, mention_to_predicted =\\\n",
    "            mention_to_cluster(example[\"predicted_clusters\"], threshold=1)\n",
    "        gold_clusters, mention_to_gold =\\\n",
    "            mention_to_cluster(example[\"clusters\"], threshold=1)\n",
    "\n",
    "\n",
    "        evaluator.update(predicted_clusters, gold_clusters,\n",
    "                         mention_to_predicted, mention_to_gold)\n",
    "        \n",
    "        doc_len = example[\"subtoken_map\"][-1] + 1\n",
    "        num_ents = len(gold_clusters)\n",
    "        \n",
    "        example_fscore = evaluator.get_prf()[2] * 100.0\n",
    "        \n",
    "        perf_list.append((doc_len, num_ents, example_fscore, example))\n",
    "        \n",
    "        \n",
    "    model_perf_per_example[model] = perf_list\n",
    "        "
   ]
  },
  {
   "cell_type": "markdown",
   "metadata": {},
   "source": [
    "### Correlations with doc len and Num Ent"
   ]
  },
  {
   "cell_type": "code",
   "execution_count": 9,
   "metadata": {},
   "outputs": [
    {
     "name": "stdout",
     "output_type": "stream",
     "text": [
      "unbounded doc len -0.07 num ent -0.36\n",
      "learned_5 doc len 0.01 num ent -0.23\n",
      "learned_10 doc len -0.06 num ent -0.35\n",
      "learned_20 doc len -0.03 num ent -0.32\n",
      "lru_5 doc len -0.00 num ent -0.41\n",
      "lru_10 doc len 0.01 num ent -0.36\n",
      "lru_20 doc len -0.02 num ent -0.33\n"
     ]
    }
   ],
   "source": [
    "for model in model_perf_per_example:\n",
    "    perf_list = model_perf_per_example[model]\n",
    "    doc_len_list, num_ent_list, fscore, _ = zip(*perf_list)\n",
    "\n",
    "    print('{} doc len {:.2f} num ent {:.2f}'.format(model, spearmanr(doc_len_list, fscore)[0], \n",
    "                                                    spearmanr(num_ent_list, fscore)[0]))"
   ]
  },
  {
   "cell_type": "code",
   "execution_count": 10,
   "metadata": {},
   "outputs": [
    {
     "name": "stdout",
     "output_type": "stream",
     "text": [
      "Num cells 5\n",
      "Learned better docs\n",
      "8867_the_magnificent_ambersons_brat_0, 56.6\n",
      "6593_history_of_tom_jones_a_foundling_brat_0, 37.7\n",
      "24_o_pioneers_brat_0, 28.2\n",
      "LRU better docs\n",
      "940_the_last_of_the_mohicans_a_narrative_of_1757_brat_0, 1.4\n",
      "11231_bartleby_the_scrivener_a_story_of_wallstreet_brat_0, 1.2\n",
      "\n",
      "Num cells 10\n",
      "Learned better docs\n",
      "1260_jane_eyre_an_autobiography_brat_0, 16.4\n",
      "36_the_war_of_the_worlds_brat_0, 15.5\n",
      "41_the_legend_of_sleepy_hollow_brat_0, 15.1\n",
      "LRU better docs\n",
      "829_gullivers_travels_into_several_remote_nations_of_the_world_brat_0, 3.6\n",
      "974_the_secret_agent_a_simple_tale_brat_0, 2.0\n",
      "5348_ragged_dick_or_street_life_in_new_york_with_the_bootblacks_brat_0, 1.5\n",
      "\n",
      "Num cells 20\n",
      "Learned better docs\n",
      "1206_the_flying_u_ranch_brat_0, 6.9\n",
      "599_vanity_fair_brat_0, 6.6\n",
      "1260_jane_eyre_an_autobiography_brat_0, 6.5\n",
      "LRU better docs\n",
      "5230_the_invisible_man_a_grotesque_romance_brat_0, 5.3\n",
      "1023_bleak_house_brat_0, 4.8\n",
      "77_the_house_of_the_seven_gables_brat_0, 4.7\n",
      "\n"
     ]
    }
   ],
   "source": [
    "for num_cells in [5, 10, 20]:\n",
    "    perf_learned_list = model_perf_per_example[f'learned_{num_cells}']\n",
    "    perf_lru_list = model_perf_per_example[f'lru_{num_cells}']\n",
    "\n",
    "    learned_better = []\n",
    "    lru_better = []\n",
    "    for i in range(len(perf_learned_list)):\n",
    "        perf_learned = perf_learned_list[i]\n",
    "        perf_lru = perf_lru_list[i]\n",
    "        \n",
    "        assert (perf_learned[3]['doc_key'] == perf_lru[3]['doc_key'] )\n",
    "        perf_learned = perf_learned_list[i]\n",
    "        perf_lru = perf_lru_list[i]\n",
    "\n",
    "        diff_learned = perf_learned[2] - perf_lru[2] \n",
    "        if diff_learned > 0:\n",
    "            learned_better.append((diff_learned, perf_learned[3]))\n",
    "\n",
    "        diff_lru = -diff_learned\n",
    "        if diff_lru > 0:\n",
    "            lru_better.append((diff_lru, perf_lru[3]))\n",
    "\n",
    "    \n",
    "    print(f'Num cells {num_cells}')\n",
    "    print('Learned better docs')\n",
    "    learned_better = sorted(learned_better, key=lambda x: x[0], reverse=True)\n",
    "    for (diff_score, example) in learned_better[:3]:\n",
    "        print(f'{example[\"doc_key\"]}, {diff_score:.1f}')\n",
    "    print('LRU better docs')\n",
    "    lru_better = sorted(lru_better, key=lambda x: x[0], reverse=True)\n",
    "    for (diff_score, example) in lru_better[:3]:\n",
    "        print(f'{example[\"doc_key\"]}, {diff_score:.1f}')\n",
    "    print()"
   ]
  }
 ],
 "metadata": {
  "kernelspec": {
   "display_name": "Python [conda env:narrative_10]",
   "language": "python",
   "name": "conda-env-narrative_10-py"
  },
  "language_info": {
   "codemirror_mode": {
    "name": "ipython",
    "version": 3
   },
   "file_extension": ".py",
   "mimetype": "text/x-python",
   "name": "python",
   "nbconvert_exporter": "python",
   "pygments_lexer": "ipython3",
   "version": "3.7.2"
  }
 },
 "nbformat": 4,
 "nbformat_minor": 4
}
