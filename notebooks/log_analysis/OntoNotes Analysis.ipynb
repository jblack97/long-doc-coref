{
 "cells": [
  {
   "cell_type": "code",
   "execution_count": 1,
   "metadata": {},
   "outputs": [],
   "source": [
    "import os\n",
    "from os import path\n",
    "import numpy as np\n",
    "import json\n",
    "\n",
    "from metrics import CorefEvaluator\n",
    "from scipy.stats import spearmanr"
   ]
  },
  {
   "cell_type": "code",
   "execution_count": 2,
   "metadata": {},
   "outputs": [],
   "source": [
    "log_dir = \"/home/shtoshni/Research/litbank_coref/models/ontonotes_preds\"\n",
    "\n",
    "models = [\"unbounded\", \"unbounded_no_ignore\", \"learned\", \"lru\"]\n",
    "num_cells = [\"5\", \"10\", \"20\"]\n"
   ]
  },
  {
   "cell_type": "code",
   "execution_count": 3,
   "metadata": {},
   "outputs": [],
   "source": [
    "def load_jsonl(file_path):\n",
    "    data = []\n",
    "    with open(file_path, 'r') as f:\n",
    "        for line in f.readlines():\n",
    "            data.append(json.loads(line.strip()))\n",
    "    \n",
    "    return data"
   ]
  },
  {
   "cell_type": "code",
   "execution_count": 4,
   "metadata": {},
   "outputs": [],
   "source": [
    "# Load logs here\n",
    "model_to_logs = {}\n",
    "for model in models:\n",
    "    if model == 'unbounded':\n",
    "        model_file = path.join(log_dir, f\"{model}_20_dev.jsonl\")  # 20 is just the default num_cells\n",
    "        model_to_logs['unbounded'] = load_jsonl(model_file)\n",
    "        \n",
    "    elif model == 'unbounded_no_ignore':\n",
    "        model_file = path.join(log_dir, f\"unbounded_20_no_ignore_dev.jsonl\")  # 20 is just the default num_cells\n",
    "        model_to_logs['unbounded_no_ignore'] = load_jsonl(model_file)\n",
    "                \n",
    "    else:\n",
    "        for num_cell in num_cells:\n",
    "            model_file = path.join(log_dir, f\"{model}_{num_cell}_dev.jsonl\")\n",
    "            model_to_logs[f\"{model}_{num_cell}\"] = load_jsonl(model_file)\n",
    "        "
   ]
  },
  {
   "cell_type": "code",
   "execution_count": 5,
   "metadata": {},
   "outputs": [
    {
     "name": "stdout",
     "output_type": "stream",
     "text": [
      "unbounded Counter({'i': 53774, 'c': 14468, 'o': 5505})\n",
      "unbounded_no_ignore Counter({'o': 59323, 'c': 14424})\n",
      "learned_5 Counter({'i': 55158, 'c': 12864, 'o': 5617, 'n': 108})\n",
      "learned_10 Counter({'i': 55775, 'c': 13607, 'o': 4365})\n",
      "learned_20 Counter({'i': 55020, 'c': 13826, 'o': 4901})\n",
      "lru_5 Counter({'i': 54612, 'c': 12162, 'o': 5690, 'n': 1283})\n",
      "lru_10 Counter({'i': 54975, 'c': 13431, 'o': 5213, 'n': 128})\n",
      "lru_20 Counter({'i': 54951, 'c': 13850, 'o': 4927, 'n': 19})\n"
     ]
    }
   ],
   "source": [
    "from collections import Counter\n",
    "\n",
    "for model, log_data in model_to_logs.items():\n",
    "    action_counter = Counter()\n",
    "    for example in log_data:\n",
    "        _, pred_actions = zip(*example[\"pred_actions\"])\n",
    "        for action in pred_actions:\n",
    "            action_counter[action] += 1\n",
    "            \n",
    "    \n",
    "    print(model, action_counter)\n",
    "        "
   ]
  },
  {
   "cell_type": "markdown",
   "metadata": {},
   "source": [
    "### Mention Ignored - Learned vs LRU"
   ]
  },
  {
   "cell_type": "code",
   "execution_count": 6,
   "metadata": {},
   "outputs": [
    {
     "name": "stdout",
     "output_type": "stream",
     "text": [
      "unbounded, avg: 0.0\n",
      "unbounded_no_ignore, avg: 0.0\n",
      "learned_5, avg: 0.3\n",
      "learned_10, avg: 0.0\n",
      "learned_20, avg: 0.0\n",
      "lru_5, avg: 3.7\n",
      "lru_10, avg: 0.4\n",
      "lru_20, avg: 0.1\n"
     ]
    }
   ],
   "source": [
    "for model, logs in model_to_logs.items():\n",
    "    mem_usage = []\n",
    "    for log in logs:\n",
    "        over_action = sum([1  for action in log[\"pred_actions\"] if action[1]=='n' ])\n",
    "    \n",
    "        if 'unbounded' not in model:\n",
    "            num_cells = int(model.split('_')[-1])\n",
    "#             over_action = min(over_action, num_cells)\n",
    "\n",
    "        mem_usage.append(over_action) \n",
    "    \n",
    "    \n",
    "    print ('{}, avg: {:.1f}'.format(model,  np.mean(mem_usage)))"
   ]
  },
  {
   "cell_type": "markdown",
   "metadata": {},
   "source": [
    "### Number of Entities in Memory "
   ]
  },
  {
   "cell_type": "code",
   "execution_count": 7,
   "metadata": {},
   "outputs": [
    {
     "name": "stdout",
     "output_type": "stream",
     "text": [
      "unbounded, avg: 16.0, max: 83\n",
      "unbounded_no_ignore, avg: 173.0, max: 962\n",
      "learned_5, avg: 4.6, max: 5\n",
      "learned_10, avg: 7.8, max: 10\n",
      "learned_20, avg: 12.1, max: 20\n",
      "lru_5, avg: 4.6, max: 5\n",
      "lru_10, avg: 7.9, max: 10\n",
      "lru_20, avg: 11.9, max: 20\n"
     ]
    }
   ],
   "source": [
    "for model, logs in model_to_logs.items():\n",
    "    mem_usage = []\n",
    "    for log in logs:\n",
    "        over_action = sum([1  for action in log[\"pred_actions\"] if action[1]=='o' ])\n",
    "    \n",
    "        if 'unbounded' not in model:\n",
    "            num_cells = int(model.split('_')[-1])\n",
    "            over_action = min(over_action, num_cells)\n",
    "\n",
    "        mem_usage.append(over_action) \n",
    "        \n",
    "    print ('{}, avg: {:.1f}, max: {}'.format(model, np.mean(mem_usage), max(mem_usage)))\n",
    "    \n"
   ]
  },
  {
   "cell_type": "markdown",
   "metadata": {},
   "source": [
    "## Spearman Correlations"
   ]
  },
  {
   "cell_type": "code",
   "execution_count": 9,
   "metadata": {},
   "outputs": [],
   "source": [
    "def mention_to_cluster(clusters, threshold=1):\n",
    "    clusters = [tuple(tuple(mention) for mention in cluster)\n",
    "                for cluster in clusters if len(cluster) >= threshold]\n",
    "    mention_to_cluster = {}\n",
    "    for cluster in clusters:\n",
    "        for mention in cluster:\n",
    "            mention_to_cluster[mention] = cluster\n",
    "    return clusters, mention_to_cluster\n",
    "\n",
    "\n",
    "model_perf_per_example = {}\n",
    "for model in model_to_logs:\n",
    "    log_data = model_to_logs[model]\n",
    "    perf_list = []\n",
    "    for example in log_data:\n",
    "        evaluator = CorefEvaluator()\n",
    "                \n",
    "        predicted_clusters, mention_to_predicted =\\\n",
    "            mention_to_cluster(example[\"predicted_clusters\"], threshold=2)\n",
    "        gold_clusters, mention_to_gold =\\\n",
    "            mention_to_cluster(example[\"clusters\"], threshold=2)\n",
    "\n",
    "\n",
    "        evaluator.update(predicted_clusters, gold_clusters,\n",
    "                         mention_to_predicted, mention_to_gold)\n",
    "        \n",
    "        doc_len = example[\"subtoken_map\"][-1] + 1\n",
    "        num_ents = len(gold_clusters)\n",
    "        \n",
    "        example_fscore = evaluator.get_prf()[2] * 100.0\n",
    "        \n",
    "        perf_list.append((doc_len, num_ents, example_fscore, example))\n",
    "        \n",
    "        \n",
    "    model_perf_per_example[model] = perf_list\n",
    "        "
   ]
  },
  {
   "cell_type": "markdown",
   "metadata": {},
   "source": [
    "### Correlations with doc len and Num Ent"
   ]
  },
  {
   "cell_type": "code",
   "execution_count": 10,
   "metadata": {},
   "outputs": [
    {
     "name": "stdout",
     "output_type": "stream",
     "text": [
      "unbounded doc len -0.31 num ent -0.28\n",
      "unbounded_no_ignore doc len -0.28 num ent -0.25\n",
      "learned_5 doc len -0.36 num ent -0.37\n",
      "learned_10 doc len -0.34 num ent -0.33\n",
      "learned_20 doc len -0.34 num ent -0.31\n",
      "lru_5 doc len -0.37 num ent -0.41\n",
      "lru_10 doc len -0.29 num ent -0.30\n",
      "lru_20 doc len -0.31 num ent -0.29\n"
     ]
    }
   ],
   "source": [
    "for model in model_perf_per_example:\n",
    "    perf_list = model_perf_per_example[model]\n",
    "    doc_len_list, num_ent_list, fscore, _ = zip(*perf_list)\n",
    "\n",
    "    print('{} doc len {:.2f} num ent {:.2f}'.format(model, spearmanr(doc_len_list, fscore)[0], \n",
    "                                                    spearmanr(num_ent_list, fscore)[0]))"
   ]
  },
  {
   "cell_type": "code",
   "execution_count": 11,
   "metadata": {},
   "outputs": [
    {
     "name": "stdout",
     "output_type": "stream",
     "text": [
      "Num cells 5\n",
      "Learned better docs\n",
      "nw/wsj/24/wsj_2401_0, 33.3\n",
      "bn/voa/01/voa_0110_0, 28.0\n",
      "bn/voa/00/voa_0040_0, 25.5\n",
      "LRU better docs\n",
      "nw/xinhua/01/chtb_0170_0, 20.1\n",
      "nw/xinhua/02/chtb_0210_0, 15.6\n",
      "nw/xinhua/01/chtb_0130_0, 13.0\n",
      "\n",
      "Num cells 10\n",
      "Learned better docs\n",
      "nw/wsj/24/wsj_2401_0, 33.3\n",
      "bn/voa/01/voa_0100_0, 30.0\n",
      "bn/cnn/02/cnn_0230_0, 21.8\n",
      "LRU better docs\n",
      "nw/wsj/24/wsj_2440_0, 13.2\n",
      "bc/msnbc/00/msnbc_0000_1, 11.8\n",
      "nw/wsj/24/wsj_2423_0, 11.0\n",
      "\n",
      "Num cells 20\n",
      "Learned better docs\n",
      "bn/cnn/00/cnn_0060_0, 22.7\n",
      "bn/voa/00/voa_0090_0, 16.8\n",
      "nw/xinhua/00/chtb_0050_0, 16.6\n",
      "LRU better docs\n",
      "nw/xinhua/01/chtb_0130_0, 14.2\n",
      "nw/xinhua/00/chtb_0030_0, 13.5\n",
      "bc/msnbc/00/msnbc_0000_10, 12.6\n",
      "\n"
     ]
    }
   ],
   "source": [
    "for num_cells in [5, 10, 20]:\n",
    "    perf_learned_list = model_perf_per_example[f'learned_{num_cells}']\n",
    "    perf_lru_list = model_perf_per_example[f'lru_{num_cells}']\n",
    "\n",
    "    learned_better = []\n",
    "    lru_better = []\n",
    "    for i in range(len(perf_learned_list)):\n",
    "        perf_learned = perf_learned_list[i]\n",
    "        perf_lru = perf_lru_list[i]\n",
    "        \n",
    "        assert (perf_learned[3]['doc_key'] == perf_lru[3]['doc_key'] )\n",
    "        perf_learned = perf_learned_list[i]\n",
    "        perf_lru = perf_lru_list[i]\n",
    "\n",
    "        diff_learned = perf_learned[2] - perf_lru[2] \n",
    "        if diff_learned > 0:\n",
    "            learned_better.append((diff_learned, perf_learned[3]))\n",
    "\n",
    "        diff_lru = -diff_learned\n",
    "        if diff_lru > 0:\n",
    "            lru_better.append((diff_lru, perf_lru[3]))\n",
    "\n",
    "    \n",
    "    print(f'Num cells {num_cells}')\n",
    "    print('Learned better docs')\n",
    "    learned_better = sorted(learned_better, key=lambda x: x[0], reverse=True)\n",
    "    for (diff_score, example) in learned_better[:3]:\n",
    "        print(f'{example[\"doc_key\"]}, {diff_score:.1f}')\n",
    "    print('LRU better docs')\n",
    "    lru_better = sorted(lru_better, key=lambda x: x[0], reverse=True)\n",
    "    for (diff_score, example) in lru_better[:3]:\n",
    "        print(f'{example[\"doc_key\"]}, {diff_score:.1f}')\n",
    "    print()"
   ]
  }
 ],
 "metadata": {
  "kernelspec": {
   "display_name": "Python [conda env:narrative_10]",
   "language": "python",
   "name": "conda-env-narrative_10-py"
  },
  "language_info": {
   "codemirror_mode": {
    "name": "ipython",
    "version": 3
   },
   "file_extension": ".py",
   "mimetype": "text/x-python",
   "name": "python",
   "nbconvert_exporter": "python",
   "pygments_lexer": "ipython3",
   "version": "3.7.2"
  }
 },
 "nbformat": 4,
 "nbformat_minor": 4
}
