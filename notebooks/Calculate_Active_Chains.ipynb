{
 "cells": [
  {
   "cell_type": "code",
   "execution_count": 320,
   "metadata": {},
   "outputs": [],
   "source": [
    "import os\n",
    "import json\n",
    "from collections import defaultdict, OrderedDict\n",
    "from os import path\n",
    "import numpy as np\n",
    "import matplotlib.pyplot as plt\n",
    "\n",
    "plt.rc('text', usetex=True)\n",
    "# plt.style.use('bmh')\n",
    "plt.rcParams['axes.facecolor'] = 'w'\n",
    "plt.rcParams['axes.labelcolor'] = 'k'\n",
    "plt.rcParams['axes.edgecolor'] = 'k'\n",
    "plt.rcParams['font.serif'] = 'Times'\n",
    "plt.rcParams['font.monospace'] = 'Ubuntu Mono'\n",
    "plt.rcParams['font.size'] = 16\n",
    "plt.rcParams['axes.labelsize'] = 16\n",
    "plt.rcParams['legend.fontsize'] = 14\n",
    "plt.rcParams['xtick.labelsize'] = 14\n",
    "plt.rcParams['ytick.labelsize'] = 14\n",
    "plt.rcParams['axes.titlesize'] = 18"
   ]
  },
  {
   "cell_type": "code",
   "execution_count": 321,
   "metadata": {},
   "outputs": [],
   "source": [
    "def load_jsonl(file_path):\n",
    "    data = []\n",
    "    with open(file_path, 'r') as f:\n",
    "        for line in f.readlines():\n",
    "            data.append(json.loads(line.strip()))\n",
    "    \n",
    "    return data"
   ]
  },
  {
   "cell_type": "code",
   "execution_count": 322,
   "metadata": {},
   "outputs": [],
   "source": [
    "def get_cluster_spans(coref_chains):\n",
    "    cluster_spans = []\n",
    "    for chain in coref_chains:\n",
    "        min_start = 1e9\n",
    "        max_end = 0\n",
    "        for (span_start, span_end) in chain:\n",
    "            min_start = min(span_start, min_start)\n",
    "            max_end = max(span_end, max_end)\n",
    "            \n",
    "        cluster_spans.append((min_start, max_end))\n",
    "    return cluster_spans"
   ]
  },
  {
   "cell_type": "code",
   "execution_count": 323,
   "metadata": {},
   "outputs": [],
   "source": [
    "def get_max_active_chains(cluster_spans):\n",
    "    last_mention_idx = max([span_end for _, span_end in cluster_spans])\n",
    "    num_clusters = len(cluster_spans)\n",
    "    \n",
    "    # Boolean variable that marks whether a cluster is active at certain time step or not\n",
    "    active_chains = np.zeros((num_clusters, last_mention_idx), dtype=np.int32)\n",
    "    for idx, (span_start, span_end) in enumerate(cluster_spans):\n",
    "        active_chains[idx, span_start:span_end + 1] = 1\n",
    "    \n",
    "    active_chain_sum = np.sum(active_chains, axis=0)\n",
    "    assert(last_mention_idx == len(active_chain_sum)) # Just to make sure summing over right dimension\n",
    "    \n",
    "    return np.max(active_chain_sum), np.argmax(active_chain_sum)"
   ]
  },
  {
   "cell_type": "code",
   "execution_count": 324,
   "metadata": {},
   "outputs": [],
   "source": [
    "def get_doc_tokens(sentences):\n",
    "    doc_tokens = []\n",
    "    for sent in sentences:\n",
    "        doc_tokens.extend(sent)\n",
    "    return doc_tokens"
   ]
  },
  {
   "cell_type": "code",
   "execution_count": 325,
   "metadata": {},
   "outputs": [],
   "source": [
    "def get_stats_for_file(train_file):\n",
    "    print(train_file)\n",
    "    data = load_jsonl(train_file)\n",
    "    max_active_chains = 0\n",
    "    corr_doc_idx = None\n",
    "    within_doc_idx = None\n",
    "\n",
    "    active_chains = []\n",
    "    max_entities = 0\n",
    "    for doc_idx, instance in enumerate(data):\n",
    "        cluster_spans = get_cluster_spans(instance[\"clusters\"])\n",
    "        max_entities = max(max_entities, len(instance[\"clusters\"]))\n",
    "        if len(cluster_spans):\n",
    "            instance_max_active_chains, instance_within_doc_idx = get_max_active_chains(cluster_spans)\n",
    "            if max_active_chains < instance_max_active_chains:\n",
    "                max_active_chains = instance_max_active_chains\n",
    "                corr_doc_idx = doc_idx\n",
    "                within_doc_idx = instance_within_doc_idx\n",
    "            \n",
    "            active_chains.append((instance[\"doc_key\"], instance_max_active_chains))\n",
    "            \n",
    "    print(\"Max entities: {}\".format(max_entities))\n",
    "    print(\"Max active chains: {} present in {}\".format(max_active_chains, data[corr_doc_idx][\"doc_key\"]))\n",
    "    return active_chains"
   ]
  },
  {
   "cell_type": "code",
   "execution_count": 326,
   "metadata": {},
   "outputs": [
    {
     "name": "stdout",
     "output_type": "stream",
     "text": [
      "/home/shtoshni/Research/litbank_coref/data/litbank/all_litbank.128.jsonlines\n",
      "Max entities: 199\n",
      "Max active chains: 18 present in 2891_howards_end_brat_0\n"
     ]
    }
   ],
   "source": [
    "data_file = \"/home/shtoshni/Research/litbank_coref/data/litbank/all_litbank.128.jsonlines\"\n",
    "litbank_active_chains = get_stats_for_file(data_file)"
   ]
  },
  {
   "cell_type": "code",
   "execution_count": 327,
   "metadata": {},
   "outputs": [
    {
     "data": {
      "image/png": "[encoded data removed]",
      "text/plain": [
       "<Figure size 432x288 with 1 Axes>"
      ]
     },
     "metadata": {
      "needs_background": "light"
     },
     "output_type": "display_data"
    }
   ],
   "source": [
    "output_dir = \"/home/shtoshni/Research/litbank_coref/data/analysis\"\n",
    "\n",
    "_, num_chains = zip(*litbank_active_chains)\n",
    "# An \"interface\" to matplotlib.axes.Axes.hist() method\n",
    "\n",
    "fig, ax = plt.subplots(1)\n",
    "ax.grid(b=False)\n",
    "ax.tick_params(axis='y', colors='#000000', direction='out')\n",
    "ax.tick_params(axis='x', colors='#000000', direction='out')\n",
    "\n",
    "spines_to_remove = ['top', 'right']\n",
    "for spine in spines_to_remove:\n",
    "    ax.spines[spine].set_visible(False)\n",
    "\n",
    "n, bins, patches = plt.hist(x=num_chains, bins='auto', color='#0504aa',\n",
    "                            alpha=0.7, rwidth=0.85)\n",
    "\n",
    "plt.xticks([5, 10, 15, 20], ['5', '10', '15', '20'])\n",
    "plt.ylabel('\\# of documents')\n",
    "plt.xlabel('Maximum Active Entities (MAE)')\n",
    "# plt.title('LitBank')\n",
    "plt.savefig(path.join(output_dir, \"litbank_active_chains.pdf\"), dpi=300, bbox_inches='tight')"
   ]
  },
  {
   "cell_type": "code",
   "execution_count": 328,
   "metadata": {},
   "outputs": [
    {
     "name": "stdout",
     "output_type": "stream",
     "text": [
      "/home/shtoshni/Research/litbank_coref/data/ontonotes/independent/train.512.jsonlines\n",
      "Max entities: 94\n",
      "Max active chains: 24 present in nw/wsj/13/wsj_1366_0\n",
      "{'bc': 21, 'bn': 19, 'mz': 12, 'nw': 24, 'pt': 16, 'tc': 11, 'wb': 15}\n"
     ]
    }
   ],
   "source": [
    "data_dir = \"/home/shtoshni/Research/litbank_coref/data/ontonotes/independent\"\n",
    "train_file = path.join(data_dir, \"train.512.jsonlines\")\n",
    "ontonotes_active_chains = get_stats_for_file(train_file)\n",
    "\n",
    "genres = {\"bc\": 0, \"bn\": 0, \"mz\": 0, \"nw\": 0, \"pt\": 0, \"tc\": 0, \"wb\": 0}\n",
    "for doc_key, num_active_chains in active_chains:\n",
    "    genre = doc_key[:2]\n",
    "    if genres[genre] < num_active_chains:\n",
    "        genres[genre] = num_active_chains\n",
    "        \n",
    "print(genres)"
   ]
  },
  {
   "cell_type": "code",
   "execution_count": 329,
   "metadata": {},
   "outputs": [
    {
     "data": {
      "image/png": "[encoded data removed]",
      "text/plain": [
       "<Figure size 432x288 with 1 Axes>"
      ]
     },
     "metadata": {
      "needs_background": "light"
     },
     "output_type": "display_data"
    }
   ],
   "source": [
    "_, num_chains = zip(*active_chains)\n",
    "# An \"interface\" to matplotlib.axes.Axes.hist() method\n",
    "\n",
    "fig, ax = plt.subplots(1)\n",
    "ax.grid(b=False)\n",
    "ax.xaxis.set_ticks_position('none')\n",
    "ax.yaxis.set_ticks_position('none')\n",
    "ax.tick_params(axis='y', colors='#000000')\n",
    "\n",
    "spines_to_remove = ['top', 'right']\n",
    "for spine in spines_to_remove:\n",
    "    ax.spines[spine].set_visible(False)\n",
    "\n",
    "n, bins, patches = plt.hist(x=num_chains, bins='auto', color='#0504aa',\n",
    "                            alpha=0.7, rwidth=0.85)\n",
    "\n",
    "plt.xticks([5, 10, 15, 20, 25]) #, ['5', '10', '15', '20', '24'])\n",
    "plt.ylabel('\\# of documents')\n",
    "plt.xlabel('Maximum Active Entities (MAE)')\n",
    "# plt.title('OntoNotes training set')\n",
    "plt.savefig(path.join(output_dir, \"ontonotes_active_chains.pdf\"), dpi=300, bbox_inches='tight')\n",
    "# plt."
   ]
  },
  {
   "cell_type": "code",
   "execution_count": 330,
   "metadata": {},
   "outputs": [],
   "source": [
    "def get_len_stats_for_file(data_file):\n",
    "    print(data_file)\n",
    "    data = load_jsonl(data_file)\n",
    "    corr_doc_idx = None\n",
    "    within_doc_idx = None\n",
    "\n",
    "    chain_spread = []\n",
    "    for doc_idx, instance in enumerate(data):\n",
    "        no_singleton_clust = []\n",
    "        for cluster in instance[\"clusters\"]:\n",
    "            if len(cluster) > 1:\n",
    "                no_singleton_clust.append(cluster)\n",
    "#         cluster_spans = get_cluster_spans(instance[\"clusters\"])\n",
    "        cluster_spans = get_cluster_spans(no_singleton_clust)\n",
    "        subtoken_map = instance[\"subtoken_map\"]\n",
    "        doc_len = subtoken_map[-1] + 1 #len(instance[\"sentence_map\"])\n",
    "#         if len(cluster_spans):\n",
    "        for (span_start, span_end) in cluster_spans:\n",
    "            chain_spread.append((subtoken_map[span_end] - subtoken_map[span_start] + 1)/doc_len)\n",
    "#             chain_spread.append((subtoken_map[span_end] - subtoken_map[span_start] + 1))\n",
    "#                 chain_spread.append((span_end - span_start))\n",
    "            \n",
    "    return chain_spread"
   ]
  },
  {
   "cell_type": "code",
   "execution_count": 331,
   "metadata": {},
   "outputs": [
    {
     "name": "stdout",
     "output_type": "stream",
     "text": [
      "/home/shtoshni/Research/litbank_coref/data/litbank/all_litbank.128.jsonlines\n"
     ]
    },
    {
     "data": {
      "image/png": "[encoded data removed]",
      "text/plain": [
       "<Figure size 432x288 with 1 Axes>"
      ]
     },
     "metadata": {
      "needs_background": "light"
     },
     "output_type": "display_data"
    }
   ],
   "source": [
    "data_file = \"/home/shtoshni/Research/litbank_coref/data/litbank/all_litbank.128.jsonlines\"\n",
    "chain_spread = get_len_stats_for_file(data_file)\n",
    "# print(chain_spread)\n",
    "# print(len(chain_spread))\n",
    "\n",
    "fig, ax = plt.subplots(1)\n",
    "ax.grid(b=False)\n",
    "ax.tick_params(axis='y', colors='#000000', direction='out')\n",
    "ax.tick_params(axis='x', colors='#000000', direction='out')\n",
    "\n",
    "spines_to_remove = ['top', 'right']\n",
    "for spine in spines_to_remove:\n",
    "    ax.spines[spine].set_visible(False)\n",
    "\n",
    "n, bins, patches = plt.hist(chain_spread, color='#0504aa', \n",
    "                            alpha=0.7, bins=np.arange(0, 1.01, 0.02), rwidth=0.85)\n",
    "# n, bins, patches = plt.hist(chain_spread, color='#0504aa', bins=np.arange(0, 3000, 50),\n",
    "#                             alpha=0.7, rwidth=0.85)\n",
    "\n",
    "plt.ylabel('\\# of entities')\n",
    "plt.xlabel('Length of Entity Spread (ES)')\n",
    "# plt.title('LitBank')\n",
    "plt.savefig(path.join(output_dir, \"litbank_entity_spread.pdf\"), dpi=300, bbox_inches='tight')"
   ]
  },
  {
   "cell_type": "code",
   "execution_count": 332,
   "metadata": {},
   "outputs": [
    {
     "name": "stdout",
     "output_type": "stream",
     "text": [
      "/home/shtoshni/Research/litbank_coref/data/ontonotes/independent/train.512.jsonlines\n"
     ]
    },
    {
     "data": {
      "image/png": "[encoded data removed]",
      "text/plain": [
       "<Figure size 432x288 with 1 Axes>"
      ]
     },
     "metadata": {
      "needs_background": "light"
     },
     "output_type": "display_data"
    }
   ],
   "source": [
    "data_dir = \"/home/shtoshni/Research/litbank_coref/data/ontonotes/independent\"\n",
    "train_file = path.join(data_dir, \"train.512.jsonlines\")\n",
    "\n",
    "chain_spread = get_len_stats_for_file(train_file)\n",
    "# print(chain_spread)\n",
    "# print(len(chain_spread))\n",
    "\n",
    "fig, ax = plt.subplots(1)\n",
    "ax.grid(b=False)\n",
    "ax.tick_params(axis='y', colors='#000000', direction='out')\n",
    "ax.tick_params(axis='x', colors='#000000', direction='out')\n",
    "\n",
    "spines_to_remove = ['top', 'right']\n",
    "for spine in spines_to_remove:\n",
    "    ax.spines[spine].set_visible(False)\n",
    "\n",
    "n, bins, patches = plt.hist(x=chain_spread, bins='auto', color='#0504aa',\n",
    "                            alpha=0.7, rwidth=0.85)\n",
    "\n",
    "plt.ylabel('\\# of entities')\n",
    "plt.xlabel('Length of Entity Spread (ES)')\n",
    "# plt.title('OntoNotes Training Set')\n",
    "plt.savefig(path.join(output_dir, \"ontonotes_entity_spread.pdf\"), dpi=300, bbox_inches='tight')"
   ]
  }
 ],
 "metadata": {
  "kernelspec": {
   "display_name": "Python [conda env:coref] *",
   "language": "python",
   "name": "conda-env-coref-py"
  },
  "language_info": {
   "codemirror_mode": {
    "name": "ipython",
    "version": 3
   },
   "file_extension": ".py",
   "mimetype": "text/x-python",
   "name": "python",
   "nbconvert_exporter": "python",
   "pygments_lexer": "ipython3",
   "version": "3.6.10"
  }
 },
 "nbformat": 4,
 "nbformat_minor": 4
}
