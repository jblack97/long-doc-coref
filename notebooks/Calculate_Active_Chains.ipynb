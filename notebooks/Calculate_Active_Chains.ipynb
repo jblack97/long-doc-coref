{
 "cells": [
  {
   "cell_type": "code",
   "execution_count": 1,
   "metadata": {},
   "outputs": [],
   "source": [
    "import os\n",
    "import json\n",
    "from collections import defaultdict, OrderedDict\n",
    "from os import path\n",
    "import numpy as np"
   ]
  },
  {
   "cell_type": "code",
   "execution_count": 2,
   "metadata": {},
   "outputs": [],
   "source": [
    "def load_jsonl(file_path):\n",
    "    data = []\n",
    "    with open(file_path, 'r') as f:\n",
    "        for line in f.readlines():\n",
    "            data.append(json.loads(line.strip()))\n",
    "    \n",
    "    return data"
   ]
  },
  {
   "cell_type": "code",
   "execution_count": 3,
   "metadata": {},
   "outputs": [],
   "source": [
    "def get_cluster_spans(coref_chains):\n",
    "    cluster_spans = []\n",
    "    for chain in coref_chains:\n",
    "        min_start = 1e9\n",
    "        max_end = 0\n",
    "        for (span_start, span_end) in chain:\n",
    "            min_start = min(span_start, min_start)\n",
    "            max_end = max(span_end, max_end)\n",
    "            \n",
    "        cluster_spans.append((min_start, max_end))\n",
    "    return cluster_spans"
   ]
  },
  {
   "cell_type": "code",
   "execution_count": 4,
   "metadata": {},
   "outputs": [],
   "source": [
    "def get_max_active_chains(cluster_spans):\n",
    "    last_mention_idx = max([span_end for _, span_end in cluster_spans])\n",
    "    num_clusters = len(cluster_spans)\n",
    "    \n",
    "    # Boolean variable that marks whether a cluster is active at certain time step or not\n",
    "    active_chains = np.zeros((num_clusters, last_mention_idx), dtype=np.int32)\n",
    "    for idx, (span_start, span_end) in enumerate(cluster_spans):\n",
    "        active_chains[idx, span_start:span_end + 1] = 1\n",
    "    \n",
    "    active_chain_sum = np.sum(active_chains, axis=0)\n",
    "    assert(last_mention_idx == len(active_chain_sum)) # Just to make sure summing over right dimension\n",
    "    \n",
    "    return np.max(active_chain_sum), np.argmax(active_chain_sum)"
   ]
  },
  {
   "cell_type": "code",
   "execution_count": 5,
   "metadata": {},
   "outputs": [],
   "source": [
    "def get_doc_tokens(sentences):\n",
    "    doc_tokens = []\n",
    "    for sent in sentences:\n",
    "        doc_tokens.extend(sent)\n",
    "    return doc_tokens"
   ]
  },
  {
   "cell_type": "code",
   "execution_count": 6,
   "metadata": {},
   "outputs": [],
   "source": [
    "def get_stats_for_file(train_file):\n",
    "    print(train_file)\n",
    "    data = load_jsonl(train_file)\n",
    "    max_active_chains = 0\n",
    "    corr_doc_idx = None\n",
    "    within_doc_idx = None\n",
    "\n",
    "    chain_spread = []\n",
    "    active_chains = []\n",
    "    for doc_idx, instance in enumerate(data):\n",
    "        cluster_spans = get_cluster_spans(instance[\"clusters\"])\n",
    "        if len(cluster_spans):\n",
    "            for (span_start, span_end) in cluster_spans:\n",
    "                chain_spread.append(span_end - span_start)\n",
    "            doc_tokens = get_doc_tokens(instance[\"sentences\"])\n",
    "            instance_max_active_chains, instance_within_doc_idx = get_max_active_chains(cluster_spans)\n",
    "            if max_active_chains < instance_max_active_chains:\n",
    "                max_active_chains = instance_max_active_chains\n",
    "                corr_doc_idx = doc_idx\n",
    "                within_doc_idx = instance_within_doc_idx\n",
    "            \n",
    "            active_chains.append((instance[\"doc_key\"], instance_max_active_chains))\n",
    "    print(\"Max active chains: {} present in {}\".format(max_active_chains, data[corr_doc_idx][\"doc_key\"]))\n",
    "    return active_chains"
   ]
  },
  {
   "cell_type": "code",
   "execution_count": 7,
   "metadata": {},
   "outputs": [
    {
     "name": "stdout",
     "output_type": "stream",
     "text": [
      "/home/shtoshni/Research/litbank_coref/data/litbank/independent/0/train.512.jsonlines\n",
      "Max active chains: 18 present in 2891_howards_end_brat_0\n"
     ]
    }
   ],
   "source": [
    "data_dir = \"/home/shtoshni/Research/litbank_coref/data/litbank/independent/0\"\n",
    "train_file = path.join(data_dir, \"train.512.jsonlines\")\n",
    "active_chains = get_stats_for_file(train_file)"
   ]
  },
  {
   "cell_type": "code",
   "execution_count": 8,
   "metadata": {},
   "outputs": [
    {
     "name": "stdout",
     "output_type": "stream",
     "text": [
      "/home/shtoshni/Research/litbank_coref/data/ontonotes/independent/train.512.jsonlines\n",
      "Max active chains: 24 present in nw/wsj/13/wsj_1366_0\n",
      "{'bc': 21, 'bn': 19, 'mz': 12, 'nw': 24, 'pt': 16, 'tc': 11, 'wb': 15}\n"
     ]
    }
   ],
   "source": [
    "data_dir = \"/home/shtoshni/Research/litbank_coref/data/ontonotes/independent\"\n",
    "train_file = path.join(data_dir, \"train.512.jsonlines\")\n",
    "active_chains = get_stats_for_file(train_file)\n",
    "\n",
    "genres = {\"bc\": 0, \"bn\": 0, \"mz\": 0, \"nw\": 0, \"pt\": 0, \"tc\": 0, \"wb\": 0}\n",
    "for doc_key, num_active_chains in active_chains:\n",
    "    genre = doc_key[:2]\n",
    "    if genres[genre] < num_active_chains:\n",
    "        genres[genre] = num_active_chains\n",
    "        \n",
    "print(genres)"
   ]
  },
  {
   "cell_type": "code",
   "execution_count": 12,
   "metadata": {},
   "outputs": [
    {
     "data": {
      "image/png": "[encoded data removed]",
      "text/plain": [
       "<Figure size 432x288 with 1 Axes>"
      ]
     },
     "metadata": {
      "needs_background": "light"
     },
     "output_type": "display_data"
    }
   ],
   "source": [
    "import matplotlib.pyplot as plt\n",
    "\n",
    "_, num_chains = zip(*active_chains)\n",
    "# An \"interface\" to matplotlib.axes.Axes.hist() method\n",
    "n, bins, patches = plt.hist(x=num_chains, bins='auto', color='#0504aa',\n",
    "                            alpha=0.7, rwidth=0.85)"
   ]
  },
  {
   "cell_type": "code",
   "execution_count": 13,
   "metadata": {},
   "outputs": [],
   "source": [
    "def get_len_stats_for_file(train_file):\n",
    "    print(train_file)\n",
    "    data = load_jsonl(train_file)\n",
    "    max_active_chains = 0\n",
    "    corr_doc_idx = None\n",
    "    within_doc_idx = None\n",
    "\n",
    "    chain_spread = []\n",
    "    active_chains = []\n",
    "    for doc_idx, instance in enumerate(data):\n",
    "        cluster_spans = get_cluster_spans(instance[\"clusters\"])\n",
    "        doc_len = len(instance[\"sentence_map\"])\n",
    "        if len(cluster_spans):\n",
    "            \n",
    "            for (span_start, span_end) in cluster_spans:\n",
    "                chain_spread.append((span_end - span_start + 1)/doc_len)\n",
    "            doc_tokens = get_doc_tokens(instance[\"sentences\"])\n",
    "            instance_max_active_chains, instance_within_doc_idx = get_max_active_chains(cluster_spans)\n",
    "            if max_active_chains < instance_max_active_chains:\n",
    "                max_active_chains = instance_max_active_chains\n",
    "                corr_doc_idx = doc_idx\n",
    "                within_doc_idx = instance_within_doc_idx\n",
    "            \n",
    "            active_chains.append((instance[\"doc_key\"], instance_max_active_chains))\n",
    "    print(\"Max active chains: {} present in {}\".format(max_active_chains, data[corr_doc_idx][\"doc_key\"]))\n",
    "    return chain_spread"
   ]
  },
  {
   "cell_type": "code",
   "execution_count": 17,
   "metadata": {},
   "outputs": [
    {
     "name": "stdout",
     "output_type": "stream",
     "text": [
      "/home/shtoshni/Research/litbank_coref/data/ontonotes/independent/train.512.jsonlines\n",
      "Max active chains: 24 present in nw/wsj/13/wsj_1366_0\n"
     ]
    },
    {
     "data": {
      "image/png": "[encoded data removed]",
      "text/plain": [
       "<Figure size 432x288 with 1 Axes>"
      ]
     },
     "metadata": {
      "needs_background": "light"
     },
     "output_type": "display_data"
    }
   ],
   "source": [
    "data_dir = \"/home/shtoshni/Research/litbank_coref/data/ontonotes/independent\"\n",
    "train_file = path.join(data_dir, \"train.512.jsonlines\")\n",
    "chain_spread = get_len_stats_for_file(train_file)\n",
    "\n",
    "# print(chain_spread)\n",
    "\n",
    "import matplotlib.pyplot as plt\n",
    "\n",
    "# An \"interface\" to matplotlib.axes.Axes.hist() method\n",
    "n, bins, patches = plt.hist(x=chain_spread, bins='auto', color='#0504aa',\n",
    "                            alpha=0.7, rwidth=0.85)\n",
    "\n",
    "plt.savefig()"
   ]
  }
 ],
 "metadata": {
  "kernelspec": {
   "display_name": "Python [conda env:coref] *",
   "language": "python",
   "name": "conda-env-coref-py"
  },
  "language_info": {
   "codemirror_mode": {
    "name": "ipython",
    "version": 3
   },
   "file_extension": ".py",
   "mimetype": "text/x-python",
   "name": "python",
   "nbconvert_exporter": "python",
   "pygments_lexer": "ipython3",
   "version": "3.6.10"
  }
 },
 "nbformat": 4,
 "nbformat_minor": 4
}
