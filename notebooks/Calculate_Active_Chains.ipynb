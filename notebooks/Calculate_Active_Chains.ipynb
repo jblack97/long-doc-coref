{
 "cells": [
  {
   "cell_type": "code",
   "execution_count": 9,
   "metadata": {},
   "outputs": [],
   "source": [
    "import os\n",
    "import json\n",
    "from collections import defaultdict, OrderedDict\n",
    "from os import path\n",
    "import numpy as np"
   ]
  },
  {
   "cell_type": "code",
   "execution_count": 2,
   "metadata": {},
   "outputs": [],
   "source": [
    "def load_jsonl(file_path):\n",
    "    data = []\n",
    "    with open(file_path, 'r') as f:\n",
    "        for line in f.readlines():\n",
    "            data.append(json.loads(line.strip()))\n",
    "    \n",
    "    return data"
   ]
  },
  {
   "cell_type": "code",
   "execution_count": 6,
   "metadata": {},
   "outputs": [
    {
     "name": "stdout",
     "output_type": "stream",
     "text": [
      "100\n"
     ]
    }
   ],
   "source": [
    "litbank_file = \"/home/shtoshni/Research/litbank_coref/data/all.512.jsonl\"\n",
    "litbank_data = load_jsonl(litbank_file)\n",
    "print(len(litbank_data))"
   ]
  },
  {
   "cell_type": "code",
   "execution_count": 7,
   "metadata": {},
   "outputs": [],
   "source": [
    "def get_cluster_spans(coref_chains):\n",
    "    cluster_spans = []\n",
    "    for chain in coref_chains:\n",
    "        min_start = 1e9\n",
    "        max_end = 0\n",
    "        for (span_start, span_end) in chain:\n",
    "            min_start = min(span_start, min_start)\n",
    "            max_end = max(span_end, max_end)\n",
    "            \n",
    "        cluster_spans.append((min_start, max_end))\n",
    "    return cluster_spans"
   ]
  },
  {
   "cell_type": "code",
   "execution_count": 19,
   "metadata": {},
   "outputs": [],
   "source": [
    "def get_max_active_chains(cluster_spans):\n",
    "    last_mention_idx = max([span_end for _, span_end in cluster_spans])\n",
    "    num_clusters = len(cluster_spans)\n",
    "    \n",
    "    # Boolean variable that marks whether a cluster is active at certain time step or not\n",
    "    active_chains = np.zeros((num_clusters, last_mention_idx), dtype=np.int32)\n",
    "    for idx, (span_start, span_end) in enumerate(cluster_spans):\n",
    "        active_chains[idx, span_start:span_end] = 1\n",
    "    \n",
    "    active_chain_sum = np.sum(active_chains, axis=0)\n",
    "    assert(last_mention_idx == len(active_chain_sum)) # Just to make sure summing over right dimension\n",
    "    \n",
    "    return np.max(active_chain_sum), np.argmax(active_chain_sum)"
   ]
  },
  {
   "cell_type": "code",
   "execution_count": 17,
   "metadata": {},
   "outputs": [],
   "source": [
    "def get_doc_tokens(sentences):\n",
    "    doc_tokens = []\n",
    "    for sent in sentences:\n",
    "        doc_tokens.extend(sent)\n",
    "    return doc_tokens"
   ]
  },
  {
   "cell_type": "code",
   "execution_count": 39,
   "metadata": {},
   "outputs": [
    {
     "name": "stdout",
     "output_type": "stream",
     "text": [
      "1023_bleak_house_brat 9\n",
      "105_persuasion_brat 15\n",
      "1064_the_masque_of_the_red_death_brat 8\n",
      "110_tess_of_the_durbervilles_a_pure_woman_brat 9\n",
      "11231_bartleby_the_scrivener_a_story_of_wallstreet_brat 6\n",
      "113_the_secret_garden_brat 11\n",
      "1155_the_secret_adversary_brat 5\n",
      "11_alices_adventures_in_wonderland_brat 4\n",
      "1206_the_flying_u_ranch_brat 10\n",
      "120_treasure_island_brat 13\n",
      "1245_night_and_day_brat 15\n",
      "1260_jane_eyre_an_autobiography_brat 13\n",
      "12677_personality_plus_some_experiences_of_emma_mcchesney_and_her_son_jock_brat 5\n",
      "1327_elizabeth_and_her_german_garden_brat 9\n",
      "1342_pride_and_prejudice_brat 12\n",
      "1400_great_expectations_brat 11\n",
      "145_middlemarch_brat 10\n",
      "15265_the_quest_of_the_silver_fleece_a_novel_brat 7\n",
      "155_the_moonstone_brat 13\n",
      "158_emma_brat 14\n",
      "160_the_awakening_and_selected_short_stories_brat 14\n",
      "16357_mary_a_fiction_brat 8\n",
      "1661_the_adventures_of_sherlock_holmes_brat 9\n",
      "1695_the_man_who_was_thursday_a_nightmare_brat 6\n",
      "171_charlotte_temple_brat 10\n",
      "174_the_picture_of_dorian_gray_brat 9\n",
      "18581_adrift_in_new_york_tom_and_florence_braving_the_world_brat 8\n",
      "2005_piccadilly_jim_brat 10\n",
      "2084_the_way_of_all_flesh_brat 8\n",
      "208_daisy_miller_a_study_brat 10\n",
      "2095_clotelle_a_tale_of_the_southern_states_brat 11\n",
      "209_the_turn_of_the_screw_brat 7\n",
      "215_the_call_of_the_wild_brat 9\n",
      "2166_king_solomons_mines_brat 7\n",
      "217_sons_and_lovers_brat 12\n",
      "219_heart_of_darkness_brat 10\n",
      "233_sister_carrie_a_novel_brat 8\n",
      "238_dear_enemy_brat 12\n",
      "2489_moby_dick_brat 6\n",
      "24_o_pioneers_brat 11\n",
      "2641_a_room_with_a_view_brat 12\n",
      "271_black_beauty_brat 16\n",
      "2775_the_good_soldier_brat 11\n",
      "27_far_from_the_madding_crowd_brat 7\n",
      "2807_to_have_and_to_hold_brat 8\n",
      "2814_dubliners_brat 10\n",
      "2852_the_hound_of_the_baskervilles_brat 10\n",
      "2891_howards_end_brat 18\n",
      "3268_the_mysteries_of_udolpho_brat 15\n",
      "32_herland_brat 10\n",
      "33_the_scarlet_letter_brat 9\n",
      "3457_the_man_of_the_forest_brat 11\n",
      "345_dracula_brat 14\n",
      "351_of_human_bondage_brat 12\n",
      "367_country_of_the_pointed_firs_brat 6\n",
      "36_the_war_of_the_worlds_brat 7\n",
      "4051_lady_bridget_in_the_nevernever_land_a_story_of_australian_life_brat 9\n",
      "41286_miss_marjoribanks_brat 10\n",
      "41_the_legend_of_sleepy_hollow_brat 5\n",
      "4217_a_portrait_of_the_artist_as_a_young_man_brat 12\n",
      "4276_north_and_south_brat 16\n",
      "4300_ulysses_brat 11\n",
      "432_the_ambassadors_brat 13\n",
      "434_the_circular_staircase_brat 13\n",
      "44_the_song_of_the_lark_brat 11\n",
      "45_anne_of_green_gables_brat 13\n",
      "472_the_house_behind_the_cedars_brat 10\n",
      "502_desert_gold_brat 5\n",
      "514_little_women_brat 13\n",
      "521_the_life_and_adventures_of_robinson_crusoe_brat 10\n",
      "5230_the_invisible_man_a_grotesque_romance_brat 10\n",
      "5348_ragged_dick_or_street_life_in_new_york_with_the_bootblacks_brat 6\n",
      "541_the_age_of_innocence_brat 8\n",
      "543_main_street_brat 7\n",
      "550_silas_marner_brat 5\n",
      "599_vanity_fair_brat 12\n",
      "6053_evelina_or_the_history_of_a_young_ladys_entrance_into_the_world_brat 13\n",
      "60_the_scarlet_pimpernel_brat 12\n",
      "62_a_princess_of_mars_brat 7\n",
      "6593_history_of_tom_jones_a_foundling_brat 6\n",
      "711_allan_quatermain_brat 11\n",
      "730_oliver_twist_brat 9\n",
      "73_the_red_badge_of_courage_an_episode_of_the_american_civil_war_brat 6\n",
      "74_the_adventures_of_tom_sawyer_brat 5\n",
      "766_david_copperfield_brat 11\n",
      "768_wuthering_heights_brat 8\n",
      "76_adventures_of_huckleberry_finn_brat 8\n",
      "77_the_house_of_the_seven_gables_brat 9\n",
      "78_tarzan_of_the_apes_brat 13\n",
      "805_this_side_of_paradise_brat 10\n",
      "829_gullivers_travels_into_several_remote_nations_of_the_world_brat 7\n",
      "84_frankenstein_or_the_modern_prometheus_brat 9\n",
      "876_life_in_the_ironmills_or_the_korl_woman_brat 9\n",
      "8867_the_magnificent_ambersons_brat 9\n",
      "932_the_fall_of_the_house_of_usher_brat 8\n",
      "940_the_last_of_the_mohicans_a_narrative_of_1757_brat 10\n",
      "95_the_prisoner_of_zenda_brat 14\n",
      "969_the_tenant_of_wildfell_hall_brat 11\n",
      "974_the_secret_agent_a_simple_tale_brat 11\n",
      "9830_the_beautiful_and_damned_brat 13\n"
     ]
    }
   ],
   "source": [
    "max_active_chains = 0\n",
    "corr_doc_idx = None\n",
    "within_doc_idx = None\n",
    "\n",
    "chain_spread = []\n",
    "for doc_idx, instance in enumerate(litbank_data):\n",
    "    cluster_spans = get_cluster_spans(instance[\"clusters\"])\n",
    "    for (span_start, span_end) in cluster_spans:\n",
    "        chain_spread.append(span_end - span_start)\n",
    "    doc_tokens = get_doc_tokens(instance[\"sentences\"])\n",
    "    instance_max_active_chains, instance_within_doc_idx = get_max_active_chains(cluster_spans)\n",
    "    print(instance[\"doc_key\"], instance_max_active_chains)\n",
    "    if max_active_chains < instance_max_active_chains:\n",
    "        max_active_chains = instance_max_active_chains\n",
    "        corr_doc_idx = doc_idx\n",
    "        within_doc_idx = instance_within_doc_idx"
   ]
  },
  {
   "cell_type": "code",
   "execution_count": 25,
   "metadata": {},
   "outputs": [
    {
     "name": "stdout",
     "output_type": "stream",
     "text": [
      "Max active chains in Litbank: 18 present in 2891_howards_end_brat\n"
     ]
    }
   ],
   "source": [
    "print(\"Max active chains in Litbank: {} present in {}\".format(max_active_chains, litbank_data[corr_doc_idx][\"doc_key\"]))"
   ]
  },
  {
   "cell_type": "code",
   "execution_count": 26,
   "metadata": {},
   "outputs": [
    {
     "name": "stdout",
     "output_type": "stream",
     "text": [
      "['made', 'by', 'the', 'Kings', 'of', 'Me', '##rcia', '-', '-', 'tennis']\n"
     ]
    }
   ],
   "source": [
    "doc_tokens = get_doc_tokens(litbank_data[corr_doc_idx][\"sentences\"])\n",
    "print(doc_tokens[within_doc_idx - 5: within_doc_idx + 5])"
   ]
  },
  {
   "cell_type": "code",
   "execution_count": 38,
   "metadata": {},
   "outputs": [
    {
     "data": {
      "image/png": "[encoded data removed]",
      "text/plain": [
       "<Figure size 432x288 with 1 Axes>"
      ]
     },
     "metadata": {
      "needs_background": "light"
     },
     "output_type": "display_data"
    }
   ],
   "source": [
    "import matplotlib.pyplot as plt\n",
    "\n",
    "a = plt.hist(chain_spread, bins=[0, 100, 200, 300, 500, 1000, 1500, 2000, 2500, 3000, 3500])\n",
    "plt.xlabel(\"Width of Coref Chains\")\n",
    "plt.savefig(\"/home/shtoshni/Research/litbank_coref/figs/cluster_spread.jpg\", dpi=300)"
   ]
  }
 ],
 "metadata": {
  "kernelspec": {
   "display_name": "Python [conda env:coref] *",
   "language": "python",
   "name": "conda-env-coref-py"
  },
  "language_info": {
   "codemirror_mode": {
    "name": "ipython",
    "version": 3
   },
   "file_extension": ".py",
   "mimetype": "text/x-python",
   "name": "python",
   "nbconvert_exporter": "python",
   "pygments_lexer": "ipython3",
   "version": "3.6.10"
  }
 },
 "nbformat": 4,
 "nbformat_minor": 4
}
