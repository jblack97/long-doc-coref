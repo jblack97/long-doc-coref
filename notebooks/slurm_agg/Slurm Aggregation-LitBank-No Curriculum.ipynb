{
 "cells": [
  {
   "cell_type": "code",
   "execution_count": 103,
   "metadata": {},
   "outputs": [],
   "source": [
    "import os\n",
    "from os import path\n",
    "import glob\n",
    "import pandas as pd\n",
    "import json\n",
    "from collections import defaultdict"
   ]
  },
  {
   "cell_type": "code",
   "execution_count": 104,
   "metadata": {},
   "outputs": [
    {
     "name": "stdout",
     "output_type": "stream",
     "text": [
      "30\n"
     ]
    }
   ],
   "source": [
    "perf_dir = \"/share/data/speech/shtoshni/research/litbank_coref/models/perf/\"\n",
    "slurm_id = \"6522299\"\n",
    "\n",
    "files = sorted(glob.glob(path.join(perf_dir, slurm_id + \"*\")), key=lambda x: int(path.splitext(path.basename(x))[0].split('_')[1]))\n",
    "\n",
    "print(len(files))"
   ]
  },
  {
   "cell_type": "code",
   "execution_count": 105,
   "metadata": {},
   "outputs": [],
   "source": [
    "model_dict_list = []\n",
    "for file in files:\n",
    "    model_dict_list.append(json.loads(open(file).read()))\n",
    "    \n",
    "# print(model_dict_list)"
   ]
  },
  {
   "cell_type": "code",
   "execution_count": 106,
   "metadata": {},
   "outputs": [],
   "source": [
    "def determine_varying_attributes(model_dict_list, ignore_attribs=['train', 'test', 'test_1', 'dev', 'dev_1',  'pretrained_mention_model',\n",
    "                                                                  'conll_data_dir','slurm_id', 'best_model_dir', 'data_dir']):\n",
    "    attrib_to_vals = defaultdict(set)\n",
    "    for model_dict in model_dict_list:\n",
    "        for attrib, val in model_dict.items():\n",
    "            if attrib in ignore_attribs:\n",
    "                continue\n",
    "            else:\n",
    "                attrib_to_vals[attrib].add(val)\n",
    "    \n",
    "    \n",
    "    varying_attribs = []\n",
    "    for attrib, vals in attrib_to_vals.items():\n",
    "        if len(vals) > 1:\n",
    "            varying_attribs.append(attrib)\n",
    "            \n",
    "    return varying_attribs"
   ]
  },
  {
   "cell_type": "code",
   "execution_count": 107,
   "metadata": {},
   "outputs": [
    {
     "name": "stdout",
     "output_type": "stream",
     "text": [
      "['model_dir', 'cross_val_split', 'label_smoothing_wt', 'mem_type', 'max_ents']\n"
     ]
    }
   ],
   "source": [
    "varying_attribs = determine_varying_attributes(model_dict_list)\n",
    "# perf_attribs = ['MUC' , 'Bcub', 'CEAFE']\n",
    "perf_attribs = []\n",
    "varying_attribs.extend(['mem_type', 'max_ents'])\n",
    "print(varying_attribs)"
   ]
  },
  {
   "cell_type": "markdown",
   "metadata": {},
   "source": [
    "### Load all dev and test f-scores"
   ]
  },
  {
   "cell_type": "code",
   "execution_count": 108,
   "metadata": {},
   "outputs": [],
   "source": [
    "perf_df = pd.DataFrame(columns=(varying_attribs + ['devf', 'fs'] + perf_attribs))\n",
    "\n",
    "for model_dict in model_dict_list:\n",
    "    perf_dict = {}\n",
    "    for attrib in varying_attribs:\n",
    "        perf_dict[attrib] = model_dict[attrib]\n",
    "        \n",
    "    \n",
    "    for perf_attrib in perf_attribs:\n",
    "        if perf_attrib in model_dict['test']:\n",
    "            attrib_dict = model_dict['test'][perf_attrib]\n",
    "            perf_dict[perf_attrib] = (attrib_dict['recall'], attrib_dict['precision'], attrib_dict['fscore'])\n",
    "        else:\n",
    "            perf_dict[perf_attrib] = '-'\n",
    "            \n",
    "    \n",
    "    perf_dict['devf'] = model_dict['dev']['fscore']\n",
    "    perf_dict['fs'] = model_dict['test']['fscore']\n",
    "    \n",
    "    perf_df = perf_df.append(perf_dict, ignore_index=True)"
   ]
  },
  {
   "cell_type": "markdown",
   "metadata": {},
   "source": [
    "### Filter by maximum dev-scores among hyperparams"
   ]
  },
  {
   "cell_type": "code",
   "execution_count": 109,
   "metadata": {},
   "outputs": [
    {
     "data": {
      "text/html": [
       "<div>\n",
       "<style scoped>\n",
       "    .dataframe tbody tr th:only-of-type {\n",
       "        vertical-align: middle;\n",
       "    }\n",
       "\n",
       "    .dataframe tbody tr th {\n",
       "        vertical-align: top;\n",
       "    }\n",
       "\n",
       "    .dataframe thead th {\n",
       "        text-align: right;\n",
       "    }\n",
       "</style>\n",
       "<table border=\"1\" class=\"dataframe\">\n",
       "  <thead>\n",
       "    <tr style=\"text-align: right;\">\n",
       "      <th></th>\n",
       "      <th>model_dir</th>\n",
       "      <th>cross_val_split</th>\n",
       "      <th>ls_wt</th>\n",
       "      <th>mem_type</th>\n",
       "      <th>max_ents</th>\n",
       "      <th>devf</th>\n",
       "      <th>fs</th>\n",
       "    </tr>\n",
       "  </thead>\n",
       "  <tbody>\n",
       "    <tr>\n",
       "      <th>0</th>\n",
       "      <td>/share/data/speech/shtoshni/research/litbank_c...</td>\n",
       "      <td>0</td>\n",
       "      <td>0.10</td>\n",
       "      <td>unbounded</td>\n",
       "      <td>None</td>\n",
       "      <td>77.6</td>\n",
       "      <td>74.8</td>\n",
       "    </tr>\n",
       "    <tr>\n",
       "      <th>1</th>\n",
       "      <td>/share/data/speech/shtoshni/research/litbank_c...</td>\n",
       "      <td>1</td>\n",
       "      <td>0.10</td>\n",
       "      <td>unbounded</td>\n",
       "      <td>None</td>\n",
       "      <td>76.1</td>\n",
       "      <td>78.6</td>\n",
       "    </tr>\n",
       "    <tr>\n",
       "      <th>12</th>\n",
       "      <td>/share/data/speech/shtoshni/research/litbank_c...</td>\n",
       "      <td>2</td>\n",
       "      <td>0.01</td>\n",
       "      <td>unbounded</td>\n",
       "      <td>None</td>\n",
       "      <td>79.6</td>\n",
       "      <td>77.8</td>\n",
       "    </tr>\n",
       "    <tr>\n",
       "      <th>3</th>\n",
       "      <td>/share/data/speech/shtoshni/research/litbank_c...</td>\n",
       "      <td>3</td>\n",
       "      <td>0.10</td>\n",
       "      <td>unbounded</td>\n",
       "      <td>None</td>\n",
       "      <td>77.5</td>\n",
       "      <td>77.4</td>\n",
       "    </tr>\n",
       "    <tr>\n",
       "      <th>4</th>\n",
       "      <td>/share/data/speech/shtoshni/research/litbank_c...</td>\n",
       "      <td>4</td>\n",
       "      <td>0.10</td>\n",
       "      <td>unbounded</td>\n",
       "      <td>None</td>\n",
       "      <td>77.4</td>\n",
       "      <td>76.7</td>\n",
       "    </tr>\n",
       "    <tr>\n",
       "      <th>5</th>\n",
       "      <td>/share/data/speech/shtoshni/research/litbank_c...</td>\n",
       "      <td>5</td>\n",
       "      <td>0.10</td>\n",
       "      <td>unbounded</td>\n",
       "      <td>None</td>\n",
       "      <td>77.1</td>\n",
       "      <td>74.1</td>\n",
       "    </tr>\n",
       "    <tr>\n",
       "      <th>6</th>\n",
       "      <td>/share/data/speech/shtoshni/research/litbank_c...</td>\n",
       "      <td>6</td>\n",
       "      <td>0.10</td>\n",
       "      <td>unbounded</td>\n",
       "      <td>None</td>\n",
       "      <td>75.7</td>\n",
       "      <td>79.0</td>\n",
       "    </tr>\n",
       "    <tr>\n",
       "      <th>7</th>\n",
       "      <td>/share/data/speech/shtoshni/research/litbank_c...</td>\n",
       "      <td>7</td>\n",
       "      <td>0.10</td>\n",
       "      <td>unbounded</td>\n",
       "      <td>None</td>\n",
       "      <td>79.0</td>\n",
       "      <td>76.8</td>\n",
       "    </tr>\n",
       "    <tr>\n",
       "      <th>8</th>\n",
       "      <td>/share/data/speech/shtoshni/research/litbank_c...</td>\n",
       "      <td>8</td>\n",
       "      <td>0.10</td>\n",
       "      <td>unbounded</td>\n",
       "      <td>None</td>\n",
       "      <td>77.7</td>\n",
       "      <td>78.3</td>\n",
       "    </tr>\n",
       "    <tr>\n",
       "      <th>9</th>\n",
       "      <td>/share/data/speech/shtoshni/research/litbank_c...</td>\n",
       "      <td>9</td>\n",
       "      <td>0.10</td>\n",
       "      <td>unbounded</td>\n",
       "      <td>None</td>\n",
       "      <td>78.3</td>\n",
       "      <td>77.0</td>\n",
       "    </tr>\n",
       "  </tbody>\n",
       "</table>\n",
       "</div>"
      ],
      "text/plain": [
       "                                            model_dir cross_val_split  ls_wt  \\\n",
       "0   /share/data/speech/shtoshni/research/litbank_c...               0   0.10   \n",
       "1   /share/data/speech/shtoshni/research/litbank_c...               1   0.10   \n",
       "12  /share/data/speech/shtoshni/research/litbank_c...               2   0.01   \n",
       "3   /share/data/speech/shtoshni/research/litbank_c...               3   0.10   \n",
       "4   /share/data/speech/shtoshni/research/litbank_c...               4   0.10   \n",
       "5   /share/data/speech/shtoshni/research/litbank_c...               5   0.10   \n",
       "6   /share/data/speech/shtoshni/research/litbank_c...               6   0.10   \n",
       "7   /share/data/speech/shtoshni/research/litbank_c...               7   0.10   \n",
       "8   /share/data/speech/shtoshni/research/litbank_c...               8   0.10   \n",
       "9   /share/data/speech/shtoshni/research/litbank_c...               9   0.10   \n",
       "\n",
       "     mem_type max_ents  devf    fs  \n",
       "0   unbounded     None  77.6  74.8  \n",
       "1   unbounded     None  76.1  78.6  \n",
       "12  unbounded     None  79.6  77.8  \n",
       "3   unbounded     None  77.5  77.4  \n",
       "4   unbounded     None  77.4  76.7  \n",
       "5   unbounded     None  77.1  74.1  \n",
       "6   unbounded     None  75.7  79.0  \n",
       "7   unbounded     None  79.0  76.8  \n",
       "8   unbounded     None  77.7  78.3  \n",
       "9   unbounded     None  78.3  77.0  "
      ]
     },
     "execution_count": 109,
     "metadata": {},
     "output_type": "execute_result"
    }
   ],
   "source": [
    "perf_df = perf_df.rename(columns={\"label_smoothing_wt\": \"ls_wt\", \"sample_invalid\": \"samp\", \"max_training_segments\": \"segs\"})\n",
    "idx = perf_df.groupby(['cross_val_split'])['devf'].idxmax()\n",
    "\n",
    "dev_max_df = perf_df.iloc[idx]\n",
    "dev_max_df"
   ]
  },
  {
   "cell_type": "markdown",
   "metadata": {},
   "source": [
    "### Get varying memory type and memory size configurations"
   ]
  },
  {
   "cell_type": "code",
   "execution_count": 110,
   "metadata": {},
   "outputs": [],
   "source": [
    "# z = dev_max_df.groupby(['mem_type','max_ents']).size()\n",
    "# print(z)\n",
    "\n",
    "# multindex = z.axes[0]\n",
    "# mem_types = list(multindex.get_level_values(0))\n",
    "# max_ents = list(multindex.get_level_values(1))\n",
    "\n",
    "# print(mem_types, num_cells)"
   ]
  },
  {
   "cell_type": "code",
   "execution_count": 111,
   "metadata": {},
   "outputs": [],
   "source": [
    "mem_types = ['unbounded']\n",
    "max_ents = [None]"
   ]
  },
  {
   "cell_type": "markdown",
   "metadata": {},
   "source": [
    "### Get location of all conll output files"
   ]
  },
  {
   "cell_type": "code",
   "execution_count": 112,
   "metadata": {},
   "outputs": [],
   "source": [
    "SPLIT = 'dev'\n",
    "# SPLIT = 'test'\n",
    "\n",
    "\n",
    "model_config_to_conll_files = []\n",
    "    \n",
    "conll_files = []\n",
    "json_files = []\n",
    "model_config = ('unbounded', 20)\n",
    "for cross_val_split in range(10):\n",
    "#     print(dev_max_df)\n",
    "#     print(dev_max_df.loc[dev_max_df['cross_val_split'] == cross_val_split])\n",
    "    model_dir = dev_max_df.loc[dev_max_df['cross_val_split'] == cross_val_split]['model_dir'].values[0]\n",
    "#     print(model_dir)\n",
    "    conll_file = path.join(model_dir, f'{SPLIT}.conll')\n",
    "    conll_files.append(conll_file)\n",
    "    json_files.append(path.join(model_dir, f'{SPLIT}.log.jsonl'))\n",
    "\n",
    "model_config_to_conll_files.append((model_config, conll_files, json_files))"
   ]
  },
  {
   "cell_type": "markdown",
   "metadata": {},
   "source": [
    "### Concat all Cross Val CoNLLs and JSONLs"
   ]
  },
  {
   "cell_type": "code",
   "execution_count": 113,
   "metadata": {},
   "outputs": [],
   "source": [
    "output_dir = \"../models/litbank_preds/\"\n",
    "if not path.exists(output_dir):\n",
    "    os.makedirs(output_dir)\n",
    "\n",
    "\n",
    "model_config_output_file_list = []    \n",
    "for model_config, conll_files, jsonl_files in model_config_to_conll_files:\n",
    "    conll_output_file = path.join(output_dir, f'{model_config[0]}_{model_config[1]}_{SPLIT}.conll')\n",
    "    jsonl_output_file = path.join(output_dir, f'{model_config[0]}_{model_config[1]}_{SPLIT}.jsonl')\n",
    "    \n",
    "    model_config_output_file_list.append((model_config, conll_output_file))\n",
    "    \n",
    "    with open(conll_output_file, \"w\") as output_w:\n",
    "        for conll_file in conll_files:\n",
    "            with open(conll_file) as g:\n",
    "                for line in g:\n",
    "                    output_w.write(line)\n",
    "                    \n",
    "    with open(jsonl_output_file, \"w\") as output_w:\n",
    "        for jsonl_file in jsonl_files:\n",
    "            with open(jsonl_file) as g:\n",
    "                for line in g:\n",
    "                    output_w.write(line)\n",
    "                    \n",
    "        \n",
    "                    "
   ]
  },
  {
   "cell_type": "markdown",
   "metadata": {},
   "source": [
    "#### Setup coref evaluation script path and Gold CoNLL "
   ]
  },
  {
   "cell_type": "code",
   "execution_count": 114,
   "metadata": {},
   "outputs": [],
   "source": [
    "import sys\n",
    "import subprocess\n",
    "import re\n",
    "\n",
    "gold_conll = f\"/home/shtoshni/Research/litbank_coref/data/litbank/all.{SPLIT}.conll\"\n",
    "scorer_path = \"/home/shtoshni/Research/litbank_coref/lrec2020-coref/reference-coreference-scorers/scorer.pl\"\n",
    "\n",
    "def get_coref_score(metric, path_to_scorer, gold=None, preds=None):\n",
    "    output=subprocess.check_output([\"perl\", path_to_scorer, metric, preds, gold]).decode(\"utf-8\")\n",
    "    output=output.split(\"\\n\")[-3]\n",
    "    matcher=re.search(\"Coreference: Recall: \\(.*?\\) (.*?)%\tPrecision: \\(.*?\\) (.*?)%\tF1: (.*?)%\", output)\n",
    "    if matcher is not None:\n",
    "        recall=float(matcher.group(1))\n",
    "        precision=float(matcher.group(2))\n",
    "        f1=float(matcher.group(3))\n",
    "    return recall, precision, f1"
   ]
  },
  {
   "cell_type": "code",
   "execution_count": 115,
   "metadata": {},
   "outputs": [
    {
     "name": "stdout",
     "output_type": "stream",
     "text": [
      "\\unbounded & 20 & 90.2 & 87.2 & 88.7  & 80.1 & 75.2 & 77.6  & 67.6 & 65.8 & 66.7 &  77.6\n"
     ]
    }
   ],
   "source": [
    "metrics = ['MUC', 'Bcub', 'CEAFE']\n",
    "for model_config, conll_file in model_config_output_file_list:\n",
    "    print(f\"\\\\{model_config[0]} & {model_config[1]}\", end=\"\")\n",
    "    fscore_list = []\n",
    "    for metric in metrics:\n",
    "        recall, precision, fscore = get_coref_score(metric.lower(), scorer_path, gold_conll, conll_file)\n",
    "        print(f\" & {recall:.1f} & {precision:.1f} & {fscore:.1f} \", end=\"\")\n",
    "        fscore_list.append(fscore)\n",
    "    \n",
    "    print(f\"& {sum(fscore_list)/len(fscore_list): .1f}\")\n"
   ]
  }
 ],
 "metadata": {
  "kernelspec": {
   "display_name": "Python [conda env:events]",
   "language": "python",
   "name": "conda-env-events-py"
  },
  "language_info": {
   "codemirror_mode": {
    "name": "ipython",
    "version": 3
   },
   "file_extension": ".py",
   "mimetype": "text/x-python",
   "name": "python",
   "nbconvert_exporter": "python",
   "pygments_lexer": "ipython3",
   "version": "3.8.3"
  }
 },
 "nbformat": 4,
 "nbformat_minor": 4
}
