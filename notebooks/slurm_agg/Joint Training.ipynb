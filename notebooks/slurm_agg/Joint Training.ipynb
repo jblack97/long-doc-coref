{
 "cells": [
  {
   "cell_type": "code",
   "execution_count": 113,
   "metadata": {},
   "outputs": [],
   "source": [
    "import os\n",
    "from os import path\n",
    "import glob\n",
    "import pandas as pd\n",
    "import json\n",
    "from collections import defaultdict"
   ]
  },
  {
   "cell_type": "code",
   "execution_count": 114,
   "metadata": {},
   "outputs": [
    {
     "name": "stdout",
     "output_type": "stream",
     "text": [
      "100\n"
     ]
    }
   ],
   "source": [
    "perf_dir = \"/share/data/speech/shtoshni/research/litbank_coref/models/perf/\"\n",
    "slurm_id = \"6550136\"  # \"6549853\"\n",
    "\n",
    "\n",
    "files = sorted(glob.glob(path.join(perf_dir, slurm_id + \"*\")), key=lambda x: int(path.splitext(path.basename(x))[0].split('_')[1]))\n",
    "\n",
    "print(len(files))"
   ]
  },
  {
   "cell_type": "code",
   "execution_count": 115,
   "metadata": {},
   "outputs": [],
   "source": [
    "model_dict_list = []\n",
    "for file in files:\n",
    "    model_dict_list.append(json.loads(open(file).read()))\n",
    "    \n",
    "# print(model_dict_list)"
   ]
  },
  {
   "cell_type": "code",
   "execution_count": 116,
   "metadata": {},
   "outputs": [],
   "source": [
    "def determine_varying_attributes(model_dict_list, ignore_attribs=['train', 'test', 'test_1', 'dev', 'dev_1',  'pretrained_mention_model',\n",
    "                                                                  'conll_data_dir','slurm_id', 'best_model_dir', 'data_dir']):\n",
    "    attrib_to_vals = defaultdict(set)\n",
    "    for model_dict in model_dict_list:\n",
    "        for attrib, val in model_dict.items():\n",
    "            if attrib in ignore_attribs or isinstance(attrib, dict):\n",
    "                continue\n",
    "            else:\n",
    "                try:\n",
    "                    attrib_to_vals[attrib].add(val)\n",
    "                except TypeError:\n",
    "                    pass\n",
    "    \n",
    "    varying_attribs = []\n",
    "    for attrib, vals in attrib_to_vals.items():\n",
    "        if len(vals) > 1:\n",
    "            varying_attribs.append(attrib)\n",
    "            \n",
    "    return varying_attribs"
   ]
  },
  {
   "cell_type": "code",
   "execution_count": 117,
   "metadata": {},
   "outputs": [
    {
     "name": "stdout",
     "output_type": "stream",
     "text": [
      "['model_dir', 'cross_val_split', 'alpha_ontonotes', 'sample_ontonotes_prob']\n"
     ]
    }
   ],
   "source": [
    "varying_attribs = determine_varying_attributes(model_dict_list)\n",
    "# perf_attribs = ['MUC' , 'Bcub', 'CEAFE']\n",
    "perf_attribs = []\n",
    "print(varying_attribs)"
   ]
  },
  {
   "cell_type": "markdown",
   "metadata": {},
   "source": [
    "### Load all dev and test f-scores"
   ]
  },
  {
   "cell_type": "code",
   "execution_count": 118,
   "metadata": {},
   "outputs": [],
   "source": [
    "perf_df = pd.DataFrame(columns=(varying_attribs + ['devf', 'fs'] + perf_attribs))\n",
    "\n",
    "for model_dict in model_dict_list:\n",
    "    perf_dict = {}\n",
    "    for attrib in varying_attribs:\n",
    "        perf_dict[attrib] = model_dict[attrib]\n",
    "        \n",
    "    \n",
    "    for perf_attrib in perf_attribs:\n",
    "        if perf_attrib in model_dict['test']:\n",
    "            attrib_dict = model_dict['test'][perf_attrib]\n",
    "            perf_dict[perf_attrib] = (attrib_dict['recall'], attrib_dict['precision'], attrib_dict['fscore'])\n",
    "        else:\n",
    "            perf_dict[perf_attrib] = '-'\n",
    "            \n",
    "    \n",
    "    perf_dict['devf'] = model_dict['dev_litbank']['fscore']\n",
    "    perf_dict['fs'] = model_dict['test_litbank']['fscore']\n",
    "    \n",
    "    perf_df = perf_df.append(perf_dict, ignore_index=True)"
   ]
  },
  {
   "cell_type": "markdown",
   "metadata": {},
   "source": [
    "### Filter by maximum dev-scores among hyperparams"
   ]
  },
  {
   "cell_type": "code",
   "execution_count": 119,
   "metadata": {},
   "outputs": [
    {
     "data": {
      "text/plain": [
       "alpha_ontonotes  sample_ontonotes_prob\n",
       "0.00             0.00                     77.34\n",
       "                 0.05                     77.70\n",
       "                 0.10                     77.93\n",
       "                 0.25                     77.50\n",
       "0.10             0.05                     77.67\n",
       "                 0.10                     77.67\n",
       "                 0.25                     77.64\n",
       "0.25             0.05                     77.52\n",
       "                 0.10                     77.81\n",
       "                 0.25                     77.63\n",
       "Name: devf, dtype: float64"
      ]
     },
     "execution_count": 119,
     "metadata": {},
     "output_type": "execute_result"
    }
   ],
   "source": [
    "perf_df = perf_df.rename(columns={\"label_smoothing_wt\": \"ls_wt\", \"sample_invalid\": \"samp\", \"max_training_segments\": \"segs\"})\n",
    "perf_df.groupby(['alpha_ontonotes', 'sample_ontonotes_prob'])['devf'].mean()"
   ]
  },
  {
   "cell_type": "code",
   "execution_count": 120,
   "metadata": {},
   "outputs": [
    {
     "data": {
      "text/plain": [
       "alpha_ontonotes  sample_ontonotes_prob\n",
       "0.00             0.00                     77.34\n",
       "                 0.05                     77.70\n",
       "                 0.10                     77.93\n",
       "                 0.25                     77.50\n",
       "0.10             0.05                     77.67\n",
       "                 0.10                     77.67\n",
       "                 0.25                     77.64\n",
       "0.25             0.05                     77.52\n",
       "                 0.10                     77.81\n",
       "                 0.25                     77.63\n",
       "Name: devf, dtype: float64"
      ]
     },
     "execution_count": 120,
     "metadata": {},
     "output_type": "execute_result"
    }
   ],
   "source": [
    "perf_df.groupby(['alpha_ontonotes', 'sample_ontonotes_prob'])['devf'].mean()"
   ]
  },
  {
   "cell_type": "code",
   "execution_count": 121,
   "metadata": {},
   "outputs": [
    {
     "name": "stdout",
     "output_type": "stream",
     "text": [
      "                                           model_dir cross_val_split  \\\n",
      "0  /share/data/speech/shtoshni/research/litbank_c...               0   \n",
      "1  /share/data/speech/shtoshni/research/litbank_c...               1   \n",
      "2  /share/data/speech/shtoshni/research/litbank_c...               2   \n",
      "3  /share/data/speech/shtoshni/research/litbank_c...               3   \n",
      "4  /share/data/speech/shtoshni/research/litbank_c...               4   \n",
      "5  /share/data/speech/shtoshni/research/litbank_c...               5   \n",
      "6  /share/data/speech/shtoshni/research/litbank_c...               6   \n",
      "7  /share/data/speech/shtoshni/research/litbank_c...               7   \n",
      "8  /share/data/speech/shtoshni/research/litbank_c...               8   \n",
      "9  /share/data/speech/shtoshni/research/litbank_c...               9   \n",
      "\n",
      "   alpha_ontonotes  sample_ontonotes_prob  devf    fs  \n",
      "0              0.0                    0.0  76.9  74.7  \n",
      "1              0.0                    0.0  75.6  79.2  \n",
      "2              0.0                    0.0  79.3  77.6  \n",
      "3              0.0                    0.0  78.0  77.7  \n",
      "4              0.0                    0.0  77.7  77.6  \n",
      "5              0.0                    0.0  77.1  73.1  \n",
      "6              0.0                    0.0  75.5  78.1  \n",
      "7              0.0                    0.0  78.4  76.9  \n",
      "8              0.0                    0.0  77.3  76.9  \n",
      "9              0.0                    0.0  77.6  76.4  \n"
     ]
    }
   ],
   "source": [
    "print(perf_df[(perf_df['alpha_ontonotes'] == 0.0) & (perf_df['sample_ontonotes_prob'] == 0.0)])"
   ]
  },
  {
   "cell_type": "markdown",
   "metadata": {},
   "source": [
    "### Get location of all conll output files"
   ]
  },
  {
   "cell_type": "code",
   "execution_count": 122,
   "metadata": {},
   "outputs": [
    {
     "name": "stdout",
     "output_type": "stream",
     "text": [
      "(0.0, 0.0)\n",
      "(0.0, 0.05)\n",
      "(0.0, 0.1)\n",
      "(0.0, 0.25)\n",
      "(0.1, 0.05)\n",
      "(0.1, 0.1)\n",
      "(0.1, 0.25)\n",
      "(0.25, 0.05)\n",
      "(0.25, 0.1)\n",
      "(0.25, 0.25)\n"
     ]
    }
   ],
   "source": [
    "# SPLIT = 'dev'\n",
    "SPLIT = 'dev'\n",
    "\n",
    "\n",
    "model_config_to_conll_files = []\n",
    "for pair_val, indices in perf_df.groupby(['alpha_ontonotes', 'sample_ontonotes_prob']).groups.items():\n",
    "    if len(indices) == 10:\n",
    "        print(pair_val)\n",
    "        config_df = perf_df.loc[(perf_df['alpha_ontonotes'] == pair_val[0]) \n",
    "                                & (perf_df['sample_ontonotes_prob'] == pair_val[1])]\n",
    "        conll_files = []\n",
    "        json_files = []\n",
    "        for cross_val_split in range(10):\n",
    "            model_dir = config_df.loc[config_df['cross_val_split'] == cross_val_split]['model_dir'].values[0]\n",
    "            conll_file = path.join(model_dir, f'{SPLIT}_litbank.conll')\n",
    "            conll_files.append(conll_file)\n",
    "            json_files.append(path.join(model_dir, f'{SPLIT}_litbank.log.jsonl'))\n",
    "\n",
    "        model_config_to_conll_files.append((pair_val, conll_files, json_files))"
   ]
  },
  {
   "cell_type": "markdown",
   "metadata": {},
   "source": [
    "### Concat all Cross Val CoNLLs and JSONLs"
   ]
  },
  {
   "cell_type": "code",
   "execution_count": 123,
   "metadata": {},
   "outputs": [],
   "source": [
    "output_dir = \"../models/litbank_preds/\"\n",
    "if not path.exists(output_dir):\n",
    "    os.makedirs(output_dir)\n",
    "\n",
    "\n",
    "model_config_output_file_list = []    \n",
    "for model_config, conll_files, jsonl_files in model_config_to_conll_files:\n",
    "    conll_output_file = path.join(output_dir, f'{model_config[0]}_{model_config[1]}_{SPLIT}.conll')\n",
    "    jsonl_output_file = path.join(output_dir, f'{model_config[0]}_{model_config[1]}_{SPLIT}.jsonl')\n",
    "    \n",
    "    model_config_output_file_list.append((model_config, conll_output_file))\n",
    "    \n",
    "    with open(conll_output_file, \"w\") as output_w:\n",
    "        for conll_file in conll_files:\n",
    "            with open(conll_file) as g:\n",
    "                for line in g:\n",
    "                    output_w.write(line)\n",
    "                    \n",
    "    with open(jsonl_output_file, \"w\") as output_w:\n",
    "        for jsonl_file in jsonl_files:\n",
    "            with open(jsonl_file) as g:\n",
    "                for line in g:\n",
    "                    output_w.write(line)\n",
    "                    \n",
    "        "
   ]
  },
  {
   "cell_type": "markdown",
   "metadata": {},
   "source": [
    "#### Setup coref evaluation script path and Gold CoNLL "
   ]
  },
  {
   "cell_type": "code",
   "execution_count": 124,
   "metadata": {},
   "outputs": [],
   "source": [
    "import sys\n",
    "import subprocess\n",
    "import re\n",
    "\n",
    "gold_conll = f\"/home/shtoshni/Research/litbank_coref/data/litbank/all.{SPLIT}.conll\"\n",
    "scorer_path = \"/home/shtoshni/Research/litbank_coref/lrec2020-coref/reference-coreference-scorers/scorer.pl\"\n",
    "\n",
    "def get_coref_score(metric, path_to_scorer, gold=None, preds=None):\n",
    "    output=subprocess.check_output([\"perl\", path_to_scorer, metric, preds, gold]).decode(\"utf-8\")\n",
    "    output=output.split(\"\\n\")[-3]\n",
    "    matcher=re.search(\"Coreference: Recall: \\(.*?\\) (.*?)%\tPrecision: \\(.*?\\) (.*?)%\tF1: (.*?)%\", output)\n",
    "    if matcher is not None:\n",
    "        recall=float(matcher.group(1))\n",
    "        precision=float(matcher.group(2))\n",
    "        f1=float(matcher.group(3))\n",
    "    return recall, precision, f1"
   ]
  },
  {
   "cell_type": "code",
   "execution_count": 125,
   "metadata": {},
   "outputs": [
    {
     "name": "stdout",
     "output_type": "stream",
     "text": [
      "\\0.0 & 0.0 & 90.1 & 87.2 & 88.6  & 79.7 & 75.0 & 77.3  & 67.6 & 64.8 & 66.2 &  77.4\n",
      "\\0.0 & 0.05 & 90.6 & 87.3 & 89.0  & 80.2 & 75.7 & 77.8  & 66.9 & 66.0 & 66.4 &  77.7\n",
      "\\0.0 & 0.1 & 90.8 & 87.5 & 89.1  & 80.7 & 75.7 & 78.1  & 67.0 & 66.3 & 66.7 &  78.0\n",
      "\\0.0 & 0.25 & 90.6 & 87.3 & 88.9  & 80.1 & 75.2 & 77.6  & 66.5 & 65.7 & 66.1 &  77.5\n",
      "\\0.1 & 0.05 & 90.4 & 87.4 & 88.9  & 79.8 & 75.8 & 77.7  & 66.7 & 66.3 & 66.5 &  77.7\n",
      "\\0.1 & 0.1 & 90.7 & 87.1 & 88.9  & 80.5 & 75.1 & 77.7  & 67.6 & 65.5 & 66.5 &  77.7\n",
      "\\0.1 & 0.25 & 90.6 & 87.4 & 89.0  & 80.0 & 75.6 & 77.8  & 67.0 & 65.5 & 66.3 &  77.7\n",
      "\\0.25 & 0.05 & 90.6 & 87.3 & 89.0  & 80.4 & 75.0 & 77.6  & 67.0 & 65.2 & 66.1 &  77.5\n",
      "\\0.25 & 0.1 & 90.5 & 87.4 & 88.9  & 79.8 & 75.7 & 77.7  & 67.2 & 66.6 & 66.9 &  77.8\n",
      "\\0.25 & 0.25 & 90.3 & 87.5 & 88.9  & 79.6 & 75.6 & 77.5  & 67.3 & 65.6 & 66.5 &  77.6\n"
     ]
    }
   ],
   "source": [
    "metrics = ['MUC', 'Bcub', 'CEAFE']\n",
    "for model_config, conll_file in model_config_output_file_list:\n",
    "    print(f\"\\\\{model_config[0]} & {model_config[1]}\", end=\"\")\n",
    "    fscore_list = []\n",
    "    for metric in metrics:\n",
    "        recall, precision, fscore = get_coref_score(metric.lower(), scorer_path, gold_conll, conll_file)\n",
    "        print(f\" & {recall:.1f} & {precision:.1f} & {fscore:.1f} \", end=\"\")\n",
    "        fscore_list.append(fscore)\n",
    "    \n",
    "    print(f\"& {sum(fscore_list)/len(fscore_list): .1f}\")\n"
   ]
  }
 ],
 "metadata": {
  "kernelspec": {
   "display_name": "Python [conda env:events]",
   "language": "python",
   "name": "conda-env-events-py"
  },
  "language_info": {
   "codemirror_mode": {
    "name": "ipython",
    "version": 3
   },
   "file_extension": ".py",
   "mimetype": "text/x-python",
   "name": "python",
   "nbconvert_exporter": "python",
   "pygments_lexer": "ipython3",
   "version": "3.8.3"
  }
 },
 "nbformat": 4,
 "nbformat_minor": 4
}
