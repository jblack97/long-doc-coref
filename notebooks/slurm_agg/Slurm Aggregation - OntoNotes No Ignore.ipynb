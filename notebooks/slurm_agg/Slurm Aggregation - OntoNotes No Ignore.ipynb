{
 "cells": [
  {
   "cell_type": "code",
   "execution_count": 111,
   "metadata": {},
   "outputs": [],
   "source": [
    "import os\n",
    "from os import path\n",
    "import glob\n",
    "import pandas as pd\n",
    "import json\n",
    "from collections import defaultdict"
   ]
  },
  {
   "cell_type": "code",
   "execution_count": 112,
   "metadata": {},
   "outputs": [
    {
     "name": "stdout",
     "output_type": "stream",
     "text": [
      "12\n"
     ]
    }
   ],
   "source": [
    "perf_dir = \"/share/data/speech/shtoshni/research/litbank_coref/models/perf/\"\n",
    "files = []\n",
    "\n",
    "slurm_ids = [\"6108893\", \"6108890\"]\n",
    "\n",
    "for slurm_id in slurm_ids:\n",
    "    files.extend(sorted(glob.glob(path.join(perf_dir, slurm_id + \"*\")), \n",
    "                        key=lambda x: int(path.splitext(path.basename(x))[0].split('_')[1])))\n",
    "\n",
    "\n",
    "print(len(files))"
   ]
  },
  {
   "cell_type": "code",
   "execution_count": 113,
   "metadata": {},
   "outputs": [],
   "source": [
    "model_dict_list = []\n",
    "for file in files:\n",
    "    model_dict_list.append(json.loads(open(file).read()))"
   ]
  },
  {
   "cell_type": "code",
   "execution_count": 123,
   "metadata": {},
   "outputs": [],
   "source": [
    "def determine_varying_attributes(model_dict_list, ignore_attribs=['train', 'test', 'dev', \n",
    "                                                                  'slurm_id', 'best_model_dir', 'data_dir']):\n",
    "    attrib_to_vals = defaultdict(set)\n",
    "    for model_dict in model_dict_list:\n",
    "        for attrib, val in model_dict.items():\n",
    "            if attrib in ignore_attribs:\n",
    "                continue\n",
    "            else:\n",
    "                attrib_to_vals[attrib].add(val)\n",
    "    \n",
    "    \n",
    "    varying_attribs = []\n",
    "    for attrib, vals in attrib_to_vals.items():\n",
    "        if len(vals) > 1:\n",
    "            varying_attribs.append(attrib)\n",
    "            \n",
    "    return varying_attribs"
   ]
  },
  {
   "cell_type": "code",
   "execution_count": 124,
   "metadata": {},
   "outputs": [
    {
     "name": "stdout",
     "output_type": "stream",
     "text": [
      "['model_dir', 'sample_invalid', 'label_smoothing_wt']\n"
     ]
    }
   ],
   "source": [
    "varying_attribs = determine_varying_attributes(model_dict_list)\n",
    "perf_attribs = ['MUC' , 'Bcub', 'CEAFE']\n",
    "print(varying_attribs)"
   ]
  },
  {
   "cell_type": "code",
   "execution_count": 125,
   "metadata": {},
   "outputs": [],
   "source": [
    "perf_df = pd.DataFrame(columns=(varying_attribs +  ['devf'] + ['testf'] + perf_attribs))\n",
    "\n",
    "for model_dict in model_dict_list:\n",
    "    perf_dict = {}\n",
    "    for attrib in varying_attribs:\n",
    "        perf_dict[attrib] = model_dict[attrib]\n",
    "        \n",
    "    \n",
    "    for perf_attrib in perf_attribs:\n",
    "        if perf_attrib in model_dict['test']:\n",
    "            attrib_dict = model_dict['test'][perf_attrib]\n",
    "            perf_dict[perf_attrib] = (attrib_dict['recall'], attrib_dict['precision'], attrib_dict['fscore'])\n",
    "        else:\n",
    "            perf_dict[perf_attrib] = '-'\n",
    "                \n",
    "    perf_dict['devf'] = model_dict['dev']['fscore']\n",
    "    perf_dict['testf'] = model_dict['test']['fscore']\n",
    "    perf_df = perf_df.append(perf_dict, ignore_index=True)"
   ]
  },
  {
   "cell_type": "code",
   "execution_count": 126,
   "metadata": {},
   "outputs": [
    {
     "data": {
      "text/html": [
       "<div>\n",
       "<style scoped>\n",
       "    .dataframe tbody tr th:only-of-type {\n",
       "        vertical-align: middle;\n",
       "    }\n",
       "\n",
       "    .dataframe tbody tr th {\n",
       "        vertical-align: top;\n",
       "    }\n",
       "\n",
       "    .dataframe thead th {\n",
       "        text-align: right;\n",
       "    }\n",
       "</style>\n",
       "<table border=\"1\" class=\"dataframe\">\n",
       "  <thead>\n",
       "    <tr style=\"text-align: right;\">\n",
       "      <th></th>\n",
       "      <th>model_dir</th>\n",
       "      <th>samp</th>\n",
       "      <th>ls_wt</th>\n",
       "      <th>devf</th>\n",
       "      <th>testf</th>\n",
       "      <th>MUC</th>\n",
       "      <th>Bcub</th>\n",
       "      <th>CEAFE</th>\n",
       "    </tr>\n",
       "  </thead>\n",
       "  <tbody>\n",
       "    <tr>\n",
       "      <th>0</th>\n",
       "      <td>/share/data/speech/shtoshni/research/litbank_c...</td>\n",
       "      <td>0.25</td>\n",
       "      <td>0.10</td>\n",
       "      <td>78.7</td>\n",
       "      <td>78.2</td>\n",
       "      <td>(84.8, 84.1, 84.5)</td>\n",
       "      <td>(77.2, 76.3, 76.8)</td>\n",
       "      <td>(73.1, 73.8, 73.4)</td>\n",
       "    </tr>\n",
       "    <tr>\n",
       "      <th>1</th>\n",
       "      <td>/share/data/speech/shtoshni/research/litbank_c...</td>\n",
       "      <td>0.25</td>\n",
       "      <td>0.01</td>\n",
       "      <td>79.0</td>\n",
       "      <td>79.0</td>\n",
       "      <td>(86.4, 83.1, 84.7)</td>\n",
       "      <td>(80.0, 75.3, 77.5)</td>\n",
       "      <td>(76.6, 72.7, 74.6)</td>\n",
       "    </tr>\n",
       "    <tr>\n",
       "      <th>2</th>\n",
       "      <td>/share/data/speech/shtoshni/research/litbank_c...</td>\n",
       "      <td>0.25</td>\n",
       "      <td>0.00</td>\n",
       "      <td>78.2</td>\n",
       "      <td>77.9</td>\n",
       "      <td>(86.9, 81.5, 84.1)</td>\n",
       "      <td>(80.1, 73.3, 76.5)</td>\n",
       "      <td>(77.4, 69.5, 73.2)</td>\n",
       "    </tr>\n",
       "    <tr>\n",
       "      <th>3</th>\n",
       "      <td>/share/data/speech/shtoshni/research/litbank_c...</td>\n",
       "      <td>0.50</td>\n",
       "      <td>0.10</td>\n",
       "      <td>78.7</td>\n",
       "      <td>78.3</td>\n",
       "      <td>(84.7, 84.5, 84.6)</td>\n",
       "      <td>(77.4, 76.3, 76.8)</td>\n",
       "      <td>(71.9, 75.2, 73.5)</td>\n",
       "    </tr>\n",
       "    <tr>\n",
       "      <th>4</th>\n",
       "      <td>/share/data/speech/shtoshni/research/litbank_c...</td>\n",
       "      <td>0.50</td>\n",
       "      <td>0.01</td>\n",
       "      <td>79.5</td>\n",
       "      <td>79.3</td>\n",
       "      <td>(85.8, 84.5, 85.1)</td>\n",
       "      <td>(78.7, 76.9, 77.8)</td>\n",
       "      <td>(75.3, 74.8, 75.1)</td>\n",
       "    </tr>\n",
       "    <tr>\n",
       "      <th>5</th>\n",
       "      <td>/share/data/speech/shtoshni/research/litbank_c...</td>\n",
       "      <td>0.50</td>\n",
       "      <td>0.00</td>\n",
       "      <td>79.5</td>\n",
       "      <td>79.3</td>\n",
       "      <td>(86.5, 83.7, 85.1)</td>\n",
       "      <td>(79.9, 75.8, 77.8)</td>\n",
       "      <td>(76.5, 73.5, 75.0)</td>\n",
       "    </tr>\n",
       "    <tr>\n",
       "      <th>6</th>\n",
       "      <td>/share/data/speech/shtoshni/research/litbank_c...</td>\n",
       "      <td>0.75</td>\n",
       "      <td>0.10</td>\n",
       "      <td>78.7</td>\n",
       "      <td>78.1</td>\n",
       "      <td>(83.9, 85.3, 84.6)</td>\n",
       "      <td>(75.9, 77.3, 76.6)</td>\n",
       "      <td>(70.9, 75.7, 73.2)</td>\n",
       "    </tr>\n",
       "    <tr>\n",
       "      <th>7</th>\n",
       "      <td>/share/data/speech/shtoshni/research/litbank_c...</td>\n",
       "      <td>0.75</td>\n",
       "      <td>0.01</td>\n",
       "      <td>79.6</td>\n",
       "      <td>79.6</td>\n",
       "      <td>(85.5, 85.1, 85.3)</td>\n",
       "      <td>(78.7, 77.3, 78.0)</td>\n",
       "      <td>(74.2, 76.5, 75.3)</td>\n",
       "    </tr>\n",
       "    <tr>\n",
       "      <th>8</th>\n",
       "      <td>/share/data/speech/shtoshni/research/litbank_c...</td>\n",
       "      <td>0.75</td>\n",
       "      <td>0.00</td>\n",
       "      <td>79.5</td>\n",
       "      <td>79.4</td>\n",
       "      <td>(86.2, 84.0, 85.1)</td>\n",
       "      <td>(79.4, 76.0, 77.7)</td>\n",
       "      <td>(75.6, 75.0, 75.3)</td>\n",
       "    </tr>\n",
       "    <tr>\n",
       "      <th>9</th>\n",
       "      <td>/share/data/speech/shtoshni/research/litbank_c...</td>\n",
       "      <td>1.00</td>\n",
       "      <td>0.10</td>\n",
       "      <td>78.0</td>\n",
       "      <td>78.0</td>\n",
       "      <td>(82.8, 86.4, 84.5)</td>\n",
       "      <td>(74.5, 79.0, 76.7)</td>\n",
       "      <td>(69.7, 76.6, 73.0)</td>\n",
       "    </tr>\n",
       "    <tr>\n",
       "      <th>10</th>\n",
       "      <td>/share/data/speech/shtoshni/research/litbank_c...</td>\n",
       "      <td>1.00</td>\n",
       "      <td>0.01</td>\n",
       "      <td>79.5</td>\n",
       "      <td>79.6</td>\n",
       "      <td>(85.3, 85.5, 85.4)</td>\n",
       "      <td>(78.3, 77.8, 78.0)</td>\n",
       "      <td>(73.7, 76.9, 75.3)</td>\n",
       "    </tr>\n",
       "    <tr>\n",
       "      <th>11</th>\n",
       "      <td>/share/data/speech/shtoshni/research/litbank_c...</td>\n",
       "      <td>1.00</td>\n",
       "      <td>0.00</td>\n",
       "      <td>79.5</td>\n",
       "      <td>79.6</td>\n",
       "      <td>(86.0, 84.5, 85.3)</td>\n",
       "      <td>(79.0, 76.9, 78.0)</td>\n",
       "      <td>(75.7, 75.3, 75.5)</td>\n",
       "    </tr>\n",
       "  </tbody>\n",
       "</table>\n",
       "</div>"
      ],
      "text/plain": [
       "                                            model_dir  samp  ls_wt  devf  \\\n",
       "0   /share/data/speech/shtoshni/research/litbank_c...  0.25   0.10  78.7   \n",
       "1   /share/data/speech/shtoshni/research/litbank_c...  0.25   0.01  79.0   \n",
       "2   /share/data/speech/shtoshni/research/litbank_c...  0.25   0.00  78.2   \n",
       "3   /share/data/speech/shtoshni/research/litbank_c...  0.50   0.10  78.7   \n",
       "4   /share/data/speech/shtoshni/research/litbank_c...  0.50   0.01  79.5   \n",
       "5   /share/data/speech/shtoshni/research/litbank_c...  0.50   0.00  79.5   \n",
       "6   /share/data/speech/shtoshni/research/litbank_c...  0.75   0.10  78.7   \n",
       "7   /share/data/speech/shtoshni/research/litbank_c...  0.75   0.01  79.6   \n",
       "8   /share/data/speech/shtoshni/research/litbank_c...  0.75   0.00  79.5   \n",
       "9   /share/data/speech/shtoshni/research/litbank_c...  1.00   0.10  78.0   \n",
       "10  /share/data/speech/shtoshni/research/litbank_c...  1.00   0.01  79.5   \n",
       "11  /share/data/speech/shtoshni/research/litbank_c...  1.00   0.00  79.5   \n",
       "\n",
       "    testf                 MUC                Bcub               CEAFE  \n",
       "0    78.2  (84.8, 84.1, 84.5)  (77.2, 76.3, 76.8)  (73.1, 73.8, 73.4)  \n",
       "1    79.0  (86.4, 83.1, 84.7)  (80.0, 75.3, 77.5)  (76.6, 72.7, 74.6)  \n",
       "2    77.9  (86.9, 81.5, 84.1)  (80.1, 73.3, 76.5)  (77.4, 69.5, 73.2)  \n",
       "3    78.3  (84.7, 84.5, 84.6)  (77.4, 76.3, 76.8)  (71.9, 75.2, 73.5)  \n",
       "4    79.3  (85.8, 84.5, 85.1)  (78.7, 76.9, 77.8)  (75.3, 74.8, 75.1)  \n",
       "5    79.3  (86.5, 83.7, 85.1)  (79.9, 75.8, 77.8)  (76.5, 73.5, 75.0)  \n",
       "6    78.1  (83.9, 85.3, 84.6)  (75.9, 77.3, 76.6)  (70.9, 75.7, 73.2)  \n",
       "7    79.6  (85.5, 85.1, 85.3)  (78.7, 77.3, 78.0)  (74.2, 76.5, 75.3)  \n",
       "8    79.4  (86.2, 84.0, 85.1)  (79.4, 76.0, 77.7)  (75.6, 75.0, 75.3)  \n",
       "9    78.0  (82.8, 86.4, 84.5)  (74.5, 79.0, 76.7)  (69.7, 76.6, 73.0)  \n",
       "10   79.6  (85.3, 85.5, 85.4)  (78.3, 77.8, 78.0)  (73.7, 76.9, 75.3)  \n",
       "11   79.6  (86.0, 84.5, 85.3)  (79.0, 76.9, 78.0)  (75.7, 75.3, 75.5)  "
      ]
     },
     "execution_count": 126,
     "metadata": {},
     "output_type": "execute_result"
    }
   ],
   "source": [
    "perf_df = perf_df.rename(columns={\"label_smoothing_wt\": \"ls_wt\", \"sample_invalid\": \"samp\"})\n",
    "perf_df"
   ]
  },
  {
   "cell_type": "code",
   "execution_count": 127,
   "metadata": {},
   "outputs": [
    {
     "data": {
      "text/plain": [
       "model_dir    /share/data/speech/shtoshni/research/litbank_c...\n",
       "samp                                                      0.75\n",
       "ls_wt                                                     0.01\n",
       "devf                                                      79.6\n",
       "testf                                                     79.6\n",
       "MUC                                         (85.5, 85.1, 85.3)\n",
       "Bcub                                        (78.7, 77.3, 78.0)\n",
       "CEAFE                                       (74.2, 76.5, 75.3)\n",
       "Name: 7, dtype: object"
      ]
     },
     "execution_count": 127,
     "metadata": {},
     "output_type": "execute_result"
    }
   ],
   "source": [
    "idx = perf_df['devf'].idxmax()\n",
    "perf_df.iloc[idx]"
   ]
  },
  {
   "cell_type": "code",
   "execution_count": 128,
   "metadata": {},
   "outputs": [
    {
     "data": {
      "text/plain": [
       "'/share/data/speech/shtoshni/research/litbank_coref/models/coref_ee8cfc9648968abf06ff64cd4c7fa4a8'"
      ]
     },
     "execution_count": 128,
     "metadata": {},
     "output_type": "execute_result"
    }
   ],
   "source": [
    "perf_df.iloc[idx]['model_dir']"
   ]
  }
 ],
 "metadata": {
  "kernelspec": {
   "display_name": "Python [conda env:events]",
   "language": "python",
   "name": "conda-env-events-py"
  },
  "language_info": {
   "codemirror_mode": {
    "name": "ipython",
    "version": 3
   },
   "file_extension": ".py",
   "mimetype": "text/x-python",
   "name": "python",
   "nbconvert_exporter": "python",
   "pygments_lexer": "ipython3",
   "version": "3.8.3"
  }
 },
 "nbformat": 4,
 "nbformat_minor": 4
}
