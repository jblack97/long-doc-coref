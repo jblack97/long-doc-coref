{
 "cells": [
  {
   "cell_type": "code",
   "execution_count": 11,
   "metadata": {},
   "outputs": [],
   "source": [
    "import os\n",
    "from os import path\n",
    "import glob\n",
    "import pandas as pd\n",
    "import json\n",
    "from collections import defaultdict"
   ]
  },
  {
   "cell_type": "code",
   "execution_count": 12,
   "metadata": {},
   "outputs": [],
   "source": [
    "perf_dir = \"/share/data/speech/shtoshni/research/litbank_coref/models/perf/\"\n",
    "slurm_id = \"6101199\"\n",
    "\n",
    "files = sorted(glob.glob(path.join(perf_dir, slurm_id + \"*\")), key=lambda x: int(path.splitext(path.basename(x))[0].split('_')[1]))"
   ]
  },
  {
   "cell_type": "code",
   "execution_count": 13,
   "metadata": {},
   "outputs": [],
   "source": [
    "model_dict_list = []\n",
    "for file in files:\n",
    "    model_dict_list.append(json.loads(open(file).read()))\n",
    "    \n",
    "# print(model_dict_list)"
   ]
  },
  {
   "cell_type": "code",
   "execution_count": 14,
   "metadata": {},
   "outputs": [],
   "source": [
    "def determine_varying_attributes(model_dict_list, ignore_attribs=['train', 'test', 'dev',  'pretrained_mention_model',\n",
    "                                                                  'conll_data_dir','slurm_id', 'best_model_dir', 'data_dir']):\n",
    "    attrib_to_vals = defaultdict(set)\n",
    "    for model_dict in model_dict_list:\n",
    "        for attrib, val in model_dict.items():\n",
    "            if attrib in ignore_attribs:\n",
    "                continue\n",
    "            else:\n",
    "                attrib_to_vals[attrib].add(val)\n",
    "    \n",
    "    \n",
    "    varying_attribs = []\n",
    "    for attrib, vals in attrib_to_vals.items():\n",
    "        if len(vals) > 1:\n",
    "            varying_attribs.append(attrib)\n",
    "            \n",
    "    return varying_attribs"
   ]
  },
  {
   "cell_type": "code",
   "execution_count": 15,
   "metadata": {},
   "outputs": [
    {
     "name": "stdout",
     "output_type": "stream",
     "text": [
      "['model_dir', 'mem_type', 'num_cells', 'cross_val_split', 'sample_invalid']\n"
     ]
    }
   ],
   "source": [
    "varying_attribs = determine_varying_attributes(model_dict_list)\n",
    "# perf_attribs = ['MUC' , 'Bcub', 'CEAFE']\n",
    "perf_attribs = []\n",
    "print(varying_attribs)"
   ]
  },
  {
   "cell_type": "markdown",
   "metadata": {},
   "source": [
    "### Load all dev and test f-scores"
   ]
  },
  {
   "cell_type": "code",
   "execution_count": 16,
   "metadata": {},
   "outputs": [],
   "source": [
    "perf_df = pd.DataFrame(columns=(varying_attribs + ['devf', 'fs'] + perf_attribs))\n",
    "\n",
    "for model_dict in model_dict_list:\n",
    "    perf_dict = {}\n",
    "    for attrib in varying_attribs:\n",
    "        perf_dict[attrib] = model_dict[attrib]\n",
    "        \n",
    "    \n",
    "    for perf_attrib in perf_attribs:\n",
    "        if perf_attrib in model_dict['test']:\n",
    "            attrib_dict = model_dict['test'][perf_attrib]\n",
    "            perf_dict[perf_attrib] = (attrib_dict['recall'], attrib_dict['precision'], attrib_dict['fscore'])\n",
    "        else:\n",
    "            perf_dict[perf_attrib] = '-'\n",
    "            \n",
    "    \n",
    "    perf_dict['devf'] = model_dict['dev']['fscore']\n",
    "    perf_dict['fs'] = model_dict['test']['fscore']\n",
    "    \n",
    "    perf_df = perf_df.append(perf_dict, ignore_index=True)"
   ]
  },
  {
   "cell_type": "markdown",
   "metadata": {},
   "source": [
    "### Filter by maximum dev-scores among hyperparams"
   ]
  },
  {
   "cell_type": "code",
   "execution_count": 17,
   "metadata": {},
   "outputs": [
    {
     "data": {
      "text/html": [
       "<div>\n",
       "<style scoped>\n",
       "    .dataframe tbody tr th:only-of-type {\n",
       "        vertical-align: middle;\n",
       "    }\n",
       "\n",
       "    .dataframe tbody tr th {\n",
       "        vertical-align: top;\n",
       "    }\n",
       "\n",
       "    .dataframe thead th {\n",
       "        text-align: right;\n",
       "    }\n",
       "</style>\n",
       "<table border=\"1\" class=\"dataframe\">\n",
       "  <thead>\n",
       "    <tr style=\"text-align: right;\">\n",
       "      <th></th>\n",
       "      <th>model_dir</th>\n",
       "      <th>mem_type</th>\n",
       "      <th>num_cells</th>\n",
       "      <th>cross_val_split</th>\n",
       "      <th>samp</th>\n",
       "      <th>devf</th>\n",
       "      <th>fs</th>\n",
       "    </tr>\n",
       "  </thead>\n",
       "  <tbody>\n",
       "    <tr>\n",
       "      <th>212</th>\n",
       "      <td>/share/data/speech/shtoshni/research/litbank_c...</td>\n",
       "      <td>learned</td>\n",
       "      <td>5</td>\n",
       "      <td>0</td>\n",
       "      <td>0.75</td>\n",
       "      <td>73.4</td>\n",
       "      <td>68.1</td>\n",
       "    </tr>\n",
       "    <tr>\n",
       "      <th>156</th>\n",
       "      <td>/share/data/speech/shtoshni/research/litbank_c...</td>\n",
       "      <td>learned</td>\n",
       "      <td>5</td>\n",
       "      <td>1</td>\n",
       "      <td>0.25</td>\n",
       "      <td>70.9</td>\n",
       "      <td>72.3</td>\n",
       "    </tr>\n",
       "    <tr>\n",
       "      <th>188</th>\n",
       "      <td>/share/data/speech/shtoshni/research/litbank_c...</td>\n",
       "      <td>learned</td>\n",
       "      <td>5</td>\n",
       "      <td>2</td>\n",
       "      <td>0.50</td>\n",
       "      <td>74.0</td>\n",
       "      <td>71.9</td>\n",
       "    </tr>\n",
       "    <tr>\n",
       "      <th>251</th>\n",
       "      <td>/share/data/speech/shtoshni/research/litbank_c...</td>\n",
       "      <td>learned</td>\n",
       "      <td>5</td>\n",
       "      <td>3</td>\n",
       "      <td>1.00</td>\n",
       "      <td>71.9</td>\n",
       "      <td>72.8</td>\n",
       "    </tr>\n",
       "    <tr>\n",
       "      <th>165</th>\n",
       "      <td>/share/data/speech/shtoshni/research/litbank_c...</td>\n",
       "      <td>learned</td>\n",
       "      <td>5</td>\n",
       "      <td>4</td>\n",
       "      <td>0.25</td>\n",
       "      <td>74.4</td>\n",
       "      <td>68.4</td>\n",
       "    </tr>\n",
       "    <tr>\n",
       "      <th>...</th>\n",
       "      <td>...</td>\n",
       "      <td>...</td>\n",
       "      <td>...</td>\n",
       "      <td>...</td>\n",
       "      <td>...</td>\n",
       "      <td>...</td>\n",
       "      <td>...</td>\n",
       "    </tr>\n",
       "    <tr>\n",
       "      <th>23</th>\n",
       "      <td>/share/data/speech/shtoshni/research/litbank_c...</td>\n",
       "      <td>unbounded</td>\n",
       "      <td>20</td>\n",
       "      <td>5</td>\n",
       "      <td>0.75</td>\n",
       "      <td>76.7</td>\n",
       "      <td>73.6</td>\n",
       "    </tr>\n",
       "    <tr>\n",
       "      <th>24</th>\n",
       "      <td>/share/data/speech/shtoshni/research/litbank_c...</td>\n",
       "      <td>unbounded</td>\n",
       "      <td>20</td>\n",
       "      <td>6</td>\n",
       "      <td>0.75</td>\n",
       "      <td>75.0</td>\n",
       "      <td>77.9</td>\n",
       "    </tr>\n",
       "    <tr>\n",
       "      <th>35</th>\n",
       "      <td>/share/data/speech/shtoshni/research/litbank_c...</td>\n",
       "      <td>unbounded</td>\n",
       "      <td>20</td>\n",
       "      <td>7</td>\n",
       "      <td>1.00</td>\n",
       "      <td>77.9</td>\n",
       "      <td>75.8</td>\n",
       "    </tr>\n",
       "    <tr>\n",
       "      <th>26</th>\n",
       "      <td>/share/data/speech/shtoshni/research/litbank_c...</td>\n",
       "      <td>unbounded</td>\n",
       "      <td>20</td>\n",
       "      <td>8</td>\n",
       "      <td>0.75</td>\n",
       "      <td>76.4</td>\n",
       "      <td>76.9</td>\n",
       "    </tr>\n",
       "    <tr>\n",
       "      <th>27</th>\n",
       "      <td>/share/data/speech/shtoshni/research/litbank_c...</td>\n",
       "      <td>unbounded</td>\n",
       "      <td>20</td>\n",
       "      <td>9</td>\n",
       "      <td>0.75</td>\n",
       "      <td>77.9</td>\n",
       "      <td>76.1</td>\n",
       "    </tr>\n",
       "  </tbody>\n",
       "</table>\n",
       "<p>70 rows × 7 columns</p>\n",
       "</div>"
      ],
      "text/plain": [
       "                                             model_dir   mem_type num_cells  \\\n",
       "212  /share/data/speech/shtoshni/research/litbank_c...    learned         5   \n",
       "156  /share/data/speech/shtoshni/research/litbank_c...    learned         5   \n",
       "188  /share/data/speech/shtoshni/research/litbank_c...    learned         5   \n",
       "251  /share/data/speech/shtoshni/research/litbank_c...    learned         5   \n",
       "165  /share/data/speech/shtoshni/research/litbank_c...    learned         5   \n",
       "..                                                 ...        ...       ...   \n",
       "23   /share/data/speech/shtoshni/research/litbank_c...  unbounded        20   \n",
       "24   /share/data/speech/shtoshni/research/litbank_c...  unbounded        20   \n",
       "35   /share/data/speech/shtoshni/research/litbank_c...  unbounded        20   \n",
       "26   /share/data/speech/shtoshni/research/litbank_c...  unbounded        20   \n",
       "27   /share/data/speech/shtoshni/research/litbank_c...  unbounded        20   \n",
       "\n",
       "    cross_val_split  samp  devf    fs  \n",
       "212               0  0.75  73.4  68.1  \n",
       "156               1  0.25  70.9  72.3  \n",
       "188               2  0.50  74.0  71.9  \n",
       "251               3  1.00  71.9  72.8  \n",
       "165               4  0.25  74.4  68.4  \n",
       "..              ...   ...   ...   ...  \n",
       "23                5  0.75  76.7  73.6  \n",
       "24                6  0.75  75.0  77.9  \n",
       "35                7  1.00  77.9  75.8  \n",
       "26                8  0.75  76.4  76.9  \n",
       "27                9  0.75  77.9  76.1  \n",
       "\n",
       "[70 rows x 7 columns]"
      ]
     },
     "execution_count": 17,
     "metadata": {},
     "output_type": "execute_result"
    }
   ],
   "source": [
    "perf_df = perf_df.rename(columns={\"label_smoothing_wt\": \"ls_wt\", \"sample_invalid\": \"samp\", \"max_training_segments\": \"segs\"})\n",
    "idx = perf_df.groupby(['mem_type', 'num_cells', 'cross_val_split'])['devf'].idxmax()\n",
    "\n",
    "dev_max_df = perf_df.iloc[idx]\n",
    "dev_max_df"
   ]
  },
  {
   "cell_type": "markdown",
   "metadata": {},
   "source": [
    "### Get varying memory type and memory size configurations"
   ]
  },
  {
   "cell_type": "code",
   "execution_count": 18,
   "metadata": {},
   "outputs": [
    {
     "data": {
      "text/plain": [
       "mem_type   num_cells\n",
       "learned    5            10\n",
       "           10           10\n",
       "           20           10\n",
       "lru        5            10\n",
       "           10           10\n",
       "           20           10\n",
       "unbounded  20           10\n",
       "dtype: int64"
      ]
     },
     "execution_count": 18,
     "metadata": {},
     "output_type": "execute_result"
    }
   ],
   "source": [
    "z = dev_max_df.groupby(['mem_type','num_cells']).size()\n",
    "z"
   ]
  },
  {
   "cell_type": "code",
   "execution_count": 19,
   "metadata": {},
   "outputs": [
    {
     "name": "stdout",
     "output_type": "stream",
     "text": [
      "['learned', 'learned', 'learned', 'lru', 'lru', 'lru', 'unbounded'] [5, 10, 20, 5, 10, 20, 20]\n"
     ]
    }
   ],
   "source": [
    "multindex = z.axes[0]\n",
    "mem_types = list(multindex.get_level_values(0))\n",
    "num_cells = list(multindex.get_level_values(1))\n",
    "\n",
    "print(mem_types, num_cells)"
   ]
  },
  {
   "cell_type": "markdown",
   "metadata": {},
   "source": [
    "### Get location of all conll output files"
   ]
  },
  {
   "cell_type": "code",
   "execution_count": 30,
   "metadata": {},
   "outputs": [],
   "source": [
    "# SPLIT = 'dev'\n",
    "SPLIT = 'test'\n",
    "\n",
    "\n",
    "model_config_to_conll_files = []\n",
    "for mem_type, num_cell in zip(mem_types, num_cells):\n",
    "    model_config =  (mem_type, num_cell)\n",
    "    \n",
    "    config_df = dev_max_df.loc[(dev_max_df['mem_type'] == mem_type) & (dev_max_df['num_cells'] == num_cell)]\n",
    "    conll_files = []\n",
    "    json_files = []\n",
    "    for cross_val_split in range(10):\n",
    "        model_dir = config_df.loc[config_df['cross_val_split'] == cross_val_split]['model_dir'].values[0]\n",
    "        conll_file = path.join(model_dir, f'{SPLIT}.conll')\n",
    "        conll_files.append(conll_file)\n",
    "        json_files.append(path.join(model_dir, f'{SPLIT}.log.jsonl'))\n",
    "        \n",
    "    model_config_to_conll_files.append((model_config, conll_files, json_files))"
   ]
  },
  {
   "cell_type": "markdown",
   "metadata": {},
   "source": [
    "### Concat all Cross Val CoNLLs and JSONLs"
   ]
  },
  {
   "cell_type": "code",
   "execution_count": 34,
   "metadata": {},
   "outputs": [],
   "source": [
    "output_dir = \"../models/litbank_preds/\"\n",
    "if not path.exists(output_dir):\n",
    "    os.makedirs(output_dir)\n",
    "\n",
    "\n",
    "model_config_output_file_list = []    \n",
    "for model_config, conll_files, jsonl_files in model_config_to_conll_files:\n",
    "    conll_output_file = path.join(output_dir, f'{model_config[0]}_{model_config[1]}_{SPLIT}.conll')\n",
    "    jsonl_output_file = path.join(output_dir, f'{model_config[0]}_{model_config[1]}_{SPLIT}.jsonl')\n",
    "    \n",
    "    model_config_output_file_list.append((model_config, conll_output_file))\n",
    "    \n",
    "    with open(conll_output_file, \"w\") as output_w:\n",
    "        for conll_file in conll_files:\n",
    "            with open(conll_file) as g:\n",
    "                for line in g:\n",
    "                    output_w.write(line)\n",
    "                    \n",
    "    with open(jsonl_output_file, \"w\") as output_w:\n",
    "        for jsonl_file in jsonl_files:\n",
    "            with open(jsonl_file) as g:\n",
    "                for line in g:\n",
    "                    output_w.write(line)\n",
    "                    \n",
    "        \n",
    "                    "
   ]
  },
  {
   "cell_type": "markdown",
   "metadata": {},
   "source": [
    "#### Setup coref evaluation script path and Gold CoNLL "
   ]
  },
  {
   "cell_type": "code",
   "execution_count": 35,
   "metadata": {},
   "outputs": [],
   "source": [
    "import sys\n",
    "import subprocess\n",
    "import re\n",
    "\n",
    "gold_conll = f\"/home/shtoshni/Research/litbank_coref/data/litbank/all.{SPLIT}.conll\"\n",
    "scorer_path = \"/home/shtoshni/Research/litbank_coref/lrec2020-coref/reference-coreference-scorers/scorer.pl\"\n",
    "\n",
    "def get_coref_score(metric, path_to_scorer, gold=None, preds=None):\n",
    "    output=subprocess.check_output([\"perl\", path_to_scorer, metric, preds, gold]).decode(\"utf-8\")\n",
    "    output=output.split(\"\\n\")[-3]\n",
    "    matcher=re.search(\"Coreference: Recall: \\(.*?\\) (.*?)%\tPrecision: \\(.*?\\) (.*?)%\tF1: (.*?)%\", output)\n",
    "    if matcher is not None:\n",
    "        recall=float(matcher.group(1))\n",
    "        precision=float(matcher.group(2))\n",
    "        f1=float(matcher.group(3))\n",
    "    return recall, precision, f1"
   ]
  },
  {
   "cell_type": "code",
   "execution_count": null,
   "metadata": {},
   "outputs": [
    {
     "name": "stdout",
     "output_type": "stream",
     "text": [
      "\\learned & 5 & 90.9 & 80.0 & 85.1  & 77.4 & 64.0 & 70.1  & 57.8 & 53.8 & 55.7 &  70.3\n",
      "\\learned & 10 & 90.0 & 84.6 & 87.2  & 78.1 & 70.8 & 74.2 "
     ]
    }
   ],
   "source": [
    "metrics = ['MUC', 'Bcub', 'CEAFE']\n",
    "for model_config, conll_file in model_config_output_file_list:\n",
    "    print(f\"\\\\{model_config[0]} & {model_config[1]}\", end=\"\")\n",
    "    fscore_list = []\n",
    "    for metric in metrics:\n",
    "        recall, precision, fscore = get_coref_score(metric.lower(), scorer_path, gold_conll, conll_file)\n",
    "        print(f\" & {recall:.1f} & {precision:.1f} & {fscore:.1f} \", end=\"\")\n",
    "        fscore_list.append(fscore)\n",
    "    \n",
    "    print(f\"& {sum(fscore_list)/len(fscore_list): .1f}\")\n"
   ]
  }
 ],
 "metadata": {
  "kernelspec": {
   "display_name": "Python [conda env:events]",
   "language": "python",
   "name": "conda-env-events-py"
  }
 },
 "nbformat": 4,
 "nbformat_minor": 4
}
