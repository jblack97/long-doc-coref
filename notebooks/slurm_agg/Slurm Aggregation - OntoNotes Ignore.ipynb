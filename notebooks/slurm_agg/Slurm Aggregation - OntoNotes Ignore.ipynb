{
 "cells": [
  {
   "cell_type": "code",
   "execution_count": 157,
   "metadata": {},
   "outputs": [],
   "source": [
    "import os\n",
    "from os import path\n",
    "import glob\n",
    "import pandas as pd\n",
    "import json\n",
    "from collections import defaultdict"
   ]
  },
  {
   "cell_type": "code",
   "execution_count": 187,
   "metadata": {},
   "outputs": [
    {
     "name": "stdout",
     "output_type": "stream",
     "text": [
      "100\n"
     ]
    }
   ],
   "source": [
    "perf_dir = \"/share/data/speech/shtoshni/research/litbank_coref/models/perf/\"\n",
    "slurm_id = \"6101258\"\n",
    "\n",
    "files = sorted(glob.glob(path.join(perf_dir, slurm_id + \"*\")), key=lambda x: int(path.splitext(path.basename(x))[0].split('_')[1]))\n",
    "print(len(files))"
   ]
  },
  {
   "cell_type": "code",
   "execution_count": 159,
   "metadata": {},
   "outputs": [],
   "source": [
    "model_dict_list = []\n",
    "for file in files:\n",
    "    model_dict_list.append(json.loads(open(file).read()))\n",
    "    \n",
    "# print(model_dict_list)"
   ]
  },
  {
   "cell_type": "code",
   "execution_count": 190,
   "metadata": {},
   "outputs": [],
   "source": [
    "def determine_varying_attributes(model_dict_list, ignore_attribs=['train', 'test', 'dev', \n",
    "                                                                  'slurm_id', 'best_model_dir', 'data_dir']):\n",
    "    attrib_to_vals = defaultdict(set)\n",
    "    for model_dict in model_dict_list:\n",
    "        for attrib, val in model_dict.items():\n",
    "            if attrib in ignore_attribs:\n",
    "                continue\n",
    "            else:\n",
    "                attrib_to_vals[attrib].add(val)\n",
    "    \n",
    "    \n",
    "    varying_attribs = []\n",
    "    for attrib, vals in attrib_to_vals.items():\n",
    "        if len(vals) > 1:\n",
    "            varying_attribs.append(attrib)\n",
    "            \n",
    "    return varying_attribs"
   ]
  },
  {
   "cell_type": "code",
   "execution_count": 191,
   "metadata": {},
   "outputs": [
    {
     "name": "stdout",
     "output_type": "stream",
     "text": [
      "['model_dir', 'mem_type', 'num_cells', 'sample_invalid', 'label_smoothing_wt']\n"
     ]
    }
   ],
   "source": [
    "varying_attribs = determine_varying_attributes(model_dict_list)\n",
    "perf_attribs = ['MUC' , 'Bcub', 'CEAFE']\n",
    "print(varying_attribs)"
   ]
  },
  {
   "cell_type": "code",
   "execution_count": 192,
   "metadata": {},
   "outputs": [],
   "source": [
    "perf_df = pd.DataFrame(columns=(varying_attribs +  ['devf'] + ['testf'] + perf_attribs))\n",
    "\n",
    "for model_dict in model_dict_list:\n",
    "    perf_dict = {}\n",
    "    for attrib in varying_attribs:\n",
    "        perf_dict[attrib] = model_dict[attrib]\n",
    "        \n",
    "    \n",
    "    for perf_attrib in perf_attribs:\n",
    "        if perf_attrib in model_dict['test']:\n",
    "            attrib_dict = model_dict['test'][perf_attrib]\n",
    "            perf_dict[perf_attrib] = (attrib_dict['recall'], attrib_dict['precision'], attrib_dict['fscore'])\n",
    "        else:\n",
    "            perf_dict[perf_attrib] = '-'\n",
    "                \n",
    "    perf_dict['devf'] = model_dict['dev']['fscore']\n",
    "    perf_dict['testf'] = model_dict['test']['fscore']\n",
    "    perf_df = perf_df.append(perf_dict, ignore_index=True)"
   ]
  },
  {
   "cell_type": "code",
   "execution_count": 193,
   "metadata": {},
   "outputs": [
    {
     "data": {
      "text/html": [
       "<div>\n",
       "<style scoped>\n",
       "    .dataframe tbody tr th:only-of-type {\n",
       "        vertical-align: middle;\n",
       "    }\n",
       "\n",
       "    .dataframe tbody tr th {\n",
       "        vertical-align: top;\n",
       "    }\n",
       "\n",
       "    .dataframe thead th {\n",
       "        text-align: right;\n",
       "    }\n",
       "</style>\n",
       "<table border=\"1\" class=\"dataframe\">\n",
       "  <thead>\n",
       "    <tr style=\"text-align: right;\">\n",
       "      <th></th>\n",
       "      <th>model_dir</th>\n",
       "      <th>mem_type</th>\n",
       "      <th>num_cells</th>\n",
       "      <th>samp</th>\n",
       "      <th>ls_wt</th>\n",
       "      <th>devf</th>\n",
       "      <th>testf</th>\n",
       "      <th>MUC</th>\n",
       "      <th>Bcub</th>\n",
       "      <th>CEAFE</th>\n",
       "    </tr>\n",
       "  </thead>\n",
       "  <tbody>\n",
       "    <tr>\n",
       "      <th>84</th>\n",
       "      <td>/share/data/speech/shtoshni/research/litbank_c...</td>\n",
       "      <td>learned</td>\n",
       "      <td>5</td>\n",
       "      <td>0.75</td>\n",
       "      <td>0.0</td>\n",
       "      <td>74.0</td>\n",
       "      <td>73.3</td>\n",
       "      <td>(76.4, 86.2, 81.0)</td>\n",
       "      <td>(66.4, 78.4, 71.9)</td>\n",
       "      <td>(62.0, 72.7, 66.9)</td>\n",
       "    </tr>\n",
       "    <tr>\n",
       "      <th>85</th>\n",
       "      <td>/share/data/speech/shtoshni/research/litbank_c...</td>\n",
       "      <td>learned</td>\n",
       "      <td>10</td>\n",
       "      <td>0.75</td>\n",
       "      <td>0.0</td>\n",
       "      <td>77.1</td>\n",
       "      <td>76.8</td>\n",
       "      <td>(81.7, 85.9, 83.8)</td>\n",
       "      <td>(72.8, 77.9, 75.3)</td>\n",
       "      <td>(67.0, 76.4, 71.4)</td>\n",
       "    </tr>\n",
       "    <tr>\n",
       "      <th>66</th>\n",
       "      <td>/share/data/speech/shtoshni/research/litbank_c...</td>\n",
       "      <td>learned</td>\n",
       "      <td>20</td>\n",
       "      <td>0.50</td>\n",
       "      <td>0.1</td>\n",
       "      <td>78.1</td>\n",
       "      <td>78.2</td>\n",
       "      <td>(83.2, 86.2, 84.7)</td>\n",
       "      <td>(74.8, 78.9, 76.8)</td>\n",
       "      <td>(70.0, 76.7, 73.2)</td>\n",
       "    </tr>\n",
       "    <tr>\n",
       "      <th>67</th>\n",
       "      <td>/share/data/speech/shtoshni/research/litbank_c...</td>\n",
       "      <td>learned</td>\n",
       "      <td>30</td>\n",
       "      <td>0.50</td>\n",
       "      <td>0.1</td>\n",
       "      <td>78.2</td>\n",
       "      <td>78.5</td>\n",
       "      <td>(83.8, 85.6, 84.7)</td>\n",
       "      <td>(76.1, 78.2, 77.1)</td>\n",
       "      <td>(70.4, 77.1, 73.6)</td>\n",
       "    </tr>\n",
       "    <tr>\n",
       "      <th>44</th>\n",
       "      <td>/share/data/speech/shtoshni/research/litbank_c...</td>\n",
       "      <td>lru</td>\n",
       "      <td>5</td>\n",
       "      <td>0.75</td>\n",
       "      <td>0.0</td>\n",
       "      <td>69.8</td>\n",
       "      <td>69.6</td>\n",
       "      <td>(72.0, 85.7, 78.3)</td>\n",
       "      <td>(60.1, 78.9, 68.2)</td>\n",
       "      <td>(57.0, 68.9, 62.4)</td>\n",
       "    </tr>\n",
       "    <tr>\n",
       "      <th>45</th>\n",
       "      <td>/share/data/speech/shtoshni/research/litbank_c...</td>\n",
       "      <td>lru</td>\n",
       "      <td>10</td>\n",
       "      <td>0.75</td>\n",
       "      <td>0.0</td>\n",
       "      <td>75.9</td>\n",
       "      <td>75.5</td>\n",
       "      <td>(80.1, 85.7, 82.8)</td>\n",
       "      <td>(70.5, 78.3, 74.2)</td>\n",
       "      <td>(66.0, 73.4, 69.5)</td>\n",
       "    </tr>\n",
       "    <tr>\n",
       "      <th>26</th>\n",
       "      <td>/share/data/speech/shtoshni/research/litbank_c...</td>\n",
       "      <td>lru</td>\n",
       "      <td>20</td>\n",
       "      <td>0.50</td>\n",
       "      <td>0.1</td>\n",
       "      <td>78.2</td>\n",
       "      <td>77.8</td>\n",
       "      <td>(82.8, 85.9, 84.3)</td>\n",
       "      <td>(74.8, 78.3, 76.5)</td>\n",
       "      <td>(68.0, 77.4, 72.4)</td>\n",
       "    </tr>\n",
       "    <tr>\n",
       "      <th>15</th>\n",
       "      <td>/share/data/speech/shtoshni/research/litbank_c...</td>\n",
       "      <td>lru</td>\n",
       "      <td>30</td>\n",
       "      <td>0.25</td>\n",
       "      <td>0.1</td>\n",
       "      <td>78.6</td>\n",
       "      <td>78.5</td>\n",
       "      <td>(84.0, 85.2, 84.6)</td>\n",
       "      <td>(76.2, 78.2, 77.2)</td>\n",
       "      <td>(72.1, 75.6, 73.8)</td>\n",
       "    </tr>\n",
       "    <tr>\n",
       "      <th>0</th>\n",
       "      <td>/share/data/speech/shtoshni/research/litbank_c...</td>\n",
       "      <td>unbounded</td>\n",
       "      <td>20</td>\n",
       "      <td>0.25</td>\n",
       "      <td>0.1</td>\n",
       "      <td>78.4</td>\n",
       "      <td>78.1</td>\n",
       "      <td>(84.6, 84.1, 84.3)</td>\n",
       "      <td>(77.2, 76.2, 76.7)</td>\n",
       "      <td>(72.5, 74.3, 73.4)</td>\n",
       "    </tr>\n",
       "  </tbody>\n",
       "</table>\n",
       "</div>"
      ],
      "text/plain": [
       "                                            model_dir   mem_type num_cells  \\\n",
       "84  /share/data/speech/shtoshni/research/litbank_c...    learned         5   \n",
       "85  /share/data/speech/shtoshni/research/litbank_c...    learned        10   \n",
       "66  /share/data/speech/shtoshni/research/litbank_c...    learned        20   \n",
       "67  /share/data/speech/shtoshni/research/litbank_c...    learned        30   \n",
       "44  /share/data/speech/shtoshni/research/litbank_c...        lru         5   \n",
       "45  /share/data/speech/shtoshni/research/litbank_c...        lru        10   \n",
       "26  /share/data/speech/shtoshni/research/litbank_c...        lru        20   \n",
       "15  /share/data/speech/shtoshni/research/litbank_c...        lru        30   \n",
       "0   /share/data/speech/shtoshni/research/litbank_c...  unbounded        20   \n",
       "\n",
       "    samp  ls_wt  devf  testf                 MUC                Bcub  \\\n",
       "84  0.75    0.0  74.0   73.3  (76.4, 86.2, 81.0)  (66.4, 78.4, 71.9)   \n",
       "85  0.75    0.0  77.1   76.8  (81.7, 85.9, 83.8)  (72.8, 77.9, 75.3)   \n",
       "66  0.50    0.1  78.1   78.2  (83.2, 86.2, 84.7)  (74.8, 78.9, 76.8)   \n",
       "67  0.50    0.1  78.2   78.5  (83.8, 85.6, 84.7)  (76.1, 78.2, 77.1)   \n",
       "44  0.75    0.0  69.8   69.6  (72.0, 85.7, 78.3)  (60.1, 78.9, 68.2)   \n",
       "45  0.75    0.0  75.9   75.5  (80.1, 85.7, 82.8)  (70.5, 78.3, 74.2)   \n",
       "26  0.50    0.1  78.2   77.8  (82.8, 85.9, 84.3)  (74.8, 78.3, 76.5)   \n",
       "15  0.25    0.1  78.6   78.5  (84.0, 85.2, 84.6)  (76.2, 78.2, 77.2)   \n",
       "0   0.25    0.1  78.4   78.1  (84.6, 84.1, 84.3)  (77.2, 76.2, 76.7)   \n",
       "\n",
       "                 CEAFE  \n",
       "84  (62.0, 72.7, 66.9)  \n",
       "85  (67.0, 76.4, 71.4)  \n",
       "66  (70.0, 76.7, 73.2)  \n",
       "67  (70.4, 77.1, 73.6)  \n",
       "44  (57.0, 68.9, 62.4)  \n",
       "45  (66.0, 73.4, 69.5)  \n",
       "26  (68.0, 77.4, 72.4)  \n",
       "15  (72.1, 75.6, 73.8)  \n",
       "0   (72.5, 74.3, 73.4)  "
      ]
     },
     "execution_count": 193,
     "metadata": {},
     "output_type": "execute_result"
    }
   ],
   "source": [
    "perf_df = perf_df.rename(columns={\"label_smoothing_wt\": \"ls_wt\", \"sample_invalid\": \"samp\"})\n",
    "idx = perf_df.groupby(['mem_type', 'num_cells'])['devf'].idxmax()\n",
    "dev_max = perf_df.iloc[idx]\n",
    "dev_max"
   ]
  },
  {
   "cell_type": "markdown",
   "metadata": {},
   "source": [
    "### Get varying memory type and memory size configurations"
   ]
  },
  {
   "cell_type": "code",
   "execution_count": 197,
   "metadata": {},
   "outputs": [
    {
     "name": "stdout",
     "output_type": "stream",
     "text": [
      "['learned', 'learned', 'learned', 'learned', 'lru', 'lru', 'lru', 'lru', 'unbounded'] [5, 10, 20, 30, 5, 10, 20, 30, 20]\n"
     ]
    }
   ],
   "source": [
    "z = dev_max.groupby(['mem_type','num_cells']).size()\n",
    "\n",
    "multindex = z.axes[0]\n",
    "mem_types = list(multindex.get_level_values(0))\n",
    "num_cells = list(multindex.get_level_values(1))\n",
    "\n",
    "print(mem_types, num_cells)"
   ]
  },
  {
   "cell_type": "markdown",
   "metadata": {},
   "source": [
    "### Get location of all conll output files"
   ]
  },
  {
   "cell_type": "code",
   "execution_count": 207,
   "metadata": {},
   "outputs": [],
   "source": [
    "SPLIT = 'dev'\n",
    "# SPLIT = 'test'\n",
    "\n",
    "\n",
    "model_config_to_conll_files = []\n",
    "for mem_type, num_cell in zip(mem_types, num_cells):\n",
    "    model_config =  (mem_type, num_cell)\n",
    "    \n",
    "    model_dir = dev_max.loc[(dev_max['mem_type'] == mem_type) & (dev_max['num_cells'] == num_cell)]['model_dir'].values[0]\n",
    "    conll_file = path.join(model_dir, f'{SPLIT}.conll')\n",
    "    json_file = path.join(model_dir, f'{SPLIT}.log.jsonl')\n",
    "    model_config_to_conll_files.append((model_config, conll_file, json_file))"
   ]
  },
  {
   "cell_type": "markdown",
   "metadata": {},
   "source": [
    "### Concat all Cross Val CoNLLs and JSONLs"
   ]
  },
  {
   "cell_type": "code",
   "execution_count": 208,
   "metadata": {},
   "outputs": [],
   "source": [
    "output_dir = \"../models/ontonotes_preds/\"\n",
    "if not path.exists(output_dir):\n",
    "    os.makedirs(output_dir)\n",
    "\n",
    "\n",
    "model_config_output_file_list = []    \n",
    "for model_config, conll_file, jsonl_file in model_config_to_conll_files:\n",
    "    conll_output_file = path.join(output_dir, f'{model_config[0]}_{model_config[1]}_{SPLIT}.conll')\n",
    "    jsonl_output_file = path.join(output_dir, f'{model_config[0]}_{model_config[1]}_{SPLIT}.jsonl')\n",
    "    \n",
    "    model_config_output_file_list.append((model_config, conll_output_file))\n",
    "    \n",
    "    # Copying CoNLL file\n",
    "    with open(conll_output_file, \"w\") as output_w:\n",
    "        with open(conll_file) as g:\n",
    "            for line in g:\n",
    "                output_w.write(line)\n",
    "    \n",
    "    # Copying JSONL file\n",
    "    with open(jsonl_output_file, \"w\") as output_w:\n",
    "        with open(jsonl_file) as g:\n",
    "            for line in g:\n",
    "                output_w.write(line)"
   ]
  },
  {
   "cell_type": "code",
   "execution_count": 194,
   "metadata": {},
   "outputs": [
    {
     "name": "stdout",
     "output_type": "stream",
     "text": [
      "\\mem_type & devf & testf  \\\\\n",
      "\\learned & 74.0 & 73.3  \\\\\n",
      "\\learned & 77.1 & 76.8  \\\\\n",
      "\\learned & 78.1 & 78.2  \\\\\n",
      "\\learned & 78.2 & 78.5  \\\\\n",
      "\\lru & 69.8 & 69.6  \\\\\n",
      "\\lru & 75.9 & 75.5  \\\\\n",
      "\\lru & 78.2 & 77.8  \\\\\n",
      "\\lru & 78.6 & 78.5  \\\\\n",
      "\\unbounded & 78.4 & 78.1  \\\\\n"
     ]
    }
   ],
   "source": [
    "rows = dev_max[['mem_type', 'devf', 'testf']].to_csv(index=False).replace(',', ' & ').strip('\\n').split('\\n')\n",
    "\n",
    "for row in rows:\n",
    "    print( \"\\\\\" + row + \"  \\\\\\\\\")"
   ]
  },
  {
   "cell_type": "code",
   "execution_count": 195,
   "metadata": {},
   "outputs": [
    {
     "name": "stdout",
     "output_type": "stream",
     "text": [
      "\\mem_type & MUC & Bcub & CEAFE & testf  \\\\\n",
      "\\learned &  76.4 &  86.2 &  81.0  &  66.4 &  78.4 &  71.9  &  62.0 &  72.7 &  66.9  & 73.3  \\\\\n",
      "\\learned &  81.7 &  85.9 &  83.8  &  72.8 &  77.9 &  75.3  &  67.0 &  76.4 &  71.4  & 76.8  \\\\\n",
      "\\learned &  83.2 &  86.2 &  84.7  &  74.8 &  78.9 &  76.8  &  70.0 &  76.7 &  73.2  & 78.2  \\\\\n",
      "\\learned &  83.8 &  85.6 &  84.7  &  76.1 &  78.2 &  77.1  &  70.4 &  77.1 &  73.6  & 78.5  \\\\\n",
      "\\lru &  72.0 &  85.7 &  78.3  &  60.1 &  78.9 &  68.2  &  57.0 &  68.9 &  62.4  & 69.6  \\\\\n",
      "\\lru &  80.1 &  85.7 &  82.8  &  70.5 &  78.3 &  74.2  &  66.0 &  73.4 &  69.5  & 75.5  \\\\\n",
      "\\lru &  82.8 &  85.9 &  84.3  &  74.8 &  78.3 &  76.5  &  68.0 &  77.4 &  72.4  & 77.8  \\\\\n",
      "\\lru &  84.0 &  85.2 &  84.6  &  76.2 &  78.2 &  77.2  &  72.1 &  75.6 &  73.8  & 78.5  \\\\\n",
      "\\unbounded &  84.6 &  84.1 &  84.3  &  77.2 &  76.2 &  76.7  &  72.5 &  74.3 &  73.4  & 78.1  \\\\\n"
     ]
    }
   ],
   "source": [
    "rows = dev_max[['mem_type', 'MUC', 'Bcub', 'CEAFE', 'testf']].to_csv(index=False).replace(',', ' & ').replace('\"(', ' ').replace(')\"', ' ').strip('\\n').split('\\n')\n",
    "\n",
    "for row in rows:\n",
    "    print( \"\\\\\" + row + \"  \\\\\\\\\")"
   ]
  }
 ],
 "metadata": {
  "kernelspec": {
   "display_name": "Python [conda env:events]",
   "language": "python",
   "name": "conda-env-events-py"
  },
  "language_info": {
   "codemirror_mode": {
    "name": "ipython",
    "version": 3
   },
   "file_extension": ".py",
   "mimetype": "text/x-python",
   "name": "python",
   "nbconvert_exporter": "python",
   "pygments_lexer": "ipython3",
   "version": "3.8.3"
  }
 },
 "nbformat": 4,
 "nbformat_minor": 4
}
