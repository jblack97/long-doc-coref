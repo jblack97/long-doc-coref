{
 "cells": [
  {
   "cell_type": "code",
   "execution_count": 6,
   "metadata": {},
   "outputs": [],
   "source": [
    "import json\n",
    "from os import path\n",
    "import os\n",
    "import sys\n",
    "import glob\n",
    "sys.path.append(\"/home/shtoshni/Research/long-doc-coref/src\")\n",
    "\n",
    "from inference.inference import Inference"
   ]
  },
  {
   "cell_type": "code",
   "execution_count": 7,
   "metadata": {},
   "outputs": [],
   "source": [
    "input_dir = \"/home/shtoshni/Research/events/proc_data/kbp_2015/cleaned\"\n",
    "input_files = glob.glob(path.join(input_dir, \"*.jsonlines\"))\n",
    "\n",
    "output_dir = \"/home/shtoshni/Research/events/proc_data/kbp_2015/entity_chains\"\n",
    "model_loc = \"/home/shtoshni/Research/long-doc-coref/models/umem_ontonotes/model.pth\""
   ]
  },
  {
   "cell_type": "code",
   "execution_count": 3,
   "metadata": {},
   "outputs": [],
   "source": [
    "model = Inference(model_loc)"
   ]
  },
  {
   "cell_type": "code",
   "execution_count": 4,
   "metadata": {},
   "outputs": [
    {
     "data": {
      "text/plain": [
       "{'tokenized_doc': {'sentences': [['Ka',\n",
       "    '##ny',\n",
       "    '##e',\n",
       "    'West',\n",
       "    'was',\n",
       "    'released',\n",
       "    'from',\n",
       "    'prison',\n",
       "    '.',\n",
       "    'He',\n",
       "    'was',\n",
       "    'caught',\n",
       "    'with',\n",
       "    'drugs',\n",
       "    '.']],\n",
       "  'subtoken_map': [0, 0, 0, 1, 2, 3, 4, 5, 6, 7, 8, 9, 10, 11, 12]},\n",
       " 'clusters': [[((0, 0), 'Ka')],\n",
       "  [((0, 0), 'Kany')],\n",
       "  [((0, 0), 'Kanye')],\n",
       "  [((0, 1), 'Kanye West'), ((7, 7), 'He')],\n",
       "  [((0, 2), 'Kanye West was')]],\n",
       " 'mentions': [(0, 0), (0, 0), (0, 0), (0, 1), (0, 2), (7, 7)],\n",
       " 'actions': [(0, 'o'), (1, 'o'), (2, 'o'), (3, 'o'), (4, 'o'), (3, 'c')]}"
      ]
     },
     "execution_count": 4,
     "metadata": {},
     "output_type": "execute_result"
    }
   ],
   "source": [
    "# model.perform_coreference(\"Kanye West was released from prison. He was caught with drugs.\")"
   ]
  },
  {
   "cell_type": "code",
   "execution_count": null,
   "metadata": {},
   "outputs": [],
   "source": [
    "for input_file in input_files:\n",
    "    output_file = path.join(output_dir, path.basename(input_file))\n",
    "    \n",
    "    with open(input_file) as input_f, open(output_file) as output_f:\n",
    "        for line in input_f:\n",
    "            instance = json.loads(line.strip())\n",
    "            doc = \"\"\n",
    "            for sentence in instance[\"tokenized_sentences\"]:\n",
    "                doc += \" \".join([word for word, _ in sentence]) + \" \"\n",
    "            \n",
    "            doc = doc.strip()\n",
    "            output_dict = model.perform_coreference(doc)\n",
    "            \n",
    "        "
   ]
  }
 ],
 "metadata": {
  "kernelspec": {
   "display_name": "Python [conda env:coref] *",
   "language": "python",
   "name": "conda-env-coref-py"
  },
  "language_info": {
   "codemirror_mode": {
    "name": "ipython",
    "version": 3
   },
   "file_extension": ".py",
   "mimetype": "text/x-python",
   "name": "python",
   "nbconvert_exporter": "python",
   "pygments_lexer": "ipython3",
   "version": "3.6.10"
  }
 },
 "nbformat": 4,
 "nbformat_minor": 4
}
