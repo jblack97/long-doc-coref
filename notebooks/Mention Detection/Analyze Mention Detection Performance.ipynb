{
 "cells": [
  {
   "cell_type": "code",
   "execution_count": 484,
   "metadata": {},
   "outputs": [],
   "source": [
    "import json\n",
    "from collections import Counter\n",
    "import sys\n",
    "\n",
    "sys.path.append('/home/shtoshni/Research/long-doc-coref/src')\n",
    "\n",
    "from coref_utils.utils import get_mention_to_cluster_idx, remove_singletons"
   ]
  },
  {
   "cell_type": "code",
   "execution_count": 485,
   "metadata": {},
   "outputs": [],
   "source": [
    "# log_file = \"/home/shtoshni/Research/litbank_coref/models/coref_ontonotes_4f657da5938428b63ca0bb56720e8f91/dev.log.jsonl\"\n",
    "# log_file = \"/home/shtoshni/Research/litbank_coref/models/coref_ontonotes_7d40e09344195d79e7f9b172fb073bb7/dev.log.jsonl\"\n",
    "# log_file = \"/home/shtoshni/Research/long-doc-coref/models/umem_singleton_round_1/dev.log.jsonl\"\n",
    "# log_file = \"/home/shtoshni/Research/long-doc-coref/models/umem_singleton_round_2/dev.log.jsonl\"\n",
    "# log_file = \"/home/shtoshni/Research/long-doc-coref/models/umem_ontonotes/dev.log.jsonl\"\n",
    "# log_file = \"/home/shtoshni/Research/litbank_coref/models/ontonotes_logs/ment_singleton/dev.log.jsonl\"\n",
    "log_file = \"/home/shtoshni/Research/litbank_coref/models/ontonotes_logs/umem_ignore/dev.log.jsonl\"\n",
    "log_file = \"/home/shtoshni/Research/litbank_coref/models/ontonotes_logs/ment_singleton_30k/dev.log.jsonl\"\n",
    "log_file = \"/home/shtoshni/Research/litbank_coref/models/ontonotes_logs/ment_singleton_60k/dev.log.jsonl\"\n",
    "log_file = \"/home/shtoshni/Research/litbank_coref/models/ontonotes_logs/ment_singleton_90k/dev.log.jsonl\"\n",
    "log_file = \"/home/shtoshni/Research/litbank_coref/models/ontonotes_logs/ment_singleton_120k/dev.log.jsonl\"\n",
    "log_file = \"/home/shtoshni/Research/litbank_coref/models/ontonotes_logs/ment_singleton_150k/dev.log.jsonl\"\n"
   ]
  },
  {
   "cell_type": "code",
   "execution_count": 486,
   "metadata": {},
   "outputs": [],
   "source": [
    "dev_counter = Counter({'corr': 0, 'pred': 0, 'gt': 0})"
   ]
  },
  {
   "cell_type": "code",
   "execution_count": 487,
   "metadata": {},
   "outputs": [],
   "source": [
    "data = []\n",
    "with open(log_file) as f:\n",
    "    for line in f:\n",
    "        instance = json.loads(line.strip())\n",
    "        data.append(instance)\n",
    "\n",
    "data = remove_singletons(data)\n",
    "# data = remove_singletons(data, key=\"predicted_clusters\")\n",
    "\n",
    "for instance in data:\n",
    "    gt_mentions = get_mention_to_cluster_idx(instance[\"clusters\"])\n",
    "    pred_mentions = get_mention_to_cluster_idx(instance[\"raw_predicted_clusters\"])\n",
    "\n",
    "    dev_counter['gt'] += len(gt_mentions)\n",
    "    dev_counter['pred'] += len(pred_mentions)\n",
    "\n",
    "    for mention in pred_mentions:\n",
    "        if mention in gt_mentions:\n",
    "            dev_counter['corr'] += 1\n"
   ]
  },
  {
   "cell_type": "code",
   "execution_count": 488,
   "metadata": {},
   "outputs": [
    {
     "name": "stdout",
     "output_type": "stream",
     "text": [
      "Counter({'pred': 36209, 'gt': 19155, 'corr': 18273})\n"
     ]
    }
   ],
   "source": [
    "print(dev_counter)"
   ]
  },
  {
   "cell_type": "code",
   "execution_count": 489,
   "metadata": {},
   "outputs": [
    {
     "name": "stdout",
     "output_type": "stream",
     "text": [
      "Recall: 0.954\n",
      "Precision: 0.505\n"
     ]
    }
   ],
   "source": [
    "print('Recall: %.3f' % (dev_counter['corr']/dev_counter['gt']))\n",
    "print('Precision: %.3f' % (dev_counter['corr']/dev_counter['pred']))"
   ]
  }
 ],
 "metadata": {
  "kernelspec": {
   "display_name": "Python [conda env:rap_nlp]",
   "language": "python",
   "name": "conda-env-rap_nlp-py"
  },
  "language_info": {
   "codemirror_mode": {
    "name": "ipython",
    "version": 3
   },
   "file_extension": ".py",
   "mimetype": "text/x-python",
   "name": "python",
   "nbconvert_exporter": "python",
   "pygments_lexer": "ipython3",
   "version": "3.8.5"
  }
 },
 "nbformat": 4,
 "nbformat_minor": 4
}
