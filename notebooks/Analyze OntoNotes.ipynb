{
 "cells": [
  {
   "cell_type": "code",
   "execution_count": 29,
   "metadata": {},
   "outputs": [],
   "source": [
    "import json\n",
    "import os \n",
    "from os import path\n",
    "import glob\n",
    "import numpy as np"
   ]
  },
  {
   "cell_type": "code",
   "execution_count": 30,
   "metadata": {},
   "outputs": [],
   "source": [
    "train_file = \"/home/shtoshni/Research/litbank_coref/data/ontonotes/overlap/train.512.jsonlines\""
   ]
  },
  {
   "cell_type": "code",
   "execution_count": 38,
   "metadata": {},
   "outputs": [],
   "source": [
    "doc_len_list = []\n",
    "num_ment_list = []\n",
    "num_sents = []\n",
    "ment_to_len_frac_list = []\n",
    "span_width_list = []\n",
    "\n",
    "with open(train_file) as f:\n",
    "    for line in f:\n",
    "        instance = json.loads(line.strip())\n",
    "        doc_len = len(instance[\"subtoken_map\"])\n",
    "        \n",
    "        doc_len_list.append(doc_len)\n",
    "        \n",
    "        num_sents.append(len(instance[\"sentences\"]))\n",
    "        num_ments = sum([len(cluster) for cluster in instance[\"clusters\"]])\n",
    "        \n",
    "        for cluster in instance[\"clusters\"]:\n",
    "            for ment_start, ment_end in cluster:\n",
    "                span_width_list.append(ment_end - ment_start + 1)\n",
    "        \n",
    "        num_ment_list.append(num_ments)\n",
    "        \n",
    "        ment_to_len_frac_list.append(num_ments/doc_len)"
   ]
  },
  {
   "cell_type": "code",
   "execution_count": 32,
   "metadata": {},
   "outputs": [],
   "source": [
    "import matplotlib.pyplot as plt\n",
    "import numpy as np\n",
    "from matplotlib import gridspec\n",
    "\n",
    "# Set Matplotlib Parameters\n",
    "plt.style.use('bmh')\n",
    "plt.rc('text', usetex=True)   #  Might require installing TeX fonts\n",
    "plt.rc('axes', facecolor='w', labelcolor='gray', edgecolor='k', labelsize=16)\n",
    "plt.rcParams['font.size'] = 16\n",
    "plt.rcParams['legend.fontsize'] = 16\n",
    "plt.rcParams['xtick.labelsize'] = 16\n",
    "plt.rcParams['ytick.labelsize'] = 16\n",
    "\n",
    "\n",
    "def initialize_bar_plot():\n",
    "    fig, ax = plt.subplots(1)\n",
    "    \n",
    "    # Get rid of grids and ticks\n",
    "    ax.grid(b=False)\n",
    "    ax.xaxis.set_ticks_position('none')\n",
    "    ax.yaxis.set_ticks_position('none')\n",
    "    \n",
    "    # Remove the two sides of the bounding box\n",
    "    spines_to_remove = ['top', 'right']\n",
    "    for spine in spines_to_remove:\n",
    "        ax.spines[spine].set_visible(False)\n",
    "        \n",
    "    return fig, ax"
   ]
  },
  {
   "cell_type": "code",
   "execution_count": 33,
   "metadata": {},
   "outputs": [
    {
     "data": {
      "text/plain": [
       "Text(0.5, 0, '\\\\# of mentions to doc len ratio ')"
      ]
     },
     "execution_count": 33,
     "metadata": {},
     "output_type": "execute_result"
    },
    {
     "data": {
      "image/png": "[encoded data removed]",
      "text/plain": [
       "<Figure size 432x288 with 1 Axes>"
      ]
     },
     "metadata": {
      "needs_background": "light"
     },
     "output_type": "display_data"
    }
   ],
   "source": [
    "fig, ax = initialize_bar_plot()\n",
    "plt.hist(ment_to_len_frac_list)\n",
    "plt.ylabel('Frequency')\n",
    "plt.xlabel('\\# of mentions to doc len ratio ')"
   ]
  },
  {
   "cell_type": "code",
   "execution_count": 34,
   "metadata": {},
   "outputs": [
    {
     "data": {
      "text/plain": [
       "Text(0.5, 0, '\\\\# of sents ')"
      ]
     },
     "execution_count": 34,
     "metadata": {},
     "output_type": "execute_result"
    },
    {
     "data": {
      "image/png": "[encoded data removed]",
      "text/plain": [
       "<Figure size 432x288 with 1 Axes>"
      ]
     },
     "metadata": {
      "needs_background": "light"
     },
     "output_type": "display_data"
    }
   ],
   "source": [
    "fig, ax = initialize_bar_plot()\n",
    "plt.hist(num_sents)\n",
    "plt.ylabel('Frequency')\n",
    "plt.xlabel('\\# of sents ')"
   ]
  },
  {
   "cell_type": "code",
   "execution_count": 39,
   "metadata": {},
   "outputs": [
    {
     "data": {
      "text/plain": [
       "Text(0.5, 0, 'Span width')"
      ]
     },
     "execution_count": 39,
     "metadata": {},
     "output_type": "execute_result"
    },
    {
     "data": {
      "image/png": "[encoded data removed]",
      "text/plain": [
       "<Figure size 432x288 with 1 Axes>"
      ]
     },
     "metadata": {
      "needs_background": "light"
     },
     "output_type": "display_data"
    }
   ],
   "source": [
    "fig, ax = initialize_bar_plot()\n",
    "plt.hist(span_width_list)\n",
    "plt.ylabel('Frequency')\n",
    "plt.xlabel('Span width')"
   ]
  },
  {
   "cell_type": "code",
   "execution_count": 45,
   "metadata": {},
   "outputs": [
    {
     "data": {
      "text/plain": [
       "902"
      ]
     },
     "execution_count": 45,
     "metadata": {},
     "output_type": "execute_result"
    }
   ],
   "source": [
    "np.sum(np.asarray(span_width_list) >= 25)"
   ]
  },
  {
   "cell_type": "markdown",
   "metadata": {},
   "source": [
    "### Global numbers"
   ]
  },
  {
   "cell_type": "code",
   "execution_count": 36,
   "metadata": {},
   "outputs": [
    {
     "name": "stdout",
     "output_type": "stream",
     "text": [
      "# of subtokens in train set: 1462749\n",
      "# of ments in train set: 155558\n"
     ]
    }
   ],
   "source": [
    "print(\"# of subtokens in train set:\", sum(doc_len_list))\n",
    "print(\"# of ments in train set:\", sum(num_ment_list))"
   ]
  }
 ],
 "metadata": {
  "kernelspec": {
   "display_name": "Python [conda env:coref] *",
   "language": "python",
   "name": "conda-env-coref-py"
  },
  "language_info": {
   "codemirror_mode": {
    "name": "ipython",
    "version": 3
   },
   "file_extension": ".py",
   "mimetype": "text/x-python",
   "name": "python",
   "nbconvert_exporter": "python",
   "pygments_lexer": "ipython3",
   "version": "3.6.10"
  }
 },
 "nbformat": 4,
 "nbformat_minor": 4
}
