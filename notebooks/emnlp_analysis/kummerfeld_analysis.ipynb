{
 "cells": [
  {
   "cell_type": "code",
   "execution_count": 14,
   "metadata": {},
   "outputs": [],
   "source": [
    "from os import path\n",
    "import os\n",
    "import glob\n",
    "import json\n",
    "\n",
    "import logging\n",
    "from string import Template\n",
    "logging.basicConfig(format='%(asctime)s - %(message)s', level=logging.INFO)"
   ]
  },
  {
   "cell_type": "code",
   "execution_count": 15,
   "metadata": {},
   "outputs": [],
   "source": [
    "ontonotes_log_dir=\"/home/shtoshni/Research/litbank_coref/models/ontonotes_logs\"\n",
    "ontonotes_files = glob.glob(path.join(ontonotes_log_dir, \"*.conll\"))\n",
    "\n",
    "gold_data_dir=\"/home/shtoshni/Research/mandar_coref/coref/data/conll-2012/v4/data/development/data/english/annotations\"\n",
    "error_analysis_dir = \"/home/shtoshni/Research/litbank_coref/error_analysis/berkeley-coreference-analyser/logs\"\n",
    "script = \"/home/shtoshni/Research/litbank_coref/error_analysis/berkeley-coreference-analyser/classify_coreference_errors.py\"\n",
    "# print(ontonotes_files)"
   ]
  },
  {
   "cell_type": "code",
   "execution_count": 17,
   "metadata": {},
   "outputs": [],
   "source": [
    "model_name = None\n",
    "command = Template(f'python2.7 {script} {error_analysis_dir}/$model {gold_data_dir} {ontonotes_log_dir}/ontonotes_$model.conll')"
   ]
  },
  {
   "cell_type": "code",
   "execution_count": 21,
   "metadata": {},
   "outputs": [],
   "source": [
    "for model_name in ['unbounded', 'learned_5', 'learned_10', 'learned_20',\n",
    "                  'lru_5', 'lru_10', 'lru_20']:\n",
    "    model_command = command.substitute(model=model_name)\n",
    "    os.popen(model_command)"
   ]
  },
  {
   "cell_type": "code",
   "execution_count": 24,
   "metadata": {},
   "outputs": [
    {
     "name": "stdout",
     "output_type": "stream",
     "text": [
      "['/home/shtoshni/Research/litbank_coref/error_analysis/berkeley-coreference-analyser/logs/learned_5.summary', '/home/shtoshni/Research/litbank_coref/error_analysis/berkeley-coreference-analyser/logs/lru_20.summary', '/home/shtoshni/Research/litbank_coref/error_analysis/berkeley-coreference-analyser/logs/learned_10.summary', '/home/shtoshni/Research/litbank_coref/error_analysis/berkeley-coreference-analyser/logs/lru_5.summary', '/home/shtoshni/Research/litbank_coref/error_analysis/berkeley-coreference-analyser/logs/learned_20.summary', '/home/shtoshni/Research/litbank_coref/error_analysis/berkeley-coreference-analyser/logs/lru_10.summary', '/home/shtoshni/Research/litbank_coref/error_analysis/berkeley-coreference-analyser/logs/unbounded.summary']\n"
     ]
    }
   ],
   "source": [
    "summary_files = glob.glob(path.join(error_analysis_dir, \"*.summary\"))\n",
    "# print(summary_files)"
   ]
  },
  {
   "cell_type": "code",
   "execution_count": 30,
   "metadata": {},
   "outputs": [
    {
     "name": "stdout",
     "output_type": "stream",
     "text": [
      "unbounded & 259& 950& 635& 621& 901& 493& 542\n",
      "learned_5 & 218& 722& 394& 426& 1020& 982& 1058\n",
      "learned_10 & 235& 863& 499& 505& 988& 637& 719\n",
      "learned_20 & 248& 894& 571& 542& 905& 513& 631\n",
      "lru_5 & 211& 724& 386& 406& 1166& 989& 1335\n",
      "lru_10 & 244& 851& 474& 547& 1088& 702& 749\n",
      "lru_20 & 247& 880& 559& 561& 903& 531& 634\n"
     ]
    }
   ],
   "source": [
    "for model_name in ['unbounded', 'learned_5', 'learned_10', 'learned_20',\n",
    "                  'lru_5', 'lru_10', 'lru_20']:\n",
    "    summary_file = f\"/home/shtoshni/Research/litbank_coref/error_analysis/berkeley-coreference-analyser/logs/{model_name}.summary\"\n",
    "    with open(summary_file) as f:\n",
    "        seen_errors = False\n",
    "        latex_str = f'{model_name} '\n",
    "        for line in f.readlines():\n",
    "            line = line.strip()\n",
    "            if line == 'Errors:':\n",
    "                seen_errors = True\n",
    "                continue\n",
    "                \n",
    "            if seen_errors:\n",
    "                if line != '':\n",
    "#                     print(line)\n",
    "                    error_count, error_type = line.split(\"   \")\n",
    "                    latex_str += f'& {error_count}'\n",
    "                    \n",
    "        print(latex_str)\n",
    "    "
   ]
  }
 ],
 "metadata": {
  "kernelspec": {
   "display_name": "Python [conda env:coref] *",
   "language": "python",
   "name": "conda-env-coref-py"
  },
  "language_info": {
   "codemirror_mode": {
    "name": "ipython",
    "version": 3
   },
   "file_extension": ".py",
   "mimetype": "text/x-python",
   "name": "python",
   "nbconvert_exporter": "python",
   "pygments_lexer": "ipython3",
   "version": "3.6.10"
  }
 },
 "nbformat": 4,
 "nbformat_minor": 4
}
