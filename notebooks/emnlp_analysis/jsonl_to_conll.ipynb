{
 "cells": [
  {
   "cell_type": "code",
   "execution_count": 1,
   "metadata": {},
   "outputs": [],
   "source": [
    "from code.coref_utils.conll import evaluate_conll\n",
    "from code.coref_utils.utils import mention_to_cluster\n",
    "from code.coref_utils.metrics import CorefEvaluator\n",
    "from os import path\n",
    "import os\n",
    "import glob\n",
    "import json\n",
    "\n",
    "import logging\n",
    "\n",
    "logging.basicConfig(format='%(asctime)s - %(message)s', level=logging.INFO)\n"
   ]
  },
  {
   "cell_type": "code",
   "execution_count": 2,
   "metadata": {},
   "outputs": [],
   "source": [
    "def load_jsonl(file_path):\n",
    "    data = []\n",
    "    with open(file_path, 'r') as f:\n",
    "        for line in f.readlines():\n",
    "            data.append(json.loads(line.strip()))\n",
    "    \n",
    "    return data"
   ]
  },
  {
   "cell_type": "code",
   "execution_count": 3,
   "metadata": {},
   "outputs": [
    {
     "name": "stdout",
     "output_type": "stream",
     "text": [
      "['/home/shtoshni/Research/litbank_coref/models/ontonotes_logs/ontonotes_learned_10.jsonl', '/home/shtoshni/Research/litbank_coref/models/ontonotes_logs/ontonotes_lru_10.jsonl', '/home/shtoshni/Research/litbank_coref/models/ontonotes_logs/ontonotes_lru_20.jsonl', '/home/shtoshni/Research/litbank_coref/models/ontonotes_logs/ontonotes_lru_5.jsonl', '/home/shtoshni/Research/litbank_coref/models/ontonotes_logs/ontonotes_unbounded.jsonl', '/home/shtoshni/Research/litbank_coref/models/ontonotes_logs/ontonotes_learned_20.jsonl', '/home/shtoshni/Research/litbank_coref/models/ontonotes_logs/ontonotes_learned_5.jsonl']\n"
     ]
    }
   ],
   "source": [
    "ontonotes_log_dir=\"/home/shtoshni/Research/litbank_coref/models/ontonotes_logs\"\n",
    "conll_dir = \"/home/shtoshni/Research/litbank_coref/data/ontonotes/conll\"\n",
    "conll_scorer = \"/home/shtoshni/Research/litbank_coref/resources/reference-coreference-scorers/scorer.pl\"\n",
    "\n",
    "ontonotes_files = glob.glob(path.join(ontonotes_log_dir, \"*.jsonl\"))\n",
    "print(ontonotes_files)"
   ]
  },
  {
   "cell_type": "code",
   "execution_count": 4,
   "metadata": {},
   "outputs": [],
   "source": [
    "def log_file_to_model(log_file):\n",
    "    model_name = path.basename(log_file).split(\".\")[0]\n",
    "#     print(model_name)\n",
    "    return model_name"
   ]
  },
  {
   "cell_type": "code",
   "execution_count": 5,
   "metadata": {},
   "outputs": [
    {
     "name": "stderr",
     "output_type": "stream",
     "text": [
      "2020-06-03 09:56:07,689 - ontonotes_learned_10 (CoNLL) F-score : 76.6, MUC: 82.9, Bcub: 75.5, CEAFE: 71.4\n",
      "2020-06-03 09:56:11,886 - ontonotes_lru_10 (CoNLL) F-score : 75.2, MUC: 81.9, Bcub: 73.9, CEAFE: 69.9\n",
      "2020-06-03 09:56:16,038 - ontonotes_lru_20 (CoNLL) F-score : 77.5, MUC: 83.5, Bcub: 76.4, CEAFE: 72.7\n",
      "2020-06-03 09:56:20,206 - ontonotes_lru_5 (CoNLL) F-score : 69.1, MUC: 77.2, Bcub: 67.4, CEAFE: 62.6\n",
      "2020-06-03 09:56:24,392 - ontonotes_unbounded (CoNLL) F-score : 77.7, MUC: 83.5, Bcub: 76.6, CEAFE: 73.1\n",
      "2020-06-03 09:56:28,534 - ontonotes_learned_20 (CoNLL) F-score : 77.7, MUC: 83.5, Bcub: 76.5, CEAFE: 73.0\n",
      "2020-06-03 09:56:32,676 - ontonotes_learned_5 (CoNLL) F-score : 73.2, MUC: 80.3, Bcub: 71.8, CEAFE: 67.4\n"
     ]
    }
   ],
   "source": [
    "for log_file in ontonotes_files:\n",
    "    model_name = log_file_to_model(log_file)\n",
    "    data = load_jsonl(log_file)\n",
    "    coref_predictions, subtoken_maps = {}, {}\n",
    "    for example in data:\n",
    "        predicted_clusters, mention_to_predicted =\\\n",
    "            mention_to_cluster(example[\"predicted_clusters\"], threshold=2)\n",
    "        gold_clusters, mention_to_gold =\\\n",
    "            mention_to_cluster(example[\"clusters\"], threshold=2)\n",
    "        \n",
    "        coref_predictions[example[\"doc_key\"]] = predicted_clusters\n",
    "        subtoken_maps[example[\"doc_key\"]] = example[\"subtoken_map\"]\n",
    "        \n",
    "    split='dev'\n",
    "    gold_path = path.join(conll_dir, f'{split}.conll')\n",
    "    prediction_file = path.join(ontonotes_log_dir, f'{model_name}.conll')\n",
    "    conll_results = evaluate_conll(\n",
    "        conll_scorer, gold_path, coref_predictions, subtoken_maps, prediction_file)\n",
    "    average_f1 = sum(results for results in conll_results.values()) / len(conll_results)\n",
    "    logging.info(\"%s (CoNLL) F-score : %.1f, MUC: %.1f, Bcub: %.1f, CEAFE: %.1f\"\n",
    "                 % (model_name, average_f1, conll_results[\"muc\"], conll_results['bcub'],\n",
    "                    conll_results['ceafe']))"
   ]
  }
 ],
 "metadata": {
  "kernelspec": {
   "display_name": "Python [conda env:coref] *",
   "language": "python",
   "name": "conda-env-coref-py"
  },
  "language_info": {
   "codemirror_mode": {
    "name": "ipython",
    "version": 3
   },
   "file_extension": ".py",
   "mimetype": "text/x-python",
   "name": "python",
   "nbconvert_exporter": "python",
   "pygments_lexer": "ipython3",
   "version": "3.6.10"
  }
 },
 "nbformat": 4,
 "nbformat_minor": 4
}
