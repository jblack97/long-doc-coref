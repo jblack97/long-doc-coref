{
 "cells": [
  {
   "cell_type": "code",
   "execution_count": 19,
   "metadata": {},
   "outputs": [],
   "source": [
    "import os\n",
    "from os import path\n",
    "import numpy as np\n",
    "import json\n",
    "\n",
    "from metrics import CorefEvaluator\n",
    "from scipy.stats import spearmanr"
   ]
  },
  {
   "cell_type": "code",
   "execution_count": 20,
   "metadata": {},
   "outputs": [],
   "source": [
    "log_dir = \"/home/shtoshni/Research/litbank_coref/models/litbank_logs\"\n",
    "\n",
    "models = [\"unbounded\", \"learned\", \"lru\"]\n",
    "num_cells = [\"5\", \"10\", \"20\"]\n"
   ]
  },
  {
   "cell_type": "code",
   "execution_count": 21,
   "metadata": {},
   "outputs": [],
   "source": [
    "def load_jsonl(file_path):\n",
    "    data = []\n",
    "    with open(file_path, 'r') as f:\n",
    "        for line in f.readlines():\n",
    "            data.append(json.loads(line.strip()))\n",
    "    \n",
    "    return data\n",
    "\n",
    "\n",
    "def mention_to_cluster(clusters, threshold=2):\n",
    "    clusters = [tuple(tuple(mention) for mention in cluster)\n",
    "                for cluster in clusters if len(cluster) >= threshold]\n",
    "    mention_to_cluster = {}\n",
    "    for cluster in clusters:\n",
    "        for mention in cluster:\n",
    "            mention_to_cluster[mention] = cluster\n",
    "    return clusters, mention_to_cluster\n",
    "\n",
    "def get_cluster_spans(coref_chains):\n",
    "    cluster_spans = []\n",
    "    for chain in coref_chains:\n",
    "        min_start = 1e9\n",
    "        max_end = 0\n",
    "        for (span_start, span_end) in chain:\n",
    "            min_start = min(span_start, min_start)\n",
    "            max_end = max(span_end, max_end)\n",
    "            \n",
    "        cluster_spans.append((min_start, max_end))\n",
    "    return cluster_spans\n",
    "\n",
    "def get_max_active_chains(cluster_spans):\n",
    "    last_mention_idx = max([span_end for _, span_end in cluster_spans])\n",
    "    num_clusters = len(cluster_spans)\n",
    "    \n",
    "    # Boolean variable that marks whether a cluster is active at certain time step or not\n",
    "    active_chains = np.zeros((num_clusters, last_mention_idx), dtype=np.int32)\n",
    "    for idx, (span_start, span_end) in enumerate(cluster_spans):\n",
    "        active_chains[idx, span_start:span_end + 1] = 1\n",
    "    \n",
    "    active_chain_sum = np.sum(active_chains, axis=0)\n",
    "    assert(last_mention_idx == len(active_chain_sum)) # Just to make sure summing over right dimension\n",
    "    \n",
    "    return np.max(active_chain_sum), np.argmax(active_chain_sum)"
   ]
  },
  {
   "cell_type": "code",
   "execution_count": 22,
   "metadata": {},
   "outputs": [],
   "source": [
    "# Load logs here\n",
    "\n",
    "model_to_logs = {}\n",
    "for model in models:\n",
    "    if model == 'unbounded':\n",
    "        model_to_logs['unbounded'] = []\n",
    "        for i in range(1, 11):\n",
    "                model_file = path.join(log_dir, f\"log_{i}.jsonl\")\n",
    "                model_to_logs['unbounded'].extend(load_jsonl(model_file))\n",
    "                \n",
    "    elif model == 'learned':\n",
    "        for j, num_cell in enumerate(num_cells):\n",
    "            model_name = f'learned_{num_cell}'\n",
    "            model_to_logs[model_name] = []\n",
    "            offset = 20 + j + 1\n",
    "            for i in range(1, 11):\n",
    "                model_file = path.join(log_dir, f\"log_{offset + (i - 1)* 3}.jsonl\")\n",
    "                model_to_logs[model_name].extend(load_jsonl(model_file))\n",
    "#                 print(model_file)\n",
    "                \n",
    "    elif model == 'lru':\n",
    "        for j, num_cell in enumerate(num_cells):\n",
    "            model_name = f'lru_{num_cell}'\n",
    "            model_to_logs[model_name] = []\n",
    "            offset = 80 + j + 1\n",
    "            for i in range(1, 11):\n",
    "                model_file = path.join(log_dir, f\"log_{offset + (i - 1)* 3}.jsonl\")\n",
    "                model_to_logs[model_name].extend(load_jsonl(model_file))\n",
    "#                 print(model_file) "
   ]
  },
  {
   "cell_type": "code",
   "execution_count": 34,
   "metadata": {},
   "outputs": [
    {
     "name": "stdout",
     "output_type": "stream",
     "text": [
      "unbounded Counter({'i': 40502, 'c': 21281, 'o': 9687})\n",
      "learned_5 Counter({'i': 41953, 'c': 19113, 'o': 8573, 'n': 1831})\n",
      "learned_10 Counter({'i': 42925, 'c': 20350, 'o': 8195})\n",
      "learned_20 Counter({'i': 42934, 'c': 20575, 'o': 7961})\n",
      "lru_5 Counter({'i': 40953, 'c': 17699, 'n': 8319, 'o': 4499})\n",
      "lru_10 Counter({'i': 40807, 'c': 19150, 'o': 8067, 'n': 3446})\n",
      "lru_20 Counter({'i': 41249, 'c': 20134, 'o': 9392, 'n': 695})\n"
     ]
    }
   ],
   "source": [
    "from collections import Counter\n",
    "\n",
    "for model, log_data in model_to_logs.items():\n",
    "    action_counter = Counter()\n",
    "    for example in log_data:\n",
    "        _, pred_actions = zip(*example[\"pred_actions\"])\n",
    "        for action in pred_actions:\n",
    "            action_counter[action] += 1\n",
    "            \n",
    "    \n",
    "    print(model, action_counter)\n",
    "        "
   ]
  },
  {
   "cell_type": "code",
   "execution_count": 23,
   "metadata": {},
   "outputs": [],
   "source": [
    "## Calculate Statistics for docs\n",
    "doc_key_to_stat = {}\n",
    "for example in model_to_logs['unbounded']:\n",
    "    cluster_spans = get_cluster_spans(example[\"clusters\"])\n",
    "    max_active_chains, _ = get_max_active_chains(cluster_spans)\n",
    "    sorted_cluster_lens = sorted([len(cluster) for cluster in example[\"clusters\"]], reverse=True)\n",
    "    doc_key_to_stat[example[\"doc_key\"]] = [max_active_chains, sorted_cluster_lens]"
   ]
  },
  {
   "cell_type": "code",
   "execution_count": 24,
   "metadata": {},
   "outputs": [],
   "source": [
    "model_perf_per_example = {}\n",
    "for model in model_to_logs:\n",
    "    log_data = model_to_logs[model]\n",
    "    perf_list = []\n",
    "    for example in log_data:\n",
    "        evaluator = CorefEvaluator()\n",
    "                \n",
    "        predicted_clusters, mention_to_predicted =\\\n",
    "            mention_to_cluster(example[\"predicted_clusters\"], threshold=1)\n",
    "        gold_clusters, mention_to_gold =\\\n",
    "            mention_to_cluster(example[\"clusters\"], threshold=1)\n",
    "\n",
    "\n",
    "        evaluator.update(predicted_clusters, gold_clusters,\n",
    "                         mention_to_predicted, mention_to_gold)\n",
    "        \n",
    "        doc_len = example[\"subtoken_map\"][-1] + 1\n",
    "        num_ents = len(gold_clusters)\n",
    "        \n",
    "        example_fscore = evaluator.get_prf()[2] * 100.0\n",
    "        \n",
    "        perf_list.append((doc_len, num_ents, example_fscore, example))\n",
    "        \n",
    "        \n",
    "    model_perf_per_example[model] = perf_list\n",
    "        "
   ]
  },
  {
   "cell_type": "code",
   "execution_count": 25,
   "metadata": {},
   "outputs": [
    {
     "name": "stdout",
     "output_type": "stream",
     "text": [
      "Num cells 5\n",
      "Learned\n",
      "8867_the_magnificent_ambersons_brat_0 56.62002043933275\n",
      "1695_the_man_who_was_thursday_a_nightmare_brat_0 32.18289714555622\n",
      "6593_history_of_tom_jones_a_foundling_brat_0 30.993628443966927\n",
      "LRU\n",
      "27_far_from_the_madding_crowd_brat_0 2.445963041747447\n",
      "711_allan_quatermain_brat_0 0.2874241387266352\n",
      "766_david_copperfield_brat_0 0.05632215920590511\n",
      "\n",
      "Num cells 10\n",
      "Learned\n",
      "8867_the_magnificent_ambersons_brat_0 53.86864083109797\n",
      "1695_the_man_who_was_thursday_a_nightmare_brat_0 29.38083563288459\n",
      "76_adventures_of_huckleberry_finn_brat_0 25.365012970136277\n",
      "LRU\n",
      "174_the_picture_of_dorian_gray_brat_0 4.801842814451007\n",
      "940_the_last_of_the_mohicans_a_narrative_of_1757_brat_0 2.629418497926274\n",
      "367_country_of_the_pointed_firs_brat_0 0.30790983877787426\n",
      "\n",
      "Num cells 20\n",
      "Learned\n",
      "8867_the_magnificent_ambersons_brat_0 38.46343589614495\n",
      "76_adventures_of_huckleberry_finn_brat_0 18.9291788372921\n",
      "514_little_women_brat_0 14.422134104461918\n",
      "LRU\n",
      "215_the_call_of_the_wild_brat_0 4.55510604288159\n",
      "367_country_of_the_pointed_firs_brat_0 3.6339619554807\n",
      "6053_evelina_or_the_history_of_a_young_ladys_entrance_into_the_world_brat_0 3.180617087503016\n",
      "\n"
     ]
    }
   ],
   "source": [
    "for num_cells in [5, 10, 20]:\n",
    "    perf_learned_list = model_perf_per_example[f'learned_{num_cells}']\n",
    "    perf_lru_list = model_perf_per_example[f'lru_{num_cells}']\n",
    "\n",
    "    learned_better = []\n",
    "    lru_better = []\n",
    "    for i in range(len(perf_learned_list)):\n",
    "        perf_learned = perf_learned_list[i]\n",
    "        perf_lru = perf_lru_list[i]\n",
    "        \n",
    "        assert (perf_learned[3]['doc_key'] == perf_lru[3]['doc_key'] )\n",
    "        perf_learned = perf_learned_list[i]\n",
    "        perf_lru = perf_lru_list[i]\n",
    "\n",
    "        diff_learned = perf_learned[2] - perf_lru[2] \n",
    "        if diff_learned > 0:\n",
    "            learned_better.append((diff_learned, perf_learned[3]))\n",
    "\n",
    "        diff_lru = -diff_learned\n",
    "        if diff_lru > 0:\n",
    "            lru_better.append((diff_lru, perf_lru[3]))\n",
    "\n",
    "    \n",
    "    print(f'Num cells {num_cells}')\n",
    "    print('Learned')\n",
    "    learned_better = sorted(learned_better, key=lambda x: x[0], reverse=True)\n",
    "    for (diff_score, example) in learned_better[:3]:\n",
    "        print(example[\"doc_key\"], diff_score)\n",
    "    print('LRU')\n",
    "    lru_better = sorted(lru_better, key=lambda x: x[0], reverse=True)\n",
    "    for (diff_score, example) in lru_better[:3]:\n",
    "        print(example[\"doc_key\"], diff_score)\n",
    "    print()"
   ]
  },
  {
   "cell_type": "markdown",
   "metadata": {},
   "source": [
    "### Mention Ignored - Learned vs LRU"
   ]
  },
  {
   "cell_type": "code",
   "execution_count": 26,
   "metadata": {},
   "outputs": [
    {
     "name": "stdout",
     "output_type": "stream",
     "text": [
      "unbounded, max: 0, avg: 0.0\n",
      "learned_5, max: 56, avg: 18.3\n",
      "learned_10, max: 0, avg: 0.0\n",
      "learned_20, max: 0, avg: 0.0\n",
      "lru_5, max: 196, avg: 83.2\n",
      "lru_10, max: 178, avg: 34.5\n",
      "lru_20, max: 86, avg: 7.0\n"
     ]
    }
   ],
   "source": [
    "for model, logs in model_to_logs.items():\n",
    "    mem_usage = []\n",
    "    for log in logs:\n",
    "        over_action = sum([1  for action in log[\"pred_actions\"] if action[1]=='n' ])\n",
    "    \n",
    "        if 'unbounded' not in model:\n",
    "            num_cells = int(model.split('_')[-1])\n",
    "#             over_action = min(over_action, num_cells)\n",
    "\n",
    "        mem_usage.append(over_action) \n",
    "    \n",
    "    \n",
    "    print ('{}, max: {}, avg: {:.1f}'.format(model, max(mem_usage), np.mean(mem_usage)))"
   ]
  },
  {
   "cell_type": "markdown",
   "metadata": {},
   "source": [
    "## Spearman Correlations"
   ]
  },
  {
   "cell_type": "markdown",
   "metadata": {},
   "source": [
    "### Correlations with doc len and Num Ent"
   ]
  },
  {
   "cell_type": "code",
   "execution_count": 27,
   "metadata": {},
   "outputs": [
    {
     "name": "stdout",
     "output_type": "stream",
     "text": [
      "unbounded doc len -0.09 num ent -0.28\n",
      "learned_5 doc len 0.01 num ent -0.23\n",
      "learned_10 doc len -0.04 num ent -0.28\n",
      "learned_20 doc len -0.02 num ent -0.35\n",
      "lru_5 doc len 0.04 num ent -0.40\n",
      "lru_10 doc len -0.07 num ent -0.40\n",
      "lru_20 doc len -0.09 num ent -0.28\n"
     ]
    }
   ],
   "source": [
    "for model in model_perf_per_example:\n",
    "    perf_list = model_perf_per_example[model]\n",
    "    doc_len_list, num_ent_list, fscore, _ = zip(*perf_list)\n",
    "\n",
    "    print('{} doc len {:.2f} num ent {:.2f}'.format(model, spearmanr(doc_len_list, fscore)[0], \n",
    "                                                    spearmanr(num_ent_list, fscore)[0]))"
   ]
  },
  {
   "cell_type": "code",
   "execution_count": 28,
   "metadata": {},
   "outputs": [],
   "source": [
    "### Correlation with num active chains"
   ]
  },
  {
   "cell_type": "code",
   "execution_count": 29,
   "metadata": {},
   "outputs": [
    {
     "name": "stdout",
     "output_type": "stream",
     "text": [
      "unbounded Active chains -0.18\n",
      "learned_5 Active chains -0.44\n",
      "learned_10 Active chains -0.35\n",
      "learned_20 Active chains -0.28\n",
      "lru_5 Active chains -0.24\n",
      "lru_10 Active chains -0.20\n",
      "lru_20 Active chains -0.27\n"
     ]
    }
   ],
   "source": [
    "for model in model_perf_per_example:\n",
    "    perf_list = model_perf_per_example[model]\n",
    "    _, _, fscore, example_list = zip(*perf_list)\n",
    "    active_chain_list = []\n",
    "    for example in example_list:\n",
    "        active_chain_list.append(doc_key_to_stat[example[\"doc_key\"]][0])\n",
    "\n",
    "    print('{} Active chains {:.2f}'.format(model, spearmanr(active_chain_list, fscore)[0]))"
   ]
  },
  {
   "cell_type": "code",
   "execution_count": 30,
   "metadata": {},
   "outputs": [
    {
     "name": "stdout",
     "output_type": "stream",
     "text": [
      "unbounded Top-2 clusters 0.62\n",
      "learned_5 Top-2 clusters 0.54\n",
      "learned_10 Top-2 clusters 0.61\n",
      "learned_20 Top-2 clusters 0.65\n",
      "lru_5 Top-2 clusters 0.61\n",
      "lru_10 Top-2 clusters 0.66\n",
      "lru_20 Top-2 clusters 0.63\n",
      "\n",
      "unbounded Top-5 clusters 0.54\n",
      "learned_5 Top-5 clusters 0.41\n",
      "learned_10 Top-5 clusters 0.50\n",
      "learned_20 Top-5 clusters 0.56\n",
      "lru_5 Top-5 clusters 0.50\n",
      "lru_10 Top-5 clusters 0.60\n",
      "lru_20 Top-5 clusters 0.55\n",
      "\n",
      "unbounded Top-10 clusters 0.49\n",
      "learned_5 Top-10 clusters 0.34\n",
      "learned_10 Top-10 clusters 0.43\n",
      "learned_20 Top-10 clusters 0.50\n",
      "lru_5 Top-10 clusters 0.42\n",
      "lru_10 Top-10 clusters 0.55\n",
      "lru_20 Top-10 clusters 0.49\n",
      "\n"
     ]
    }
   ],
   "source": [
    "for k in [2, 5, 10]:\n",
    "    for model in model_perf_per_example:\n",
    "        perf_list = model_perf_per_example[model]\n",
    "        _, _, fscore, example_list = zip(*perf_list)\n",
    "        avg_topk_cluster_len_list = []\n",
    "        for example in example_list:\n",
    "            avg_topk_cluster_len_list.append(sum(doc_key_to_stat[example[\"doc_key\"]][1][:k]))\n",
    "\n",
    "        print('{} Top-{} clusters {:.2f}'.format(model, k, spearmanr(avg_topk_cluster_len_list, fscore)[0]))\n",
    "    print()"
   ]
  },
  {
   "cell_type": "code",
   "execution_count": 31,
   "metadata": {},
   "outputs": [
    {
     "name": "stdout",
     "output_type": "stream",
     "text": [
      "unbounded, max: 198, avg: 96.9\n",
      "learned_5, max: 5, avg: 5.0\n",
      "learned_10, max: 10, avg: 10.0\n",
      "learned_20, max: 20, avg: 20.0\n",
      "lru_5, max: 5, avg: 5.0\n",
      "lru_10, max: 10, avg: 10.0\n",
      "lru_20, max: 20, avg: 20.0\n"
     ]
    }
   ],
   "source": [
    "for model, logs in model_to_logs.items():\n",
    "    mem_usage = []\n",
    "    for log in logs:\n",
    "        over_action = sum([1  for action in log[\"pred_actions\"] if action[1]=='o' ])\n",
    "    \n",
    "        if 'unbounded' not in model:\n",
    "            num_cells = int(model.split('_')[-1])\n",
    "            over_action = min(over_action, num_cells)\n",
    "\n",
    "        mem_usage.append(over_action) \n",
    "    \n",
    "    \n",
    "    print ('{}, max: {}, avg: {:.1f}'.format(model, max(mem_usage), np.mean(mem_usage)))\n",
    "    \n",
    "#     print(mem_usage)"
   ]
  },
  {
   "cell_type": "code",
   "execution_count": 32,
   "metadata": {},
   "outputs": [
    {
     "name": "stdout",
     "output_type": "stream",
     "text": [
      "unbounded, max: 198, avg: 96.9\n",
      "learned_5, max: 5, avg: 5.0\n",
      "learned_10, max: 10, avg: 10.0\n",
      "learned_20, max: 20, avg: 20.0\n",
      "lru_5, max: 5, avg: 5.0\n",
      "lru_10, max: 10, avg: 10.0\n",
      "lru_20, max: 20, avg: 20.0\n"
     ]
    }
   ],
   "source": [
    "for model, logs in model_to_logs.items():\n",
    "    mem_usage = []\n",
    "    for log in logs:\n",
    "        over_action = sum([1  for action in log[\"pred_actions\"] if action[1]=='o' ])\n",
    "    \n",
    "        if 'unbounded' not in model:\n",
    "            num_cells = int(model.split('_')[-1])\n",
    "            over_action = min(over_action, num_cells)\n",
    "\n",
    "        mem_usage.append(over_action) \n",
    "    \n",
    "    \n",
    "    print ('{}, max: {}, avg: {:.1f}'.format(model, max(mem_usage), np.mean(mem_usage)))\n",
    "    \n",
    "#     print(mem_usage)"
   ]
  }
 ],
 "metadata": {
  "kernelspec": {
   "display_name": "Python [conda env:narrative_10]",
   "language": "python",
   "name": "conda-env-narrative_10-py"
  },
  "language_info": {
   "codemirror_mode": {
    "name": "ipython",
    "version": 3
   },
   "file_extension": ".py",
   "mimetype": "text/x-python",
   "name": "python",
   "nbconvert_exporter": "python",
   "pygments_lexer": "ipython3",
   "version": "3.7.2"
  }
 },
 "nbformat": 4,
 "nbformat_minor": 4
}
