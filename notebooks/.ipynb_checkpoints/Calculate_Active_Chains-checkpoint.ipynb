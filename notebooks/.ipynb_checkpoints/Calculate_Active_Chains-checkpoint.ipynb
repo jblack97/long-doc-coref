{
 "cells": [
  {
   "cell_type": "code",
   "execution_count": 22,
   "metadata": {},
   "outputs": [],
   "source": [
    "import os\n",
    "import json\n",
    "from collections import defaultdict, OrderedDict\n",
    "from os import path\n",
    "import numpy as np"
   ]
  },
  {
   "cell_type": "code",
   "execution_count": 23,
   "metadata": {},
   "outputs": [],
   "source": [
    "def load_jsonl(file_path):\n",
    "    data = []\n",
    "    with open(file_path, 'r') as f:\n",
    "        for line in f.readlines():\n",
    "            data.append(json.loads(line.strip()))\n",
    "    \n",
    "    return data"
   ]
  },
  {
   "cell_type": "code",
   "execution_count": 24,
   "metadata": {},
   "outputs": [],
   "source": [
    "def get_cluster_spans(coref_chains):\n",
    "    cluster_spans = []\n",
    "    for chain in coref_chains:\n",
    "        min_start = 1e9\n",
    "        max_end = 0\n",
    "        for (span_start, span_end) in chain:\n",
    "            min_start = min(span_start, min_start)\n",
    "            max_end = max(span_end, max_end)\n",
    "            \n",
    "        cluster_spans.append((min_start, max_end))\n",
    "    return cluster_spans"
   ]
  },
  {
   "cell_type": "code",
   "execution_count": 30,
   "metadata": {},
   "outputs": [],
   "source": [
    "def get_max_active_chains(cluster_spans):\n",
    "    last_mention_idx = max([span_end for _, span_end in cluster_spans])\n",
    "    num_clusters = len(cluster_spans)\n",
    "    \n",
    "    # Boolean variable that marks whether a cluster is active at certain time step or not\n",
    "    active_chains = np.zeros((num_clusters, last_mention_idx), dtype=np.int32)\n",
    "    for idx, (span_start, span_end) in enumerate(cluster_spans):\n",
    "        active_chains[idx, span_start:span_end + 1] = 1\n",
    "    \n",
    "    active_chain_sum = np.sum(active_chains, axis=0)\n",
    "    assert(last_mention_idx == len(active_chain_sum)) # Just to make sure summing over right dimension\n",
    "    \n",
    "    return np.max(active_chain_sum), np.argmax(active_chain_sum)"
   ]
  },
  {
   "cell_type": "code",
   "execution_count": 31,
   "metadata": {},
   "outputs": [],
   "source": [
    "def get_doc_tokens(sentences):\n",
    "    doc_tokens = []\n",
    "    for sent in sentences:\n",
    "        doc_tokens.extend(sent)\n",
    "    return doc_tokens"
   ]
  },
  {
   "cell_type": "code",
   "execution_count": 35,
   "metadata": {},
   "outputs": [
    {
     "ename": "SyntaxError",
     "evalue": "invalid syntax (<ipython-input-35-0a19981cce9e>, line 11)",
     "output_type": "error",
     "traceback": [
      "\u001b[0;36m  File \u001b[0;32m\"<ipython-input-35-0a19981cce9e>\"\u001b[0;36m, line \u001b[0;32m11\u001b[0m\n\u001b[0;31m    if len(cluster_)\u001b[0m\n\u001b[0m                    ^\u001b[0m\n\u001b[0;31mSyntaxError\u001b[0m\u001b[0;31m:\u001b[0m invalid syntax\n"
     ]
    }
   ],
   "source": [
    "def get_stats_for_file(train_file):\n",
    "    print(train_file)\n",
    "    data = load_jsonl(train_file)\n",
    "    max_active_chains = 0\n",
    "    corr_doc_idx = None\n",
    "    within_doc_idx = None\n",
    "\n",
    "    chain_spread = []\n",
    "    for doc_idx, instance in enumerate(data):\n",
    "        cluster_spans = get_cluster_spans(instance[\"clusters\"])\n",
    "        if len(cluster_)\n",
    "        for (span_start, span_end) in cluster_spans:\n",
    "            chain_spread.append(span_end - span_start)\n",
    "        doc_tokens = get_doc_tokens(instance[\"sentences\"])\n",
    "        instance_max_active_chains, instance_within_doc_idx = get_max_active_chains(cluster_spans)\n",
    "        if max_active_chains < instance_max_active_chains:\n",
    "            max_active_chains = instance_max_active_chains\n",
    "            corr_doc_idx = doc_idx\n",
    "            within_doc_idx = instance_within_doc_idx\n",
    "\n",
    "    print(\"Max active chains: {} present in {}\".format(max_active_chains, data[corr_doc_idx][\"doc_key\"]))"
   ]
  },
  {
   "cell_type": "code",
   "execution_count": 33,
   "metadata": {},
   "outputs": [
    {
     "name": "stdout",
     "output_type": "stream",
     "text": [
      "/home/shtoshni/Research/litbank_coref/data/litbank/independent/0/train.512.jsonlines\n",
      "Max active chains: 18 present in 2891_howards_end_brat_0\n"
     ]
    }
   ],
   "source": [
    "data_dir = \"/home/shtoshni/Research/litbank_coref/data/litbank/independent/0\"\n",
    "train_file = path.join(data_dir, \"train.512.jsonlines\")\n",
    "get_stats_for_file(train_file)"
   ]
  },
  {
   "cell_type": "code",
   "execution_count": 34,
   "metadata": {},
   "outputs": [
    {
     "name": "stdout",
     "output_type": "stream",
     "text": [
      "/home/shtoshni/Research/litbank_coref/data/ontonotes/independent/train.512.jsonlines\n"
     ]
    },
    {
     "ename": "ValueError",
     "evalue": "max() arg is an empty sequence",
     "output_type": "error",
     "traceback": [
      "\u001b[0;31m---------------------------------------------------------------------------\u001b[0m",
      "\u001b[0;31mValueError\u001b[0m                                Traceback (most recent call last)",
      "\u001b[0;32m<ipython-input-34-127548984822>\u001b[0m in \u001b[0;36m<module>\u001b[0;34m\u001b[0m\n\u001b[1;32m      1\u001b[0m \u001b[0mdata_dir\u001b[0m \u001b[0;34m=\u001b[0m \u001b[0;34m\"/home/shtoshni/Research/litbank_coref/data/ontonotes/independent\"\u001b[0m\u001b[0;34m\u001b[0m\u001b[0;34m\u001b[0m\u001b[0m\n\u001b[1;32m      2\u001b[0m \u001b[0mtrain_file\u001b[0m \u001b[0;34m=\u001b[0m \u001b[0mpath\u001b[0m\u001b[0;34m.\u001b[0m\u001b[0mjoin\u001b[0m\u001b[0;34m(\u001b[0m\u001b[0mdata_dir\u001b[0m\u001b[0;34m,\u001b[0m \u001b[0;34m\"train.512.jsonlines\"\u001b[0m\u001b[0;34m)\u001b[0m\u001b[0;34m\u001b[0m\u001b[0;34m\u001b[0m\u001b[0m\n\u001b[0;32m----> 3\u001b[0;31m \u001b[0mget_stats_for_file\u001b[0m\u001b[0;34m(\u001b[0m\u001b[0mtrain_file\u001b[0m\u001b[0;34m)\u001b[0m\u001b[0;34m\u001b[0m\u001b[0;34m\u001b[0m\u001b[0m\n\u001b[0m",
      "\u001b[0;32m<ipython-input-32-2b03d1dc6aa9>\u001b[0m in \u001b[0;36mget_stats_for_file\u001b[0;34m(train_file)\u001b[0m\n\u001b[1;32m     12\u001b[0m             \u001b[0mchain_spread\u001b[0m\u001b[0;34m.\u001b[0m\u001b[0mappend\u001b[0m\u001b[0;34m(\u001b[0m\u001b[0mspan_end\u001b[0m \u001b[0;34m-\u001b[0m \u001b[0mspan_start\u001b[0m\u001b[0;34m)\u001b[0m\u001b[0;34m\u001b[0m\u001b[0;34m\u001b[0m\u001b[0m\n\u001b[1;32m     13\u001b[0m         \u001b[0mdoc_tokens\u001b[0m \u001b[0;34m=\u001b[0m \u001b[0mget_doc_tokens\u001b[0m\u001b[0;34m(\u001b[0m\u001b[0minstance\u001b[0m\u001b[0;34m[\u001b[0m\u001b[0;34m\"sentences\"\u001b[0m\u001b[0;34m]\u001b[0m\u001b[0;34m)\u001b[0m\u001b[0;34m\u001b[0m\u001b[0;34m\u001b[0m\u001b[0m\n\u001b[0;32m---> 14\u001b[0;31m         \u001b[0minstance_max_active_chains\u001b[0m\u001b[0;34m,\u001b[0m \u001b[0minstance_within_doc_idx\u001b[0m \u001b[0;34m=\u001b[0m \u001b[0mget_max_active_chains\u001b[0m\u001b[0;34m(\u001b[0m\u001b[0mcluster_spans\u001b[0m\u001b[0;34m)\u001b[0m\u001b[0;34m\u001b[0m\u001b[0;34m\u001b[0m\u001b[0m\n\u001b[0m\u001b[1;32m     15\u001b[0m         \u001b[0;32mif\u001b[0m \u001b[0mmax_active_chains\u001b[0m \u001b[0;34m<\u001b[0m \u001b[0minstance_max_active_chains\u001b[0m\u001b[0;34m:\u001b[0m\u001b[0;34m\u001b[0m\u001b[0;34m\u001b[0m\u001b[0m\n\u001b[1;32m     16\u001b[0m             \u001b[0mmax_active_chains\u001b[0m \u001b[0;34m=\u001b[0m \u001b[0minstance_max_active_chains\u001b[0m\u001b[0;34m\u001b[0m\u001b[0;34m\u001b[0m\u001b[0m\n",
      "\u001b[0;32m<ipython-input-30-91a521abd8af>\u001b[0m in \u001b[0;36mget_max_active_chains\u001b[0;34m(cluster_spans)\u001b[0m\n\u001b[1;32m      1\u001b[0m \u001b[0;32mdef\u001b[0m \u001b[0mget_max_active_chains\u001b[0m\u001b[0;34m(\u001b[0m\u001b[0mcluster_spans\u001b[0m\u001b[0;34m)\u001b[0m\u001b[0;34m:\u001b[0m\u001b[0;34m\u001b[0m\u001b[0;34m\u001b[0m\u001b[0m\n\u001b[0;32m----> 2\u001b[0;31m     \u001b[0mlast_mention_idx\u001b[0m \u001b[0;34m=\u001b[0m \u001b[0mmax\u001b[0m\u001b[0;34m(\u001b[0m\u001b[0;34m[\u001b[0m\u001b[0mspan_end\u001b[0m \u001b[0;32mfor\u001b[0m \u001b[0m_\u001b[0m\u001b[0;34m,\u001b[0m \u001b[0mspan_end\u001b[0m \u001b[0;32min\u001b[0m \u001b[0mcluster_spans\u001b[0m\u001b[0;34m]\u001b[0m\u001b[0;34m)\u001b[0m\u001b[0;34m\u001b[0m\u001b[0;34m\u001b[0m\u001b[0m\n\u001b[0m\u001b[1;32m      3\u001b[0m     \u001b[0mnum_clusters\u001b[0m \u001b[0;34m=\u001b[0m \u001b[0mlen\u001b[0m\u001b[0;34m(\u001b[0m\u001b[0mcluster_spans\u001b[0m\u001b[0;34m)\u001b[0m\u001b[0;34m\u001b[0m\u001b[0;34m\u001b[0m\u001b[0m\n\u001b[1;32m      4\u001b[0m \u001b[0;34m\u001b[0m\u001b[0m\n\u001b[1;32m      5\u001b[0m     \u001b[0;31m# Boolean variable that marks whether a cluster is active at certain time step or not\u001b[0m\u001b[0;34m\u001b[0m\u001b[0;34m\u001b[0m\u001b[0;34m\u001b[0m\u001b[0m\n",
      "\u001b[0;31mValueError\u001b[0m: max() arg is an empty sequence"
     ]
    }
   ],
   "source": [
    "data_dir = \"/home/shtoshni/Research/litbank_coref/data/ontonotes/independent\"\n",
    "train_file = path.join(data_dir, \"train.512.jsonlines\")\n",
    "get_stats_for_file(train_file)"
   ]
  },
  {
   "cell_type": "code",
   "execution_count": null,
   "metadata": {},
   "outputs": [],
   "source": [
    "# doc_tokens = get_doc_tokens(litbank_data[corr_doc_idx][\"sentences\"])\n",
    "# print(doc_tokens[within_doc_idx - 5: within_doc_idx + 5])"
   ]
  },
  {
   "cell_type": "code",
   "execution_count": null,
   "metadata": {},
   "outputs": [],
   "source": [
    "# import matplotlib.pyplot as plt\n",
    "\n",
    "# a = plt.hist(chain_spread, bins=[0, 100, 200, 300, 500, 1000, 1500, 2000, 2500, 3000, 3500])\n",
    "# plt.xlabel(\"Width of Coref Chains\")\n",
    "# plt.savefig(\"/home/shtoshni/Research/litbank_coref/figs/cluster_spread.jpg\", dpi=300)"
   ]
  }
 ],
 "metadata": {
  "kernelspec": {
   "display_name": "Python [conda env:coref] *",
   "language": "python",
   "name": "conda-env-coref-py"
  },
  "language_info": {
   "codemirror_mode": {
    "name": "ipython",
    "version": 3
   },
   "file_extension": ".py",
   "mimetype": "text/x-python",
   "name": "python",
   "nbconvert_exporter": "python",
   "pygments_lexer": "ipython3",
   "version": "3.6.10"
  }
 },
 "nbformat": 4,
 "nbformat_minor": 4
}
