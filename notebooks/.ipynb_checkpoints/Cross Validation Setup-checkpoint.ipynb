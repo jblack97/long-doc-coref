{
 "cells": [
  {
   "cell_type": "code",
   "execution_count": 58,
   "metadata": {},
   "outputs": [],
   "source": [
    "import os\n",
    "import json\n",
    "from collections import defaultdict, OrderedDict\n",
    "from os import path\n",
    "import numpy as np\n",
    "import glob"
   ]
  },
  {
   "cell_type": "code",
   "execution_count": 59,
   "metadata": {},
   "outputs": [],
   "source": [
    "tenfold_path = \"/home/shtoshni/Research/litbank_coref/lrec2020-coref/data/litbank_tenfold_splits\"\n",
    "max_segment_len = 350"
   ]
  },
  {
   "cell_type": "code",
   "execution_count": 60,
   "metadata": {},
   "outputs": [],
   "source": [
    "split_to_files = OrderedDict()\n",
    "# split_to_conll_files = OrderedDict()\n",
    "\n",
    "for split_idx in range(0, 10):\n",
    "    split_to_files[split_idx] = {}\n",
    "    split_to_conll_files[split_idx] = {}\n",
    "    split_dir = path.join(tenfold_path, str(split_idx))\n",
    "    for data_split in ['train', 'dev', 'test']:\n",
    "        split_to_files[split_idx][data_split] = []\n",
    "        # Open the file and store the file ids\n",
    "        id_file = path.join(split_dir, data_split + \".ids\")\n",
    "        with open(id_file) as f:\n",
    "            for line in f:\n",
    "                story_name = line.strip().split(\".tsv\")[0]\n",
    "                split_to_files[split_idx][data_split].append(story_name)\n",
    "                \n",
    "        split_to_conll_files[split_idx][data_split] = \"\"\n",
    "#         conll_file = path.join(split_dir, data_split + \".conll\")\n",
    "#         with open(conll_file) as f:\n",
    "#             for line in f:\n",
    "#                 split_to_conll_files[split_idx][data_split] += line"
   ]
  },
  {
   "cell_type": "code",
   "execution_count": 61,
   "metadata": {},
   "outputs": [
    {
     "name": "stdout",
     "output_type": "stream",
     "text": [
      "['940_the_last_of_the_mohicans_a_narrative_of_1757_brat', '60_the_scarlet_pimpernel_brat', '208_daisy_miller_a_study_brat', '351_of_human_bondage_brat', '2814_dubliners_brat', '158_emma_brat', '44_the_song_of_the_lark_brat', '6053_evelina_or_the_history_of_a_young_ladys_entrance_into_the_world_brat', '15265_the_quest_of_the_silver_fleece_a_novel_brat', '768_wuthering_heights_brat']\n"
     ]
    }
   ],
   "source": [
    "# Check\n",
    "print(split_to_files[0]['dev'])"
   ]
  },
  {
   "cell_type": "code",
   "execution_count": 62,
   "metadata": {},
   "outputs": [],
   "source": [
    "def load_data(jsonline_file):\n",
    "    data = {}\n",
    "    with open(jsonline_file) as f:\n",
    "        for line in f:\n",
    "            cur_line = json.loads(line.strip())\n",
    "            data[cur_line[\"doc_key\"]] = cur_line\n",
    "            \n",
    "    return data"
   ]
  },
  {
   "cell_type": "code",
   "execution_count": 63,
   "metadata": {},
   "outputs": [],
   "source": [
    "# Now get your \"ALL\" data files and create these directories for them\n",
    "\n",
    "# We're first doing it for the autoregressive stuff\n",
    "base_dir = \"/home/shtoshni/Research/litbank_coref/data/autoregressive\"\n",
    "all_files = glob.glob(base_dir + \"/all*.{}.jsonlines\".format(max_segment_len))\n",
    "\n",
    "# Create segment directory\n",
    "segment_dir = path.join(base_dir, str(max_segment_len))\n",
    "if not path.exists(segment_dir):\n",
    "    os.makedirs(segment_dir)\n",
    "    \n",
    "for cell_file in all_files:\n",
    "    cell_data = load_data(cell_file)  # Dictionary of file name to dictionary containing info\n",
    "    file_name = path.basename(cell_file)  # all.cell_X.jsonlines\n",
    "    cell_num = file_name.split(\".\")[1].split(\"_\")[1]  # X\n",
    "    \n",
    "    cell_dir = path.join(segment_dir, \"cell_\" + cell_num)\n",
    "    if not path.exists(cell_dir):\n",
    "        os.makedirs(cell_dir)\n",
    "    \n",
    "    for split_idx in range(0, 10):\n",
    "        cell_split_dir =  path.join(cell_dir, str(split_idx))\n",
    "        if not path.exists(cell_split_dir):\n",
    "            os.makedirs(cell_split_dir)\n",
    "        for data_split in ['train', 'dev', 'test']:\n",
    "            data_split_file = path.join(cell_split_dir, data_split + \".jsonlines\")\n",
    "            with open(data_split_file, 'w') as f:\n",
    "                for file_name in split_to_files[split_idx][data_split]:\n",
    "                    f.write(json.dumps(cell_data[file_name]) + \"\\n\")\n",
    "                    \n",
    "#             conll_split_file = path.join(cell_split_dir, data_split + \".conll\")\n",
    "#             with open(conll_split_file, 'w') as f:\n",
    "#                 for line in split_to_conll_files[split_idx][data_split]:\n",
    "#                     f.write(line)"
   ]
  }
 ],
 "metadata": {
  "kernelspec": {
   "display_name": "Python [conda env:coref]",
   "language": "python",
   "name": "conda-env-coref-py"
  },
  "language_info": {
   "codemirror_mode": {
    "name": "ipython",
    "version": 3
   },
   "file_extension": ".py",
   "mimetype": "text/x-python",
   "name": "python",
   "nbconvert_exporter": "python",
   "pygments_lexer": "ipython3",
   "version": "3.6.10"
  }
 },
 "nbformat": 4,
 "nbformat_minor": 4
}
