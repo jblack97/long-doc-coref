{
 "cells": [
  {
   "cell_type": "code",
   "execution_count": 5,
   "metadata": {},
   "outputs": [],
   "source": [
    "import torch\n",
    "import os\n",
    "import json\n",
    "import glob\n",
    "from collections import defaultdict, OrderedDict\n",
    "from os import path\n",
    "import matplotlib.pyplot as plt\n",
    "import numpy as np"
   ]
  },
  {
   "cell_type": "code",
   "execution_count": 22,
   "metadata": {},
   "outputs": [],
   "source": [
    "log_dir = \"/home/shtoshni/Research/litbank_coref/data/archive/logs\"\n",
    "\n",
    "if not path.exists(log_dir):\n",
    "    os.makedirs(log_dir)"
   ]
  },
  {
   "cell_type": "code",
   "execution_count": 25,
   "metadata": {},
   "outputs": [],
   "source": [
    "def get_mention_stats(train_file):\n",
    "    train_instances = []\n",
    "    with open(train_file) as f:\n",
    "        for line in f:\n",
    "            line = line.strip()\n",
    "            instance = json.loads(line)\n",
    "            train_instances.append(instance)\n",
    "\n",
    "    mention_lens = []\n",
    "    doc_lens = []\n",
    "    chain_lens = []\n",
    "    num_mentions_to_doc_lens =  []\n",
    "    \n",
    "    for instance in train_instances:\n",
    "        doc_lens.append(len(instance[\"subtoken_map\"]))\n",
    "\n",
    "        clusters = instance[\"clusters\"]\n",
    "        num_mentions = sum([len(cluster) for cluster in clusters])\n",
    "        doc_len = len(instance[\"sentence_map\"])\n",
    "        \n",
    "        num_mentions_to_doc_lens.append(num_mentions/doc_len)\n",
    "        \n",
    "        for mention_list in clusters:\n",
    "            chain_lens.append(len(mention_list))\n",
    "            for (start_idx, end_idx) in mention_list:\n",
    "                mention_lens.append(end_idx - start_idx + 1)\n",
    "\n",
    "    fig, ax = plt.subplots(tight_layout=True)\n",
    "    ax.hist(mention_lens)\n",
    "\n",
    "    print(\"# of docs: {}\".format(len(train_instances)))\n",
    "    print(\"# of mentions: {}\".format(len(mention_lens)))\n",
    "    print(\"Mean length: {:.3f}\".format(np.mean(mention_lens)))\n",
    "    \n",
    "    \n",
    "    for percentile in [50, 75, 90, 95, 99, 99.5, 99.6, 99.7, 99.8, 99.9, 100]:\n",
    "        print(\"Percentile: {}, Length: {:.3f}\".format(percentile, np.percentile(mention_lens, percentile)))\n",
    "        \n",
    "    for percentile in [50, 75, 90, 95, 99, 99.5, 99.6, 99.7, 99.8, 99.9, 100]:\n",
    "        print(\"Percentile: {}, Length: {:.3f}\".format(percentile, np.percentile(num_mentions_to_doc_lens, percentile)))"
   ]
  },
  {
   "cell_type": "code",
   "execution_count": 26,
   "metadata": {},
   "outputs": [
    {
     "name": "stdout",
     "output_type": "stream",
     "text": [
      "# of docs: 80\n",
      "# of mentions: 23218\n",
      "Mean length: 2.308\n",
      "Percentile: 50, Length: 1.000\n",
      "Percentile: 75, Length: 2.000\n",
      "Percentile: 90, Length: 5.000\n",
      "Percentile: 95, Length: 7.000\n",
      "Percentile: 99, Length: 17.000\n",
      "Percentile: 99.5, Length: 24.000\n",
      "Percentile: 99.6, Length: 27.000\n",
      "Percentile: 99.7, Length: 30.000\n",
      "Percentile: 99.8, Length: 36.000\n",
      "Percentile: 99.9, Length: 46.000\n",
      "Percentile: 100, Length: 98.000\n"
     ]
    },
    {
     "data": {
      "image/png": "[encoded data removed]",
      "text/plain": [
       "<Figure size 432x288 with 1 Axes>"
      ]
     },
     "metadata": {
      "needs_background": "light"
     },
     "output_type": "display_data"
    }
   ],
   "source": [
    "data_dir = \"/home/shtoshni/Research/litbank_coref/data/litbank/independent/0\"\n",
    "train_file = path.join(data_dir, \"train.512.jsonlines\")\n",
    "get_mention_stats(train_file)"
   ]
  },
  {
   "cell_type": "code",
   "execution_count": 28,
   "metadata": {},
   "outputs": [
    {
     "name": "stdout",
     "output_type": "stream",
     "text": [
      "# of docs: 2802\n",
      "# of mentions: 155558\n",
      "Mean length: 2.684\n",
      "Percentile: 50, Length: 1.000\n",
      "Percentile: 75, Length: 3.000\n",
      "Percentile: 90, Length: 5.000\n",
      "Percentile: 95, Length: 9.000\n",
      "Percentile: 99, Length: 20.000\n",
      "Percentile: 99.5, Length: 25.000\n",
      "Percentile: 99.6, Length: 27.000\n",
      "Percentile: 99.7, Length: 30.000\n",
      "Percentile: 99.8, Length: 33.000\n",
      "Percentile: 99.9, Length: 40.000\n",
      "Percentile: 100, Length: 117.000\n"
     ]
    },
    {
     "data": {
      "image/png": "[encoded data removed]",
      "text/plain": [
       "<Figure size 432x288 with 1 Axes>"
      ]
     },
     "metadata": {
      "needs_background": "light"
     },
     "output_type": "display_data"
    }
   ],
   "source": [
    "data_dir = \"/home/shtoshni/Research/litbank_coref/data/ontonotes/independent\"\n",
    "train_file = path.join(data_dir, \"train.512.jsonlines\")\n",
    "get_mention_stats(train_file)"
   ]
  }
 ],
 "metadata": {
  "kernelspec": {
   "display_name": "Python [conda env:coref] *",
   "language": "python",
   "name": "conda-env-coref-py"
  },
  "language_info": {
   "codemirror_mode": {
    "name": "ipython",
    "version": 3
   },
   "file_extension": ".py",
   "mimetype": "text/x-python",
   "name": "python",
   "nbconvert_exporter": "python",
   "pygments_lexer": "ipython3",
   "version": "3.6.10"
  }
 },
 "nbformat": 4,
 "nbformat_minor": 4
}
