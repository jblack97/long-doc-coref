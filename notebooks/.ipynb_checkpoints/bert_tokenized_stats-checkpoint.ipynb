{
 "cells": [
  {
   "cell_type": "code",
   "execution_count": 34,
   "metadata": {},
   "outputs": [],
   "source": [
    "import torch\n",
    "import os\n",
    "import json\n",
    "import glob\n",
    "from collections import defaultdict, OrderedDict\n",
    "from os import path\n",
    "import matplotlib.pyplot as plt\n",
    "import numpy as np"
   ]
  },
  {
   "cell_type": "code",
   "execution_count": 35,
   "metadata": {},
   "outputs": [],
   "source": [
    "data_dir = \"/home/shtoshni/Research/litbank_coref/data\"\n",
    "log_dir = path.join(data_dir, \"logs\")\n",
    "\n",
    "if not path.exists(log_dir):\n",
    "    os.makedirs(log_dir)\n",
    "    \n",
    "train_file = path.join(data_dir, \"train.512.jsonl\")"
   ]
  },
  {
   "cell_type": "code",
   "execution_count": 36,
   "metadata": {},
   "outputs": [],
   "source": [
    "train_instances = []\n",
    "with open(train_file) as f:\n",
    "    for line in f:\n",
    "        line = line.strip()\n",
    "        instance = json.loads(line)\n",
    "        train_instances.append(instance)"
   ]
  },
  {
   "cell_type": "code",
   "execution_count": 44,
   "metadata": {},
   "outputs": [],
   "source": [
    "mention_lens = []\n",
    "doc_lens = []\n",
    "chain_lens = []\n",
    "for instance in train_instances:\n",
    "    doc_lens.append(len(instance[\"subtoken_map\"]))\n",
    "    \n",
    "    clusters = instance[\"clusters\"]\n",
    "    for mention_list in clusters:\n",
    "        chain_lens.append(len(mention_list))\n",
    "        for (start_idx, end_idx) in mention_list:\n",
    "            mention_lens.append(end_idx - start_idx)"
   ]
  },
  {
   "cell_type": "code",
   "execution_count": 38,
   "metadata": {},
   "outputs": [
    {
     "data": {
      "text/plain": [
       "(array([2.246e+04, 1.250e+02, 2.600e+01, 1.100e+01, 2.000e+00, 4.000e+00,\n",
       "        0.000e+00, 0.000e+00, 0.000e+00, 1.000e+00]),\n",
       " array([  1. ,  16.4,  31.8,  47.2,  62.6,  78. ,  93.4, 108.8, 124.2,\n",
       "        139.6, 155. ]),\n",
       " <a list of 10 Patch objects>)"
      ]
     },
     "execution_count": 38,
     "metadata": {},
     "output_type": "execute_result"
    },
    {
     "data": {
      "image/png": "[encoded data removed]",
      "text/plain": [
       "<Figure size 432x288 with 1 Axes>"
      ]
     },
     "metadata": {
      "needs_background": "light"
     },
     "output_type": "display_data"
    }
   ],
   "source": [
    "fig, ax = plt.subplots(tight_layout=True)\n",
    "\n",
    "ax.hist(mention_lens)"
   ]
  },
  {
   "cell_type": "code",
   "execution_count": 41,
   "metadata": {},
   "outputs": [],
   "source": [
    "with open(path.join(log_dir, \"mentions.log\"), \"w\") as f:\n",
    "    f.write(\"# of docs: {}\\n\\n\".format(len(train_instances)))\n",
    "    f.write(\"# of mentions: {}\\n\".format(len(mention_lens)))\n",
    "    f.write(\"Mean length: {:.3f}\\n\\n\".format(np.mean(mention_lens)))\n",
    "    for percentile in [50, 75, 90, 95, 99, 99.5, 99.6, 99.7, 99.8, 99.9, 100]:\n",
    "        f.write(\"Percentile: {}, Length: {:.3f}\\n\".format(percentile, np.percentile(mention_lens, percentile)))"
   ]
  },
  {
   "cell_type": "code",
   "execution_count": 46,
   "metadata": {},
   "outputs": [],
   "source": [
    "with open(path.join(log_dir, \"coref_chains.log\"), \"w\") as f:\n",
    "    f.write(\"# of docs: {}\\n\\n\".format(len(train_instances)))\n",
    "    f.write(\"# of coref chains: {}\\n\".format(len(chain_lens)))\n",
    "    f.write(\"Mean length: {:.3f}\\n\\n\".format(np.mean(chain_lens)))\n",
    "    for percentile in [50, 75, 90, 95, 99, 99.5, 99.6, 99.7, 99.8, 99.9, 100]:\n",
    "        f.write(\"Percentile: {}, Length: {:.3f}\\n\".format(percentile, np.percentile(chain_lens, percentile)))"
   ]
  },
  {
   "cell_type": "code",
   "execution_count": null,
   "metadata": {},
   "outputs": [],
   "source": [
    "with open(path.join(log_dir, \"docs.log\"), \"w\") as f:\n",
    "    f.write(\"# of docs: {}\\n\\n\".format(len(train_instances)))\n",
    "    f.write(\"Mean length: {:.3f}\\n\\n\".format(np.mean(doc_lens)))\n",
    "    for percentile in [50, 75, 90, 95, 99, 99.5, 99.6, 99.7, 99.8, 99.9, 100]:\n",
    "        f.write(\"Percentile: {}, Length: {:.3f}\\n\".format(percentile, np.percentile(chain_lens, percentile)))"
   ]
  }
 ],
 "metadata": {
  "kernelspec": {
   "display_name": "Python [conda env:coref] *",
   "language": "python",
   "name": "conda-env-coref-py"
  },
  "language_info": {
   "codemirror_mode": {
    "name": "ipython",
    "version": 3
   },
   "file_extension": ".py",
   "mimetype": "text/x-python",
   "name": "python",
   "nbconvert_exporter": "python",
   "pygments_lexer": "ipython3",
   "version": "3.6.10"
  }
 },
 "nbformat": 4,
 "nbformat_minor": 4
}
