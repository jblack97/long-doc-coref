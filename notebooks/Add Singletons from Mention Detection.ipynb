{
 "cells": [
  {
   "cell_type": "code",
   "execution_count": 19,
   "metadata": {},
   "outputs": [],
   "source": [
    "import json\n",
    "from os import path\n",
    "import sys\n",
    "\n",
    "sys.path.append('/home/shtoshni/Research/long-doc-coref/src')\n",
    "\n",
    "from copy import deepcopy\n",
    "\n",
    "from coref_utils.utils import get_mention_to_cluster_idx, remove_singletons"
   ]
  },
  {
   "cell_type": "code",
   "execution_count": 18,
   "metadata": {},
   "outputs": [],
   "source": [
    "log_file = \"/home/shtoshni/Research/long-doc-coref/models/umem_singleton_round_2/train.log.jsonl\"\n",
    "base_output_dir = \"/home/shtoshni/Research/litbank_coref/data/ontonotes/overlap_ment_singletons\"\n",
    "\n",
    "num_singletons_list = [30 * 1e3, 60 * 1e3, 90 * 1e3, 120 * 1e3, 150 * 1e3]"
   ]
  },
  {
   "cell_type": "code",
   "execution_count": 16,
   "metadata": {},
   "outputs": [],
   "source": [
    "data = []\n",
    "with open(log_file) as f:\n",
    "    for line in f:\n",
    "        instance = json.loads(line.strip())\n",
    "        data.append(instance)\n",
    "\n",
    "data = remove_singletons(data)\n",
    "\n",
    "other_mentions = []\n",
    "\n",
    "for instance in data:\n",
    "    doc_key = instance[\"doc_key\"]\n",
    "    gt_mentions = get_mention_to_cluster_idx(instance[\"clusters\"])\n",
    "    pred_mentions = instance[\"pred_mentions\"]\n",
    "    mention_scores = instance[\"mention_scores\"]\n",
    "    for pred_mention, mention_score in zip(pred_mentions, mention_scores):\n",
    "        if tuple(pred_mention) not in gt_mentions:\n",
    "            other_mentions.append((mention_score, doc_key, pred_mention))\n",
    "            \n",
    "            \n",
    "other_mentions = sorted(other_mentions, key=lambda x: x[0], reverse=True)"
   ]
  },
  {
   "cell_type": "code",
   "execution_count": 17,
   "metadata": {},
   "outputs": [
    {
     "name": "stdout",
     "output_type": "stream",
     "text": [
      "282923\n"
     ]
    }
   ],
   "source": [
    "print(len(other_mentions))"
   ]
  },
  {
   "cell_type": "code",
   "execution_count": 25,
   "metadata": {},
   "outputs": [
    {
     "name": "stdout",
     "output_type": "stream",
     "text": [
      "/home/shtoshni/Research/litbank_coref/data/ontonotes/overlap_ment_singletons_30K\n",
      "/home/shtoshni/Research/litbank_coref/data/ontonotes/overlap_ment_singletons_60K\n",
      "/home/shtoshni/Research/litbank_coref/data/ontonotes/overlap_ment_singletons_90K\n",
      "/home/shtoshni/Research/litbank_coref/data/ontonotes/overlap_ment_singletons_120K\n",
      "/home/shtoshni/Research/litbank_coref/data/ontonotes/overlap_ment_singletons_150K\n"
     ]
    }
   ],
   "source": [
    "for num_singletons in num_singletons_list:\n",
    "    output_dir = f'{base_output_dir}_{int(num_singletons/1000)}K'\n",
    "    if not path.exists(output_dir):\n",
    "        os.makedirs(output_dir)\n",
    "    \n",
    "    singleton_clusters = \n",
    "    for _, doc_key, mention in other_mentions[:num_singletons]:\n",
    "    \n",
    "    \n",
    "    data_copy = deepcopy(data)\n",
    "    "
   ]
  }
 ],
 "metadata": {
  "kernelspec": {
   "display_name": "Python [conda env:coref] *",
   "language": "python",
   "name": "conda-env-coref-py"
  },
  "language_info": {
   "codemirror_mode": {
    "name": "ipython",
    "version": 3
   },
   "file_extension": ".py",
   "mimetype": "text/x-python",
   "name": "python",
   "nbconvert_exporter": "python",
   "pygments_lexer": "ipython3",
   "version": "3.6.10"
  }
 },
 "nbformat": 4,
 "nbformat_minor": 4
}
