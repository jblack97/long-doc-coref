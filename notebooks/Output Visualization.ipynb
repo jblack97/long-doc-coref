{
 "cells": [
  {
   "cell_type": "code",
   "execution_count": 5,
   "metadata": {},
   "outputs": [],
   "source": [
    "import torch\n",
    "import os\n",
    "import json\n",
    "import glob\n",
    "from collections import defaultdict\n",
    "from os import path"
   ]
  },
  {
   "cell_type": "code",
   "execution_count": 6,
   "metadata": {},
   "outputs": [],
   "source": [
    "input_file = \"/home/shtoshni/Research/litbank_coref/models/autoreg_1f2db3b0aa2b27afa7c0a73ef4397bc7/dev.log.jsonl\"\n",
    "output_dir = path.join(path.dirname(input_file), \"output_logs\")\n",
    "\n",
    "if not path.exists(output_dir):\n",
    "    os.makedirs(output_dir)"
   ]
  },
  {
   "cell_type": "code",
   "execution_count": 9,
   "metadata": {},
   "outputs": [],
   "source": [
    "HTML_START = '<!DOCTYPE html><html lang=\"en\"><head><meta charset=\"UTF-8\"></head><body>'\n",
    "\n",
    "\n",
    "gt_tag = '<div style=\"border:2px; display:inline; border-style: solid; border-color: green; padding: {}px; padding-right: 3px; padding-left: 3px\">'\n",
    "gt_tag_single = '<div style=\"border:2px; display:inline; border-style: dotted; border-color: green; padding: {}px; padding-right: 3px; padding-left: 3px\">'\n",
    "\n",
    "pred_tag = '<div style=\"border:2px; display:inline; border-style: solid; border-color: #FF69B4; padding: {}px; padding-right: 3px; padding-left: 3px\">'\n",
    "pred_tag_single = '<div style=\"border:2px; display:inline; border-style: dotted; border-color: #FF69B4; padding: {}px; padding-right: 3px; padding-left: 3px\">'\n",
    "\n",
    "\n",
    "end_tag = '</div>'\n",
    "\n",
    "largest_padding = 14\n",
    "padding_reduction = 2.5"
   ]
  },
  {
   "cell_type": "code",
   "execution_count": 11,
   "metadata": {},
   "outputs": [
    {
     "name": "stdout",
     "output_type": "stream",
     "text": [
      "['CHAPTER', '1', '“', 'Mine', 'ear', 'is', 'open', ',', 'and', 'my', 'heart', 'prepared', ':', 'The', 'worst', 'is', 'word', '##ly', 'loss', 'thou', 'cans', '##t', 'un', '##fold', ':', '-', '-', 'Say', ',', 'is', 'my', 'kingdom', 'lost', '?', '”', '-', '-', 'Shakespeare', 'It', 'was', 'a', 'feature', 'peculiar', 'to', 'the', 'colonial', 'wars', 'of', 'North', 'America', ',', 'that', 'the', 'to', '##ils', 'and', 'dangers', 'of', 'the', 'wilderness', 'were', 'to', 'be', 'encountered', 'before', 'the', 'adverse', 'hosts', 'could', 'meet', '.', 'A', 'wide', 'and', 'apparently', 'an', 'imp', '##er', '##vious', 'boundary', 'of', 'forests', 'severed', 'the', 'possessions', 'of', 'the', 'hostile', 'provinces', 'of', 'France', 'and', 'England', '.', 'The', 'hard', '##y', 'co', '##lon', '##ist', ',', 'and', 'the', 'trained', 'European', 'who', 'fought', 'at', 'his', 'side', ',', 'frequently', 'ex', '##pen', '##ded', 'months', 'in', 'struggling', 'against', 'the', 'rapid', '##s', 'of', 'the', 'streams', ',', 'or', 'in', 'effect', '##ing', 'the', 'rugged', 'passes', 'of', 'the', 'mountains', ',', 'in', 'quest', 'of', 'an', 'opportunity', 'to', 'exhibit', 'their', 'courage', 'in', 'a', 'more', 'martial', 'conflict', '.', 'But', ',', 'em', '##ulating', 'the', 'patience', 'and', 'self', '-', 'denial', 'of', 'the', 'practiced', 'native', 'warriors', ',', 'they', 'learned', 'to', 'overcome', 'every', 'difficulty', ';', 'and', 'it', 'would', 'seem', 'that', ',', 'in', 'time', ',', 'there', 'was', 'no', 're', '##cess', 'of', 'the', 'woods', 'so', 'dark', ',', 'nor', 'any', 'secret', 'place', 'so', 'lovely', ',', 'that', 'it', 'might', 'claim', 'exemption', 'from', 'the', 'in', '##roads', 'of', 'those', 'who', 'had', 'pledged', 'their', 'blood', 'to', 'sat', '##iate', 'their', 'vengeance', ',', 'or', 'to', 'up', '##hold', 'the', 'cold', 'and', 'selfish', 'policy', 'of', 'the', 'distant', 'monarch', '##s', 'of', 'Europe', '.', 'Perhaps', 'no', 'district', 'throughout', 'the', 'wide', 'extent', 'of', 'the', 'intermediate', 'frontier', '##s', 'can', 'fur', '##nish', 'a', 'live', '##lier', 'picture', 'of', 'the', 'cruelty', 'and', 'fierce', '##ness', 'of', 'the', 'savage', 'warfare', 'of', 'those', 'periods', 'than', 'the', 'country', 'which', 'lies', 'between', 'the', 'head', 'waters', 'of', 'the', 'Hudson', 'and', 'the', 'adjacent', 'lakes', '.', 'The', 'facilities', 'which', 'nature', 'had', 'there', 'offered', 'to', 'the', 'march', 'of', 'the', 'combat', '##ants', 'were', 'too', 'obvious', 'to', 'be', 'neglected', '.', 'The', 'length', '##ened', 'sheet', 'of', 'the', 'Cha', '##mp', '##lain', 'stretched', 'from', 'the', 'frontier', '##s', 'of', 'Canada', ',', 'deep', 'within', 'the', 'borders', 'of', 'the', 'neighboring', 'province', 'of', 'New', 'York', ',', 'forming', 'a', 'natural', 'passage', 'across', 'half', 'the', 'distance', 'that', 'the', 'French', 'were', 'compelled', 'to', 'master', 'in', 'order', 'to', 'strike', 'their', 'enemies', '.', 'Near', 'its', 'southern', 'termination', ',', 'it', 'received', 'the', 'contributions', 'of', 'another', 'lake', ',', 'whose', 'waters', 'were', 'so', 'limp', '##id', 'as', 'to', 'have', 'been', 'exclusively', 'selected', 'by', 'the', 'Jesuit', 'missionaries', 'missionaries\\n', 'to', 'perform', 'the', 'typical', 'pu', '##rification', 'of', 'baptism', ',', 'and', 'to', 'obtain', 'for', 'it', 'the', 'title', 'of', 'lake', '“', 'du', 'Saint', 'Sa', '##cre', '##ment', '.', '”', 'The', 'less', 'z', '##eal', '##ous', 'English', 'thought', 'they', 'conferred', 'a', 'sufficient', 'honor', 'on', 'its', 'un', '##sul', '##lie', '##d', 'fountain', '##s', ',', 'when', 'they', 'bestowed', 'the', 'name', 'of', 'their', 'reigning', 'prince', ',', 'the', 'second', 'of', 'the', 'house', 'of', 'Hanover', '.', 'The', 'two', 'united', 'to', 'r', '##ob', 'the', 'un', '##tu', '##tore', '##d', 'possess', '##ors', 'of', 'its', 'wooded', 'scenery', 'of', 'their', 'native', 'right', 'to', 'per', '##pet', '##uate', 'its', 'original', 'app', '##ella', '##tion', 'of', '“', 'Ho', '##rica', '##n', '.', '”', '*', '*', 'As', 'each', 'nation', 'of', 'the', 'Indians', 'had', 'its', 'language', 'or', 'its', 'dialect', ',', 'they', 'usually', 'gave', 'different', 'names', 'to', 'the', 'same', 'places', ',', 'though', 'nearly', 'all', 'of', 'their', 'app', '##ella', '##tions', 'were', 'descriptive', 'of', 'the', 'object', '.', 'Thus', 'a', 'literal', 'translation', 'of', 'the', 'name', 'of', 'this', 'beautiful', 'sheet', 'of', 'water', ',', 'used', 'by', 'the', 'tribe', 'that', 'd', '##we', '##lt', 'on', 'its', 'banks', ',', 'would', 'be', '“', 'The', 'Tai', '##l', 'of', 'the', 'Lake', '.', '”', 'Lake', 'George', ',', 'as', 'it', 'is', 'v', '##ul', '##gar', '##ly', ',', 'and', 'now', ',', 'indeed', ',', 'legally', ',', 'called', ',', 'forms', 'a', 'sort', 'of', 'tail', 'to', 'Lake', 'Cha', '##mp', '##lain', ',', 'when', 'viewed', 'on', 'the', 'map', '.', 'Hence', ',', 'the', 'name', '.', 'Wind', '##ing', 'its', 'way', 'among', 'countless', 'islands', ',', 'and', 'im', '##bed', '##ded', 'in', 'mountains', ',', 'the', '“', 'holy', 'lake', '”', 'extended', 'a', 'dozen', 'leagues', 'still', 'further', 'to', 'the', 'south', '.', 'With', 'the', 'high', 'plain', 'that', 'there', 'inter', '##posed', 'itself', 'to', 'the', 'further', 'passage', 'of', 'the', 'water', ',', 'commenced', 'a', 'port', '##age', 'of', 'as', 'many', 'miles', ',', 'which', 'conducted', 'the', 'adventure', '##r', 'to', 'the', 'banks', 'banks\\n', 'of', 'the', 'Hudson', ',', 'at', 'a', 'point', 'where', ',', 'with', 'the', 'usual', 'o', '##bs', '##truction', '##s', 'of', 'the', 'rapid', '##s', ',', 'or', 'rift', '##s', ',', 'as', 'they', 'were', 'then', 'termed', 'in', 'the', 'language', 'of', 'the', 'country', ',', 'the', 'river', 'became', 'na', '##vi', '##gable', 'to', 'the', 'tide', '.', 'While', ',', 'in', 'the', 'pursuit', 'of', 'their', 'daring', 'plans', 'of', 'annoyance', ',', 'the', 'restless', 'enterprise', 'of', 'the', 'French', 'even', 'attempted', 'the', 'distant', 'and', 'difficult', 'gorge', '##s', 'of', 'the', 'All', '##eg', '##han', '##y', ',', 'it', 'may', 'easily', 'be', 'imagined', 'that', 'their', 'prove', '##rb', '##ial', 'acute', '##ness', 'would', 'not', 'over', '##look', 'the', 'natural', 'advantages', 'of', 'the', 'district', 'we', 'have', 'just', 'described', '.', 'It', 'became', ',', 'em', '##pha', '##tically', ',', 'the', 'bloody', 'arena', ',', 'in', 'which', 'most', 'of', 'the', 'battles', 'for', 'the', 'master', '##y', 'of', 'the', 'colonies', 'were', 'contested', '.', 'Fort', '##s', 'were', 'erected', 'at', 'the', 'different', 'points', 'that', 'commanded', 'the', 'facilities', 'of', 'the', 'route', ',', 'and', 'were', 'taken', 'and', 're', '##take', '##n', ',', 'r', '##azed', 'and', 'rebuilt', ',', 'as', 'victory', 'al', '##ight', '##ed', 'on', 'the', 'hostile', 'banner', '##s', '.', 'While', 'the', 'husband', '##man', 's', '##hra', '##nk', 'back', 'from', 'the', 'dangerous', 'passes', ',', 'within', 'the', 'safer', 'boundaries', 'of', 'the', 'more', 'ancient', 'settlements', ',', 'armies', 'larger', 'than', 'those', 'that', 'had', 'often', 'disposed', 'of', 'the', 's', '##ce', '##pt', '##ers', 'of', 'the', 'mother', 'countries', ',', 'were', 'seen', 'to', 'bury', 'themselves', 'in', 'these', 'forests', ',', 'when', '##ce', 'they', 'rarely', 'returned', 'but', 'in', 'skeleton', 'bands', ',', 'that', 'were', 'ha', '##gg', '##ard', 'with', 'care', 'or', 'de', '##jected', 'by', 'defeat', '.', 'Though', 'the', 'arts', 'of', 'peace', 'were', 'unknown', 'to', 'this', 'fatal', 'region', ',', 'its', 'forests', 'were', 'alive', 'with', 'men', ';', 'its', 'shades', 'and', 'g', '##len', '##s', 'rang', 'with', 'the', 'sounds', 'of', 'of\\n', 'martial', 'music', ',', 'and', 'the', 'echoes', 'of', 'its', 'mountains', 'threw', 'back', 'the', 'laugh', ',', 'or', 'repeated', 'the', 'want', '##on', 'cry', ',', 'of', 'many', 'a', 'gal', '##lant', 'and', 'reckless', 'youth', ',', 'as', 'he', 'hurried', 'by', 'them', ',', 'in', 'the', 'noon', '##tide', 'of', 'his', 'spirits', ',', 'to', 's', '##lumber', 'in', 'a', 'long', 'night', 'of', 'forget', '##fulness', '.', 'It', 'was', 'in', 'this', 'scene', 'of', 's', '##tri', '##fe', 'and', 'blood', '##shed', 'that', 'the', 'incidents', 'we', 'shall', 'attempt', 'to', 'relate', 'occurred', ',', 'during', 'the', 'third', 'year', 'of', 'the', 'war', 'which', 'England', 'and', 'France', 'last', 'wage', '##d', 'for', 'the', 'possession', 'of', 'a', 'country', 'that', 'neither', 'was', 'destined', 'to', 'retain', '.', 'The', 'im', '##be', '##ci', '##lity', 'of', 'her', 'military', 'leaders', 'abroad', ',', 'and', 'the', 'fatal', 'want', 'of', 'energy', 'in', 'her', 'councils', 'at', 'home', ',', 'had', 'lowered', 'the', 'character', 'of', 'Great', 'Britain', 'from', 'the', 'proud', 'elevation', 'on', 'which', 'it', 'had', 'been', 'placed', 'by', 'the', 'talents', 'and', 'enterprise', 'of', 'her', 'former', 'warriors', 'and', 'states', '##men', '.', 'No', 'longer', 'dread', '##ed', 'by', 'her', 'enemies', ',', 'her', 'servants', 'were', 'fast', 'losing', 'the', 'confidence', 'of', 'self', '-', 'respect', '.', 'In', 'this', 'm', '##ort', '##ifying', 'a', '##base', '##ment', ',', 'the', 'colonists', ',', 'though', 'innocent', 'of', 'her', 'im', '##be', '##ci', '##lity', ',', 'and', 'too', 'humble', 'to', 'be', 'the', 'agents', 'of', 'her', 'b', '##lund', '##ers', ',', 'were', 'but', 'the', 'natural', 'part', '##ici', '##pa', '##tors', '.', 'They', 'had', 'recently', 'seen', 'a', 'chosen', 'army', 'from', 'that', 'country', ',', 'which', ',', 're', '##vere', '##ncing', 'as', 'a', 'mother', ',', 'they', 'had', 'blind', '##ly', 'believed', 'in', '##vin', '##cible', '-', '-', 'an', 'army', 'led', 'by', 'a', 'chief', 'who', 'had', 'been', 'selected', 'from', 'a', 'crowd', 'of', 'trained', 'warriors', ',', 'for', 'his', 'rare', 'military', 'endowment', '##s', ',', 'di', '##s', '##gra', '##ce', '##fully', '##fully\\n', 'routed', 'by', 'a', 'handful', 'of', 'French', 'and', 'Indians', ',', 'and', 'only', 'saved', 'from', 'an', '##ni', '##hil', '##ation', 'by', 'the', 'cool', '##ness', 'and', 'spirit', 'of', 'a', 'Virginia', '##n', 'boy', ',', 'whose', 'ripe', '##r', 'fame', 'has', 'since', 'di', '##ff', '##used', 'itself', ',', 'with', 'the', 'steady', 'influence', 'of', 'moral', 'truth', ',', 'to', 'the', 'utter', '##most', 'con', '##fines', 'of', 'Christ', '##end', '##om', '.', '*', 'A', 'wide', 'frontier', 'had', 'been', 'laid', 'naked', 'by', 'this', 'unexpected', 'disaster', ',', 'and', 'more', 'substantial', 'evil', '##s', 'were', 'preceded', 'by', 'a', 'thousand', 'fan', '##ci', '##ful', 'and', 'imaginary', 'dangers', '.', 'The', 'alarmed', 'colonists', 'believed', 'that', 'the', 'yells', 'of', 'the', 'savage', '##s', 'min', '##gled', 'with', 'every', 'fit', '##ful', 'g', '##ust', 'of', 'wind', 'that', 'issued', 'from', 'the', 'inter', '##mina', '##ble', 'forests', 'of', 'the', 'west', '.', 'The', 'te', '##rri', '##fic', 'character', 'of', 'their', 'me', '##rc', '##iles', '##s', 'enemies', 'increased', 'im', '##me', '##as', '##ura', '##bly', 'the', 'natural', 'horror', '##s', 'of', 'warfare', '.', 'Number', '##less', 'recent', 'massacre', '##s', 'were', 'still', 'vivid', 'in', 'their', 're', '##co', '##lle', '##ctions', ';', 'nor', 'was', 'there', 'any', 'ear', 'in', 'the', 'provinces', 'so', 'deaf', 'as', 'not', 'to', 'have', 'drunk', 'in', 'with', 'avid', '##ity', 'the', 'narrative', 'of', 'some', 'fearful', 'tale', 'of', 'midnight', 'murder', ',', 'in', 'which', 'the', 'natives', 'of', 'the', 'forests', 'were', 'the', 'principal', 'and', 'bar', '##bar', '##ous', 'actors', '.', 'As', 'the', 'c', '##red', '##ulous', 'and', 'excited', 'travel', '##er', 'related', 'the', 'hazardous', 'chances', 'of', 'the', 'wilderness', ',', 'the', 'blood', 'of', 'the', 't', '##im', '##id', 'cu', '##rd', '##led', 'with', 'terror', ',', 'and', 'mothers', 'cast', 'anxious', 'glances', 'even', 'at', 'those', 'children', 'which', 's', '##lumber', '##ed', 'within', 'the', 'security', 'of', 'the', 'largest', 'towns', 'towns\\n', '.', 'In', 'short', ',', 'the', 'ma', '##gni', '##fying', 'influence', 'of', 'fear', 'began', 'to', 'set', 'at', 'na', '##ught', 'the', 'calculations', 'of', 'reason', ',', 'and', 'to', 'render', 'those', 'who', 'should', 'have', 'remembered', 'their', 'man', '##hood', ',', 'the', 'slaves', 'of', 'the', 'bases', '##t', 'passion', '##s', '.', 'Even', 'the', 'most', 'confident', 'and', 'the', 's', '##to', '##utes', '##t', 'hearts', 'began', 'to', 'think', 'the', 'issue', 'of', 'the', 'contest', 'was', 'becoming', 'doubtful', ';', 'and', 'that', 'a', '##bject', 'class', 'was', 'hourly', 'increasing', 'in', 'numbers', ',', 'who', 'thought', 'they', 'fore', '##sa', '##w', 'all', 'the', 'possessions', 'of', 'the', 'English', 'crown', 'in', 'America', 'subdued', 'by', 'their', 'Christian', 'foe', '##s', ',', 'or', 'laid', 'waste', 'by', 'the', 'in', '##roads', 'of', 'their', 'relentless', 'allies', '.', '*', 'Washington', ',', 'who', ',', 'after', 'useless', '##ly', 'ad', '##mon', '##ishing', 'the', 'European', 'general', 'of', 'the', 'danger', 'into', 'which', 'he', 'was', 'he', '##ed', '##lessly', 'running', ',', 'saved', 'the', 'remnants', 'of', 'the', 'British', 'army', ',', 'on', 'this', 'occasion', ',', 'by', 'his', 'decision', 'and', 'courage', '.', 'The', 'reputation', 'earned', 'by', 'Washington', 'in', 'this', 'battle', 'was', 'the', 'principal', 'cause', 'of', 'his', 'being', 'selected', 'to', 'command', 'the', 'American', 'armies', 'at', 'a', 'later', 'day', '.', 'It', 'is', 'a', 'c', '##ir', '##cum', '##stance', 'worthy', 'of', 'observation', ',', 'that', 'while', 'all', 'America', 'rang', 'with', 'his', 'well', '-', 'merit', '##ed', 'reputation', ',', 'his', 'name', 'does', 'not', 'occur', 'in', 'any', 'European', 'account', 'of', 'the', 'battle', ';', 'at', 'least', 'the', 'author', 'has', 'searched', 'for', 'it', 'without', 'success', '.', 'In', 'this', 'manner', 'does', 'the', 'mother', 'country', 'absorb', 'even', 'the', 'fame', ',', 'under', 'that', 'system', 'of', 'rule', '.', 'When', ',', 'therefore', ',', 'intelligence', 'was', 'received', 'at', 'the', 'fort', 'which', 'covered', 'the', 'southern', 'termination', 'of', 'the', 'port', '##age', 'between', 'the', 'Hudson', 'and', 'the', 'lakes', 'lakes\\n', ',', 'that', 'Mont', '##cal', '##m', 'had', 'been', 'seen', 'moving', 'up', 'the', 'Cha', '##mp', '##lain', ',', 'with', 'an', 'army', '“', 'numerous', 'as', 'the', 'leaves', 'on', 'the', 'trees', ',', '”', 'its', 'truth', 'was', 'admitted', 'with', 'more', 'of', 'the', 'c', '##rave', '##n', 'reluctance', 'of', 'fear', 'than', 'with', 'the', 'stern', 'joy', 'that', 'a', 'warrior', 'should', 'feel', ',', 'in', 'finding', 'an', 'enemy', 'within', 'reach', 'of', 'his', 'blow', '.', 'The', 'news', 'had', 'been', 'brought', ',', 'toward', 'the', 'decline', 'of', 'a', 'day', 'in', 'mid', '##su', '##mmer', ',', 'by', 'an', 'Indian', 'runner', ',', 'who', 'also', 'bore', 'an', 'urgent', 'request', 'from', 'Munro', ',', 'the', 'commander', 'of', 'a', 'work', 'on', 'the', 'shore', 'of', 'the', '“', 'holy', 'lake', ',', '”', 'for', 'a', 'speed', '##y', 'and', 'powerful', 'reinforce', '##ment', '.', 'It', 'has', 'already', 'been', 'mentioned', 'that', 'the', 'distance', 'between', 'these', 'two', 'posts', 'was', 'less', 'than', 'five', 'leagues', '.', 'The', 'rude', 'path', ',', 'which', 'originally', 'formed', 'their', 'line', 'of', 'communication', ',', 'had', 'been', 'widened', 'for', 'the', 'passage', 'of', 'wagons', ';', 'so', 'that', 'the', 'distance', 'which', 'had', 'been', 'traveled', 'by', 'the', 'son', 'of', 'the', 'forest', 'in', 'two', 'hours', ',', 'might', 'easily', 'be', 'effect', '##ed', 'by', 'a', 'detachment', 'of', 'troops', ',', 'with', 'their', 'necessary', 'baggage', ',', 'between', 'the', 'rising', 'and', 'setting', 'of', 'a', 'summer', 'sun', '.', 'The', 'loyal', 'servants', 'of', 'the', 'British', 'crown', 'had', 'given', 'to', 'one', 'of', 'these', 'forest', '-', 'fast', '##ness', '##es', 'the', 'name', 'of', 'William', 'Henry', ',', 'and', 'to', 'the', 'other', 'that', 'of', 'Fort', 'Edward', ',', 'calling', 'each', 'after', 'a', 'favorite', 'prince', 'of', 'the', 'reigning', 'family', '.', 'The', 'veteran', 'Scotch', '##man', 'just', 'named', 'held', 'the', 'first', ',', 'with', 'a', 'a\\n', 'regiment', 'of', 'regular', '##s', 'and', 'a', 'few', 'provincial', '##s', ';', 'a', 'force', 'really', 'by', 'far', 'too', 'small', 'to', 'make', 'head', 'against', 'the', 'formidable', 'power', 'that', 'Mont', '##cal', '##m', 'was', 'leading', 'to', 'the', 'foot', 'of', 'his', 'earth', '##en', 'mounds', '.', 'At', 'the', 'latter', ',', 'however', ',', 'lay', 'General', 'Webb', ',', 'who', 'commanded', 'the', 'armies', 'of', 'the', 'king', 'in', 'the', 'northern', 'provinces', ',', 'with', 'a', 'body', 'of', 'more', 'than', 'five', 'thousand', 'men', '.', 'By', 'unit', '##ing', 'the', 'several', 'detachment', '##s', 'of', 'his', 'command', ',', 'this', 'officer', 'might', 'have', 'array', '##ed', 'nearly', 'double', 'that', 'number', 'of', 'combat', '##ants', 'against', 'the', 'enter', '##p', '##rising', 'French', '##man', ',', 'who', 'had', 'ventured', 'so', 'far', 'from', 'his', 'reinforcements', ',', 'with', 'an', 'army', 'but', 'little', 'superior', 'in', 'numbers', '.', 'But', 'under', 'the', 'influence', 'of', 'their', 'de', '##graded', 'fortunes', ',', 'both', 'officers', 'and', 'men', 'appeared', 'better', 'disposed', 'to', 'a', '##wai', '##t', 'the', 'approach', 'of', 'their', 'formidable', 'antagonist', '##s', ',', 'within', 'their', 'works', ',', 'than', 'to', 'resist', 'the', 'progress', 'of', 'their', 'march', ',', 'by', 'em', '##ulating', 'the', 'successful', 'example', 'of', 'the', 'French', 'at', 'Fort', 'du', 'Que', '##s', '##ne', ',', 'and', 'striking', 'a', 'blow', 'on', 'their', 'advance', '.', 'After', 'the', 'first', 'surprise', 'of', 'the', 'intelligence', 'had', 'a', 'little', 'a', '##bate', '##d', ',', 'a', 'rumor', 'was', 'spread', 'through', 'the', 'en', '##tre', '##nched', 'camp', ',', 'which', 'stretched', 'along', 'the', 'margin', 'of', 'the', 'Hudson', ',', 'forming', 'a', 'chain', 'of', 'out', '##works', 'to', 'to\\n', 'the', 'body', 'of', 'the', 'fort', 'itself', ',', 'that', 'a', 'chosen', 'detachment', 'of', 'fifteen', 'hundred', 'men', 'was', 'to', 'depart', ',', 'with', 'the', 'dawn', ',', 'for', 'William', 'Henry', ',', 'the', 'post', 'at', 'the', 'northern', 'ex', '##tre', '##mity', 'of', 'the', 'port', '##age', '.', 'That', 'which', 'at', 'first', 'was', 'only', 'rumor', ',', 'soon', 'became', 'certainty', ',', 'as', 'orders', 'passed', 'from', 'the', 'quarters', 'of', 'the', 'commander', '-', 'in', '-', 'chief', 'to', 'the', 'several', 'corps', 'he', 'had', 'selected', 'for', 'this', 'service', ',', 'to', 'prepare', 'for', 'their', 'speed', '##y', 'departure', '.', 'All', 'doubts', 'as', 'to', 'the', 'intention', 'of', 'Webb', 'now', 'vanished', ',', 'and', 'an', 'hour', 'or', 'two', 'of', 'hurried', 'footsteps', 'and', 'anxious', 'faces', 'succeeded', '.', 'The', 'no', '##vice', 'in', 'the', 'military', 'art', 'flew', 'from', 'point', 'to', 'point', ',', 're', '##tar', '##ding', 'his', 'own', 'preparations', 'by', 'the', 'excess', 'of', 'his', 'violent', 'and', 'somewhat', 'di', '##ste', '##mper', '##ed', 'z', '##eal', ';', 'while', 'the', 'more', 'practiced', 'veteran', 'made', 'his', 'arrangements', 'with', 'a', 'del', '##iber', '##ation', 'that', 's', '##corn', '##ed', 'every', 'appearance', 'of', 'has', '##te', ';', 'though', 'his', 'sober', 'line', '##ament', '##s', 'and', 'anxious', 'eye', 'sufficiently', 'betrayed', 'that', 'he', 'had', 'no', 'very', 'strong', 'professional', 're', '##lish', 'for', 'the', ',', 'as', 'yet', ',', 'un', '##tri', '##ed', 'and', 'dread', '##ed', 'warfare', 'of', 'the', 'wilderness', '.', 'At', 'length', 'the', 'sun', 'set', 'in', 'a', 'flood', 'of', 'glory', ',', 'behind', 'the', 'distant', 'western', 'hills', ',', 'and', 'as', 'darkness', 'drew', 'its', 'veil', 'around', 'the', 'se', '##cluded', 'spot', 'the', 'sounds', 'of', 'preparation', 'diminished', ';', 'the', 'last', 'light', 'finally', 'disappeared', 'from', 'the', 'log', 'cabin', 'of', 'some', 'officer', ';', 'the', 'trees', 'cast', 'their', 'deeper', 'shadows', 'over', 'the', 'mounds', 'and', 'the', 'rip', '##pling', 'stream', ',', 'and', 'a', 'silence', 'soon', 'per', '##vade', '##d', 'the', 'camp', ',', 'as', 'deep', 'as', 'that', 'which', 'reigned', 'in', 'the', 'vast', 'forest', 'by', 'which', 'it', 'was', 'en', '##vir', '##oned', '.', '.\\n']\n"
     ]
    },
    {
     "ename": "ValueError",
     "evalue": "(3, 'pred') is not in list",
     "output_type": "error",
     "traceback": [
      "\u001b[0;31m---------------------------------------------------------------------------\u001b[0m",
      "\u001b[0;31mValueError\u001b[0m                                Traceback (most recent call last)",
      "\u001b[0;32m<ipython-input-11-b4812f49525d>\u001b[0m in \u001b[0;36m<module>\u001b[0;34m\u001b[0m\n\u001b[1;32m     57\u001b[0m \u001b[0;34m\u001b[0m\u001b[0m\n\u001b[1;32m     58\u001b[0m                         tags = [(mentions_processed.index(mention), html_tag, cluster_idx) \n\u001b[0;32m---> 59\u001b[0;31m                                for mention, html_tag, cluster_idx in tags]\n\u001b[0m\u001b[1;32m     60\u001b[0m                         \u001b[0;31m# Sort the tags so as to mimic the stack behavior\u001b[0m\u001b[0;34m\u001b[0m\u001b[0;34m\u001b[0m\u001b[0;34m\u001b[0m\u001b[0m\n\u001b[1;32m     61\u001b[0m                         \u001b[0mtags\u001b[0m \u001b[0;34m=\u001b[0m \u001b[0msorted\u001b[0m\u001b[0;34m(\u001b[0m\u001b[0mtags\u001b[0m\u001b[0;34m,\u001b[0m \u001b[0mkey\u001b[0m\u001b[0;34m=\u001b[0m\u001b[0;32mlambda\u001b[0m \u001b[0mx\u001b[0m\u001b[0;34m:\u001b[0m \u001b[0mx\u001b[0m\u001b[0;34m[\u001b[0m\u001b[0;36m0\u001b[0m\u001b[0;34m]\u001b[0m\u001b[0;34m,\u001b[0m \u001b[0mreverse\u001b[0m\u001b[0;34m=\u001b[0m\u001b[0;32mTrue\u001b[0m\u001b[0;34m)\u001b[0m  \u001b[0;31m# Highest mentions first\u001b[0m\u001b[0;34m\u001b[0m\u001b[0;34m\u001b[0m\u001b[0m\n",
      "\u001b[0;32m<ipython-input-11-b4812f49525d>\u001b[0m in \u001b[0;36m<listcomp>\u001b[0;34m(.0)\u001b[0m\n\u001b[1;32m     57\u001b[0m \u001b[0;34m\u001b[0m\u001b[0m\n\u001b[1;32m     58\u001b[0m                         tags = [(mentions_processed.index(mention), html_tag, cluster_idx) \n\u001b[0;32m---> 59\u001b[0;31m                                for mention, html_tag, cluster_idx in tags]\n\u001b[0m\u001b[1;32m     60\u001b[0m                         \u001b[0;31m# Sort the tags so as to mimic the stack behavior\u001b[0m\u001b[0;34m\u001b[0m\u001b[0;34m\u001b[0m\u001b[0;34m\u001b[0m\u001b[0m\n\u001b[1;32m     61\u001b[0m                         \u001b[0mtags\u001b[0m \u001b[0;34m=\u001b[0m \u001b[0msorted\u001b[0m\u001b[0;34m(\u001b[0m\u001b[0mtags\u001b[0m\u001b[0;34m,\u001b[0m \u001b[0mkey\u001b[0m\u001b[0;34m=\u001b[0m\u001b[0;32mlambda\u001b[0m \u001b[0mx\u001b[0m\u001b[0;34m:\u001b[0m \u001b[0mx\u001b[0m\u001b[0;34m[\u001b[0m\u001b[0;36m0\u001b[0m\u001b[0;34m]\u001b[0m\u001b[0;34m,\u001b[0m \u001b[0mreverse\u001b[0m\u001b[0;34m=\u001b[0m\u001b[0;32mTrue\u001b[0m\u001b[0;34m)\u001b[0m  \u001b[0;31m# Highest mentions first\u001b[0m\u001b[0;34m\u001b[0m\u001b[0;34m\u001b[0m\u001b[0m\n",
      "\u001b[0;31mValueError\u001b[0m: (3, 'pred') is not in list"
     ]
    }
   ],
   "source": [
    "with open(input_file) as f:\n",
    "    for line in f:\n",
    "        instance = json.loads(line.strip())\n",
    "        doc_name = instance[\"doc_key\"]\n",
    "        pred_clusters = instance[\"predicted_clusters\"]\n",
    "        gt_clusters = instance[\"clusters\"]\n",
    "        \n",
    "        document = []\n",
    "        for sentence in instance[\"sentences\"]:\n",
    "            sentence_mod = sentence + [sentence[-1] + \"\\n\"]\n",
    "            document.extend(sentence_mod)\n",
    "        \n",
    "        print(document)\n",
    "        html_tag_list = {}\n",
    "        for cluster_idx, clusters in enumerate(pred_clusters):\n",
    "            for (span_start, span_end) in clusters:\n",
    "                start_tag = pred_tag\n",
    "                if len(clusters) == 1:\n",
    "                    start_tag = pred_tag_single\n",
    "                if span_start not in html_tag_list:\n",
    "                    html_tag_list[span_start] = defaultdict(list)\n",
    "                if span_end not in html_tag_list:\n",
    "                    html_tag_list[span_end] = defaultdict(list)\n",
    "\n",
    "                subscript = 'pred ' + str(cluster_idx)\n",
    "                \n",
    "                mention = (span_end, \"pred\")\n",
    "                html_tag_list[span_start]['start'].append((mention, start_tag, ''))\n",
    "                # Subscript used in end\n",
    "                html_tag_list[span_end]['end'].append((mention, end_tag, subscript))\n",
    "                \n",
    "        for cluster_idx, clusters in enumerate(gt_clusters):\n",
    "            for (span_start, span_end) in clusters:\n",
    "                start_tag = gt_tag\n",
    "                if len(clusters) == 1:\n",
    "                    start_tag = gt_tag_single\n",
    "                if span_start not in html_tag_list:\n",
    "                    html_tag_list[span_start] = defaultdict(list)\n",
    "                if span_end not in html_tag_list:\n",
    "                    html_tag_list[span_end] = defaultdict(list)\n",
    "\n",
    "                subscript = 'gt ' + str(cluster_idx)\n",
    "                \n",
    "                mention = (span_end, \"gt\")\n",
    "                html_tag_list[span_start]['start'].append((mention, start_tag, ''))\n",
    "                # Subscript used in end\n",
    "                html_tag_list[span_end]['end'].append((mention, end_tag, subscript))\n",
    "\n",
    "        \n",
    "        html_string = HTML_START + '<div style=\"line-height: 3\">'\n",
    "        mentions_processed = []\n",
    "        for idx, token in enumerate(document):\n",
    "            if idx in html_tag_list:\n",
    "                for tag_type in ['end', 'start']:\n",
    "                    if tag_type == 'end' and (tag_type in html_tag_list[idx]):\n",
    "                        tags = html_tag_list[idx]['end']\n",
    "\n",
    "                        tags = [(mentions_processed.index(mention), html_tag, cluster_idx) \n",
    "                               for mention, html_tag, cluster_idx in tags]\n",
    "                        # Sort the tags so as to mimic the stack behavior\n",
    "                        tags = sorted(tags, key=lambda x: x[0], reverse=True)  # Highest mentions first\n",
    "                        for mention_idx, html_tag, cluster_info in tags:\n",
    "                            html_string += \"<sub>\" + cluster_info + \"</sub>\" \n",
    "                            html_string += html_tag\n",
    "                            # Since we are deleting the highest indices first, the lower indices are unaffected\n",
    "                            del mentions_processed[mention_idx]\n",
    "\n",
    "                    if tag_type == 'start' and (tag_type in html_tag_list[idx]):\n",
    "                        tags = html_tag_list[idx]['start']\n",
    "                        tags = sorted(tags, key=lambda x: x[0][0], reverse=True)  # Mentions ending last are first\n",
    "                        for mention_id, html_tag, cluster_idx in tags:\n",
    "                            # Add the mention_id to the current list of active mentions\n",
    "                            mentions_processed.append(mention_id)\n",
    "                            padding_val = max(2, largest_padding - len(mentions_processed) * padding_reduction)\n",
    "                            fmted_tag = html_tag.format(padding_val)\n",
    "#                             print(fmted_tag)\n",
    "                            html_string += fmted_tag\n",
    "            html_string += token + \" \"\n",
    "\n",
    "        html_string += \"</div></body></html>\"\n",
    "        html_string = html_string.replace(\"\\n\", \"\\n<br/>\")\n",
    "        with open(path.join(output_dir, doc_name + \".html\"), \"w\") as f:\n",
    "            f.write(html_string)\n",
    "            \n",
    "#         break"
   ]
  }
 ],
 "metadata": {
  "kernelspec": {
   "display_name": "Python [conda env:narrative_10]",
   "language": "python",
   "name": "conda-env-narrative_10-py"
  },
  "language_info": {
   "codemirror_mode": {
    "name": "ipython",
    "version": 3
   },
   "file_extension": ".py",
   "mimetype": "text/x-python",
   "name": "python",
   "nbconvert_exporter": "python",
   "pygments_lexer": "ipython3",
   "version": "3.7.2"
  }
 },
 "nbformat": 4,
 "nbformat_minor": 2
}
