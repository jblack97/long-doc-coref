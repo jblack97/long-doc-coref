{
 "cells": [
  {
   "cell_type": "code",
   "execution_count": 50,
   "metadata": {},
   "outputs": [],
   "source": [
    "import json\n",
    "import os\n",
    "from os import path\n",
    "import sys\n",
    "from collections import defaultdict\n",
    "\n",
    "sys.path.append('/home/shtoshni/Research/long-doc-coref/src')\n",
    "\n",
    "from copy import deepcopy\n",
    "\n",
    "from coref_utils.utils import get_mention_to_cluster_idx, remove_singletons"
   ]
  },
  {
   "cell_type": "code",
   "execution_count": 51,
   "metadata": {},
   "outputs": [],
   "source": [
    "log_file = \"/home/shtoshni/Research/long-doc-coref/models/umem_singleton_round_2/train.log.jsonl\"\n",
    "\n",
    "output_dir = \"/home/shtoshni/Research/litbank_coref/data/ontonotes/ment_singletons\"\n",
    "# output_dir = \"/tmp\""
   ]
  },
  {
   "cell_type": "code",
   "execution_count": 52,
   "metadata": {},
   "outputs": [],
   "source": [
    "data = []\n",
    "with open(log_file) as f:\n",
    "    for line in f:\n",
    "        instance = json.loads(line.strip())\n",
    "        data.append(instance)\n",
    "\n",
    "data = remove_singletons(data)\n",
    "\n",
    "other_mentions = []\n",
    "\n",
    "num_gt_mentions = 0\n",
    "for instance in data:\n",
    "    doc_key = instance[\"doc_key\"]\n",
    "    gt_mentions = get_mention_to_cluster_idx(instance[\"clusters\"])\n",
    "    num_gt_mentions += len(gt_mentions)\n",
    "    pred_mentions = instance[\"pred_mentions\"]\n",
    "    mention_scores = instance[\"mention_scores\"]\n",
    "    for pred_mention, mention_score in zip(pred_mentions, mention_scores):\n",
    "        if tuple(pred_mention) not in gt_mentions:\n",
    "            other_mentions.append((mention_score, doc_key, pred_mention))\n",
    "            \n",
    "            \n",
    "other_mentions = sorted(other_mentions, key=lambda x: x[0], reverse=True)"
   ]
  },
  {
   "cell_type": "code",
   "execution_count": 53,
   "metadata": {},
   "outputs": [
    {
     "name": "stdout",
     "output_type": "stream",
     "text": [
      "282923\n",
      "155558\n"
     ]
    }
   ],
   "source": [
    "print(len(other_mentions))\n",
    "print(num_gt_mentions)"
   ]
  },
  {
   "cell_type": "code",
   "execution_count": 54,
   "metadata": {},
   "outputs": [
    {
     "name": "stdout",
     "output_type": "stream",
     "text": [
      "/tmp/30.jsonlines\n",
      "/tmp/60.jsonlines\n",
      "/tmp/90.jsonlines\n",
      "/tmp/120.jsonlines\n",
      "/tmp/150.jsonlines\n"
     ]
    }
   ],
   "source": [
    "if not path.exists(output_dir):\n",
    "    os.makedirs(output_dir)\n",
    "    \n",
    "\n",
    "\n",
    "for num_mentions in [30 * 1e3, 60 * 1e3, 90 * 1e3, 120 * 1e3, 150 * 1e3]:\n",
    "    singleton_clusters = defaultdict(list)\n",
    "    for _, doc_key, mention in other_mentions[:int(num_mentions)]:\n",
    "        singleton_clusters[doc_key].append([mention])\n",
    "    \n",
    "    ment_file = path.join(output_dir, f'{int(num_mentions/1000)}.jsonlines')\n",
    "    print(ment_file)\n",
    "    \n",
    "    with open(ment_file, 'w') as f:\n",
    "        f.write(json.dumps(singleton_clusters) + \"\\n\")\n",
    "        \n",
    "        \n",
    "    "
   ]
  }
 ],
 "metadata": {
  "kernelspec": {
   "display_name": "Python [conda env:coref]",
   "language": "python",
   "name": "conda-env-coref-py"
  },
  "language_info": {
   "codemirror_mode": {
    "name": "ipython",
    "version": 3
   },
   "file_extension": ".py",
   "mimetype": "text/x-python",
   "name": "python",
   "nbconvert_exporter": "python",
   "pygments_lexer": "ipython3",
   "version": "3.6.10"
  }
 },
 "nbformat": 4,
 "nbformat_minor": 4
}
